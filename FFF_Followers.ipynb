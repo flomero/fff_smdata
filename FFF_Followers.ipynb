{
 "cells": [
  {
   "cell_type": "markdown",
   "metadata": {},
   "source": [
    "# Get Follower Stats for FFF Accounts"
   ]
  },
  {
   "cell_type": "code",
   "execution_count": 1,
   "metadata": {},
   "outputs": [],
   "source": [
    "import requests\n",
    "import re\n",
    "\n",
    "def get_user(url):\n",
    "    re_user = re.findall('https?://(?:www.)?instagram.com/([A-Za-z0-9\\.\\_](?:(?:[A-Za-z0-9\\.\\_]|(?:.(?!.))){0,28}(?:[A-Za-z0-9_\\.\\_]))?)', url)\n",
    "    print(re_user)\n",
    "    user = re_user[0]\n",
    "    return user\n",
    "\n",
    "def get_followers(url):\n",
    "    r = requests.get(url).text\n",
    "    start = '\"edge_followed_by\":{\"count\":'\n",
    "    end = '},\"followed_by_viewer\"'\n",
    "    followers= r[r.find(start)+len(start):r.rfind(end)]\n",
    "    print(followers)\n",
    "    return followers\n"
   ]
  },
  {
   "cell_type": "markdown",
   "metadata": {},
   "source": [
    "Hier werden die Accounts asugelesen:"
   ]
  },
  {
   "cell_type": "code",
   "execution_count": 2,
   "metadata": {},
   "outputs": [
    {
     "name": "stdout",
     "output_type": "stream",
     "text": [
      "['architects4future']\n",
      "1861\n",
      "['artists4future_muenchen']\n",
      "199\n",
      "['artists4future_mv']\n",
      "165\n",
      "['artists4future']\n",
      "182\n",
      "['artistsforfuture']\n",
      "719\n",
      "['christiansforfuture']\n",
      "141\n",
      "['developersforfuture']\n",
      "58\n",
      "['educators4future']\n",
      "13\n",
      "['entrepreneursforfuture']\n",
      "4554\n",
      "['familiesforfuture_bgl']\n",
      "17\n",
      "['farmersforfuture']\n",
      "1504\n",
      "['fffdresden']\n",
      "7970\n",
      "['fffwiesbaden']\n",
      "2728\n",
      "['foresters4future']\n",
      "854\n",
      "['forestersforfuture']\n",
      "4\n",
      "['fridaysforfuture_bonn']\n",
      "10784\n",
      "['fridaysforfuture_duisburg']\n",
      "1346\n",
      "['fridaysforfuture_hannover']\n",
      "14259\n",
      "['fridaysforfuture_heidelberg']\n",
      "6934\n",
      "['fridaysforfuture_hh']\n",
      "24417\n",
      "['fridaysforfuture_ka']\n",
      "6818\n",
      "['fridaysforfuture_muenster']\n",
      "8927\n",
      "['fridaysforfuture.berlin']\n",
      "35606\n",
      "['fridaysforfuture.bielefeld']\n",
      "3947\n",
      "['fridaysforfuture.de']\n",
      "489948\n",
      "['fridaysforfuture.duesseldorf']\n",
      "9890\n",
      "['fridaysforfuture.essen']\n",
      "4594\n",
      "['fridaysforfuture.kn']\n",
      "4560\n",
      "['fridaysforfuture.leipzig']\n",
      "9488\n",
      "['fridaysforfuture.mg']\n",
      "1103\n",
      "['fridaysforfuture.wuppertal']\n",
      "3015\n",
      "['fridaysforfutureffm']\n",
      "13572\n",
      "['fridaysforfuturekoeln']\n",
      "19773\n",
      "['fridaysforfuturemannheim']\n",
      "4187\n",
      "['fridaysforfuturemuenchen']\n",
      "19525\n",
      "['fridaysforfuturenbg']\n",
      "8046\n",
      "['fridaysforfuturestuttgart']\n",
      "14287\n",
      "['grandparents4future.loe']\n",
      "58\n",
      "['healthforfuturebonn']\n",
      "348\n",
      "['healthforfuturedeutschland']\n",
      "1560\n",
      "['healthforfuturegraz']\n",
      "225\n",
      "['healthforfuturehamburg']\n",
      "363\n",
      "['healthforfuturemunich']\n",
      "487\n",
      "['kita_for_future_de']\n",
      "156\n",
      "['mothersforfuture']\n",
      "28\n",
      "['music_4_future']\n",
      "4\n",
      "['music.for.future']\n",
      "1\n",
      "['musicfor_future']\n",
      "204\n",
      "['nerds.for.future']\n",
      "0\n",
      "['paedagogen_for_future']\n",
      "328\n",
      "['parents4future_hannover']\n",
      "492\n",
      "['parents4future_hamburg']\n",
      "637\n",
      "['parents4future_muenchen']\n",
      "1076\n",
      "['parents4future_muenster']\n",
      "499\n",
      "['parents4future_berlin']\n",
      "1760\n",
      "['parents4future.bonn']\n",
      "118\n",
      "['parents4future']\n",
      "29668\n",
      "['parents4futurebielefeld']\n",
      "279\n",
      "['parents4futuredresden']\n",
      "541\n",
      "['parents4futurekarlsruhe']\n",
      "1417\n",
      "['parents4futurenbg']\n",
      "290\n",
      "['parentsforfuture_heidelberg']\n",
      "413\n",
      "['parentsforfuturedortmund']\n",
      "540\n",
      "['physiotherapistsforfuture']\n",
      "185\n",
      "['psychologists4future']\n",
      "1668\n",
      "['psychologistsforfuture']\n",
      "184\n",
      "['s4f_le']\n",
      "502\n",
      "['s4f_muc']\n",
      "813\n",
      "['s4f_tirol_vorarlberg']\n",
      "285\n",
      "['s4f.greifswald']\n",
      "433\n",
      "['s4fsaarland']\n",
      "195\n",
      "['schoolsforfuture.de']\n",
      "499\n",
      "['schoolsforfuture']\n",
      "10\n",
      "['scientists4future_hd']\n",
      "227\n",
      "['scientists4future_muenster']\n",
      "586\n",
      "['scientists4future']\n",
      "40104\n",
      "['scientistsforfuture_gangelt']\n",
      "138\n",
      "['sportsforfuture']\n",
      "1207\n",
      "['students4future_leipzig']\n",
      "1845\n",
      "['students4future.muenster']\n",
      "1091\n",
      "['students4future.muenster']\n",
      "1091\n",
      "['students4future.oldenburg']\n",
      "479\n",
      "['students4future.saar']\n",
      "317\n",
      "['students4futurebhv']\n",
      "110\n",
      "['students4futurekn']\n",
      "888\n",
      "['students4futurekn']\n",
      "888\n",
      "['students4futurepotsdam']\n",
      "97\n",
      "['studentsforfuture__wi']\n",
      "173\n",
      "['studentsforfuture_augsburg']\n",
      "354\n",
      "['studentsforfuture_bamberg']\n",
      "655\n",
      "['studentsforfuture_germany']\n",
      "7618\n",
      "['studentsforfuture_hannover']\n",
      "2011\n",
      "['studentsforfuture_hh']\n",
      "870\n",
      "['studentsforfuture_koeln']\n",
      "1570\n",
      "['studentsforfuture_ku']\n",
      "367\n",
      "['studentsforfuture_mainz']\n",
      "1105\n",
      "['studentsforfuture_wuerzburg']\n",
      "523\n",
      "['studentsforfuture_ymr']\n",
      "251\n",
      "['studentsforfuture.bs']\n",
      "1006\n",
      "['studentsforfuture.bt']\n",
      "573\n",
      "['studentsforfuture.da']\n",
      "558\n",
      "['studentsforfuture.ehb']\n",
      "134\n",
      "['studentsforfuture.erlangen']\n",
      "433\n",
      "['studentsforfuture.essen']\n",
      "407\n",
      "['studentsforfuture.ostfalia']\n",
      "126\n",
      "['studentsforfuturebochum']\n",
      "551\n",
      "['studentsforfutureffm']\n",
      "849\n",
      "['studentsforfuturemuenchen']\n",
      "1583\n",
      "['studentsforfutureunima']\n",
      "181\n",
      "['teachersforfuture_bw']\n",
      "116\n",
      "['teachersforfuture.germany']\n",
      "20683\n",
      "['urbanists4future']\n",
      "101\n",
      "['we4future_camp']\n",
      "782\n",
      "ready\n"
     ]
    }
   ],
   "source": [
    "accounts = open(\"accounts.txt\", \"r\")\n",
    "names = []\n",
    "followers = []\n",
    "\n",
    "\n",
    "for account in accounts:\n",
    "    name = get_user(account)\n",
    "    follower = get_followers(account)\n",
    "    user = [str(name), str(follower)]\n",
    "    names.append(name)\n",
    "    followers.append(follower)\n",
    "print(\"ready\")"
   ]
  },
  {
   "cell_type": "code",
   "execution_count": 7,
   "metadata": {},
   "outputs": [],
   "source": [
    "import json\n",
    "\n",
    "chris = dict(zip(names, followers))\n",
    "f = open(\"chris.json\", \"w\")\n",
    "json.dump(chris, f)\n",
    "f.close()\n"
   ]
  },
  {
   "cell_type": "code",
   "execution_count": 22,
   "metadata": {},
   "outputs": [
    {
     "data": {
      "application/vnd.plotly.v1+json": {
       "config": {
        "plotlyServerURL": "https://plot.ly"
       },
       "data": [
        {
         "type": "bar",
         "x": [
          "architects4future",
          "artists4future",
          "artists4future_muenchen",
          "artists4future_mv",
          "artistsforfuture",
          "christiansforfuture",
          "developersforfuture",
          "educators4future",
          "entrepreneursforfuture",
          "familiesforfuture_bgl",
          "farmersforfuture",
          "fffdresden",
          "fffwiesbaden",
          "foresters4future",
          "forestersforfuture",
          "fridaysforfuture.berlin",
          "fridaysforfuture.bielefeld",
          "fridaysforfuture.de",
          "fridaysforfuture.duesseldorf",
          "fridaysforfuture.essen",
          "fridaysforfuture.kn",
          "fridaysforfuture.leipzig",
          "fridaysforfuture.mg",
          "fridaysforfuture.wuppertal",
          "fridaysforfuture_bonn",
          "fridaysforfuture_duisburg",
          "fridaysforfuture_hannover",
          "fridaysforfuture_heidelberg",
          "fridaysforfuture_hh",
          "fridaysforfuture_ka",
          "fridaysforfuture_muenster",
          "fridaysforfutureffm",
          "fridaysforfuturekoeln",
          "fridaysforfuturemannheim",
          "fridaysforfuturemuenchen",
          "fridaysforfuturenbg",
          "fridaysforfuturestuttgart",
          "grandparents4future.loe",
          "healthforfuturebonn",
          "healthforfuturedeutschland",
          "healthforfuturegraz",
          "healthforfuturehamburg",
          "healthforfuturemunich",
          "kita_for_future_de",
          "mothersforfuture",
          "music.for.future",
          "music_4_future",
          "musicfor_future",
          "nerds.for.future",
          "paedagogen_for_future",
          "parents4future",
          "parents4future.bonn",
          "parents4future_berlin",
          "parents4future_hamburg",
          "parents4future_hannover",
          "parents4future_muenchen",
          "parents4future_muenster",
          "parents4futurebielefeld",
          "parents4futuredresden",
          "parents4futurekarlsruhe",
          "parents4futurenbg",
          "parentsforfuture_heidelberg",
          "parentsforfuturedortmund",
          "physiotherapistsforfuture",
          "psychologists4future",
          "psychologistsforfuture",
          "s4f.greifswald",
          "s4f_le",
          "s4f_muc",
          "s4f_tirol_vorarlberg",
          "s4fsaarland",
          "schoolsforfuture",
          "schoolsforfuture.de",
          "scientists4future",
          "scientists4future_hd",
          "scientists4future_muenster",
          "scientistsforfuture_gangelt",
          "sportsforfuture",
          "students4future.muenster",
          "students4future.oldenburg",
          "students4future.saar",
          "students4future_leipzig",
          "students4futurebhv",
          "students4futurekn",
          "students4futurepotsdam",
          "studentsforfuture.bs",
          "studentsforfuture.bt",
          "studentsforfuture.da",
          "studentsforfuture.ehb",
          "studentsforfuture.erlangen",
          "studentsforfuture.essen",
          "studentsforfuture.ostfalia",
          "studentsforfuture__wi",
          "studentsforfuture_augsburg",
          "studentsforfuture_bamberg",
          "studentsforfuture_germany",
          "studentsforfuture_hannover",
          "studentsforfuture_hh",
          "studentsforfuture_koeln",
          "studentsforfuture_ku",
          "studentsforfuture_mainz",
          "studentsforfuture_wuerzburg",
          "studentsforfuture_ymr",
          "studentsforfuturebochum",
          "studentsforfutureffm",
          "studentsforfuturemuenchen",
          "studentsforfutureunima",
          "teachersforfuture.germany",
          "teachersforfuture_bw",
          "urbanists4future",
          "we4future_camp"
         ],
         "y": [
          "1861",
          "182",
          "199",
          "165",
          "719",
          "141",
          "58",
          "13",
          "4554",
          "17",
          "1504",
          "7970",
          "2728",
          "854",
          "4",
          "35606",
          "3947",
          "489948",
          "9890",
          "4594",
          "4560",
          "9488",
          "1103",
          "3015",
          "10784",
          "1346",
          "14259",
          "6934",
          "24417",
          "6818",
          "8927",
          "13572",
          "19773",
          "4187",
          "19525",
          "8046",
          "14287",
          "58",
          "348",
          "1560",
          "225",
          "363",
          "487",
          "156",
          "28",
          "1",
          "4",
          "204",
          "0",
          "328",
          "29668",
          "118",
          "1760",
          "637",
          "492",
          "1076",
          "499",
          "279",
          "541",
          "1417",
          "290",
          "413",
          "540",
          "185",
          "1668",
          "184",
          "433",
          "502",
          "813",
          "285",
          "195",
          "10",
          "499",
          "40104",
          "227",
          "586",
          "138",
          "1207",
          "1091",
          "479",
          "317",
          "1845",
          "110",
          "888",
          "97",
          "1006",
          "573",
          "558",
          "134",
          "433",
          "407",
          "126",
          "173",
          "354",
          "655",
          "7618",
          "2011",
          "870",
          "1570",
          "367",
          "1105",
          "523",
          "251",
          "551",
          "849",
          "1583",
          "181",
          "20683",
          "116",
          "101",
          "782"
         ]
        }
       ],
       "layout": {
        "template": {
         "data": {
          "bar": [
           {
            "error_x": {
             "color": "#2a3f5f"
            },
            "error_y": {
             "color": "#2a3f5f"
            },
            "marker": {
             "line": {
              "color": "#E5ECF6",
              "width": 0.5
             }
            },
            "type": "bar"
           }
          ],
          "barpolar": [
           {
            "marker": {
             "line": {
              "color": "#E5ECF6",
              "width": 0.5
             }
            },
            "type": "barpolar"
           }
          ],
          "carpet": [
           {
            "aaxis": {
             "endlinecolor": "#2a3f5f",
             "gridcolor": "white",
             "linecolor": "white",
             "minorgridcolor": "white",
             "startlinecolor": "#2a3f5f"
            },
            "baxis": {
             "endlinecolor": "#2a3f5f",
             "gridcolor": "white",
             "linecolor": "white",
             "minorgridcolor": "white",
             "startlinecolor": "#2a3f5f"
            },
            "type": "carpet"
           }
          ],
          "choropleth": [
           {
            "colorbar": {
             "outlinewidth": 0,
             "ticks": ""
            },
            "type": "choropleth"
           }
          ],
          "contour": [
           {
            "colorbar": {
             "outlinewidth": 0,
             "ticks": ""
            },
            "colorscale": [
             [
              0,
              "#0d0887"
             ],
             [
              0.1111111111111111,
              "#46039f"
             ],
             [
              0.2222222222222222,
              "#7201a8"
             ],
             [
              0.3333333333333333,
              "#9c179e"
             ],
             [
              0.4444444444444444,
              "#bd3786"
             ],
             [
              0.5555555555555556,
              "#d8576b"
             ],
             [
              0.6666666666666666,
              "#ed7953"
             ],
             [
              0.7777777777777778,
              "#fb9f3a"
             ],
             [
              0.8888888888888888,
              "#fdca26"
             ],
             [
              1,
              "#f0f921"
             ]
            ],
            "type": "contour"
           }
          ],
          "contourcarpet": [
           {
            "colorbar": {
             "outlinewidth": 0,
             "ticks": ""
            },
            "type": "contourcarpet"
           }
          ],
          "heatmap": [
           {
            "colorbar": {
             "outlinewidth": 0,
             "ticks": ""
            },
            "colorscale": [
             [
              0,
              "#0d0887"
             ],
             [
              0.1111111111111111,
              "#46039f"
             ],
             [
              0.2222222222222222,
              "#7201a8"
             ],
             [
              0.3333333333333333,
              "#9c179e"
             ],
             [
              0.4444444444444444,
              "#bd3786"
             ],
             [
              0.5555555555555556,
              "#d8576b"
             ],
             [
              0.6666666666666666,
              "#ed7953"
             ],
             [
              0.7777777777777778,
              "#fb9f3a"
             ],
             [
              0.8888888888888888,
              "#fdca26"
             ],
             [
              1,
              "#f0f921"
             ]
            ],
            "type": "heatmap"
           }
          ],
          "heatmapgl": [
           {
            "colorbar": {
             "outlinewidth": 0,
             "ticks": ""
            },
            "colorscale": [
             [
              0,
              "#0d0887"
             ],
             [
              0.1111111111111111,
              "#46039f"
             ],
             [
              0.2222222222222222,
              "#7201a8"
             ],
             [
              0.3333333333333333,
              "#9c179e"
             ],
             [
              0.4444444444444444,
              "#bd3786"
             ],
             [
              0.5555555555555556,
              "#d8576b"
             ],
             [
              0.6666666666666666,
              "#ed7953"
             ],
             [
              0.7777777777777778,
              "#fb9f3a"
             ],
             [
              0.8888888888888888,
              "#fdca26"
             ],
             [
              1,
              "#f0f921"
             ]
            ],
            "type": "heatmapgl"
           }
          ],
          "histogram": [
           {
            "marker": {
             "colorbar": {
              "outlinewidth": 0,
              "ticks": ""
             }
            },
            "type": "histogram"
           }
          ],
          "histogram2d": [
           {
            "colorbar": {
             "outlinewidth": 0,
             "ticks": ""
            },
            "colorscale": [
             [
              0,
              "#0d0887"
             ],
             [
              0.1111111111111111,
              "#46039f"
             ],
             [
              0.2222222222222222,
              "#7201a8"
             ],
             [
              0.3333333333333333,
              "#9c179e"
             ],
             [
              0.4444444444444444,
              "#bd3786"
             ],
             [
              0.5555555555555556,
              "#d8576b"
             ],
             [
              0.6666666666666666,
              "#ed7953"
             ],
             [
              0.7777777777777778,
              "#fb9f3a"
             ],
             [
              0.8888888888888888,
              "#fdca26"
             ],
             [
              1,
              "#f0f921"
             ]
            ],
            "type": "histogram2d"
           }
          ],
          "histogram2dcontour": [
           {
            "colorbar": {
             "outlinewidth": 0,
             "ticks": ""
            },
            "colorscale": [
             [
              0,
              "#0d0887"
             ],
             [
              0.1111111111111111,
              "#46039f"
             ],
             [
              0.2222222222222222,
              "#7201a8"
             ],
             [
              0.3333333333333333,
              "#9c179e"
             ],
             [
              0.4444444444444444,
              "#bd3786"
             ],
             [
              0.5555555555555556,
              "#d8576b"
             ],
             [
              0.6666666666666666,
              "#ed7953"
             ],
             [
              0.7777777777777778,
              "#fb9f3a"
             ],
             [
              0.8888888888888888,
              "#fdca26"
             ],
             [
              1,
              "#f0f921"
             ]
            ],
            "type": "histogram2dcontour"
           }
          ],
          "mesh3d": [
           {
            "colorbar": {
             "outlinewidth": 0,
             "ticks": ""
            },
            "type": "mesh3d"
           }
          ],
          "parcoords": [
           {
            "line": {
             "colorbar": {
              "outlinewidth": 0,
              "ticks": ""
             }
            },
            "type": "parcoords"
           }
          ],
          "pie": [
           {
            "automargin": true,
            "type": "pie"
           }
          ],
          "scatter": [
           {
            "marker": {
             "colorbar": {
              "outlinewidth": 0,
              "ticks": ""
             }
            },
            "type": "scatter"
           }
          ],
          "scatter3d": [
           {
            "line": {
             "colorbar": {
              "outlinewidth": 0,
              "ticks": ""
             }
            },
            "marker": {
             "colorbar": {
              "outlinewidth": 0,
              "ticks": ""
             }
            },
            "type": "scatter3d"
           }
          ],
          "scattercarpet": [
           {
            "marker": {
             "colorbar": {
              "outlinewidth": 0,
              "ticks": ""
             }
            },
            "type": "scattercarpet"
           }
          ],
          "scattergeo": [
           {
            "marker": {
             "colorbar": {
              "outlinewidth": 0,
              "ticks": ""
             }
            },
            "type": "scattergeo"
           }
          ],
          "scattergl": [
           {
            "marker": {
             "colorbar": {
              "outlinewidth": 0,
              "ticks": ""
             }
            },
            "type": "scattergl"
           }
          ],
          "scattermapbox": [
           {
            "marker": {
             "colorbar": {
              "outlinewidth": 0,
              "ticks": ""
             }
            },
            "type": "scattermapbox"
           }
          ],
          "scatterpolar": [
           {
            "marker": {
             "colorbar": {
              "outlinewidth": 0,
              "ticks": ""
             }
            },
            "type": "scatterpolar"
           }
          ],
          "scatterpolargl": [
           {
            "marker": {
             "colorbar": {
              "outlinewidth": 0,
              "ticks": ""
             }
            },
            "type": "scatterpolargl"
           }
          ],
          "scatterternary": [
           {
            "marker": {
             "colorbar": {
              "outlinewidth": 0,
              "ticks": ""
             }
            },
            "type": "scatterternary"
           }
          ],
          "surface": [
           {
            "colorbar": {
             "outlinewidth": 0,
             "ticks": ""
            },
            "colorscale": [
             [
              0,
              "#0d0887"
             ],
             [
              0.1111111111111111,
              "#46039f"
             ],
             [
              0.2222222222222222,
              "#7201a8"
             ],
             [
              0.3333333333333333,
              "#9c179e"
             ],
             [
              0.4444444444444444,
              "#bd3786"
             ],
             [
              0.5555555555555556,
              "#d8576b"
             ],
             [
              0.6666666666666666,
              "#ed7953"
             ],
             [
              0.7777777777777778,
              "#fb9f3a"
             ],
             [
              0.8888888888888888,
              "#fdca26"
             ],
             [
              1,
              "#f0f921"
             ]
            ],
            "type": "surface"
           }
          ],
          "table": [
           {
            "cells": {
             "fill": {
              "color": "#EBF0F8"
             },
             "line": {
              "color": "white"
             }
            },
            "header": {
             "fill": {
              "color": "#C8D4E3"
             },
             "line": {
              "color": "white"
             }
            },
            "type": "table"
           }
          ]
         },
         "layout": {
          "annotationdefaults": {
           "arrowcolor": "#2a3f5f",
           "arrowhead": 0,
           "arrowwidth": 1
          },
          "coloraxis": {
           "colorbar": {
            "outlinewidth": 0,
            "ticks": ""
           }
          },
          "colorscale": {
           "diverging": [
            [
             0,
             "#8e0152"
            ],
            [
             0.1,
             "#c51b7d"
            ],
            [
             0.2,
             "#de77ae"
            ],
            [
             0.3,
             "#f1b6da"
            ],
            [
             0.4,
             "#fde0ef"
            ],
            [
             0.5,
             "#f7f7f7"
            ],
            [
             0.6,
             "#e6f5d0"
            ],
            [
             0.7,
             "#b8e186"
            ],
            [
             0.8,
             "#7fbc41"
            ],
            [
             0.9,
             "#4d9221"
            ],
            [
             1,
             "#276419"
            ]
           ],
           "sequential": [
            [
             0,
             "#0d0887"
            ],
            [
             0.1111111111111111,
             "#46039f"
            ],
            [
             0.2222222222222222,
             "#7201a8"
            ],
            [
             0.3333333333333333,
             "#9c179e"
            ],
            [
             0.4444444444444444,
             "#bd3786"
            ],
            [
             0.5555555555555556,
             "#d8576b"
            ],
            [
             0.6666666666666666,
             "#ed7953"
            ],
            [
             0.7777777777777778,
             "#fb9f3a"
            ],
            [
             0.8888888888888888,
             "#fdca26"
            ],
            [
             1,
             "#f0f921"
            ]
           ],
           "sequentialminus": [
            [
             0,
             "#0d0887"
            ],
            [
             0.1111111111111111,
             "#46039f"
            ],
            [
             0.2222222222222222,
             "#7201a8"
            ],
            [
             0.3333333333333333,
             "#9c179e"
            ],
            [
             0.4444444444444444,
             "#bd3786"
            ],
            [
             0.5555555555555556,
             "#d8576b"
            ],
            [
             0.6666666666666666,
             "#ed7953"
            ],
            [
             0.7777777777777778,
             "#fb9f3a"
            ],
            [
             0.8888888888888888,
             "#fdca26"
            ],
            [
             1,
             "#f0f921"
            ]
           ]
          },
          "colorway": [
           "#636efa",
           "#EF553B",
           "#00cc96",
           "#ab63fa",
           "#FFA15A",
           "#19d3f3",
           "#FF6692",
           "#B6E880",
           "#FF97FF",
           "#FECB52"
          ],
          "font": {
           "color": "#2a3f5f"
          },
          "geo": {
           "bgcolor": "white",
           "lakecolor": "white",
           "landcolor": "#E5ECF6",
           "showlakes": true,
           "showland": true,
           "subunitcolor": "white"
          },
          "hoverlabel": {
           "align": "left"
          },
          "hovermode": "closest",
          "mapbox": {
           "style": "light"
          },
          "paper_bgcolor": "white",
          "plot_bgcolor": "#E5ECF6",
          "polar": {
           "angularaxis": {
            "gridcolor": "white",
            "linecolor": "white",
            "ticks": ""
           },
           "bgcolor": "#E5ECF6",
           "radialaxis": {
            "gridcolor": "white",
            "linecolor": "white",
            "ticks": ""
           }
          },
          "scene": {
           "xaxis": {
            "backgroundcolor": "#E5ECF6",
            "gridcolor": "white",
            "gridwidth": 2,
            "linecolor": "white",
            "showbackground": true,
            "ticks": "",
            "zerolinecolor": "white"
           },
           "yaxis": {
            "backgroundcolor": "#E5ECF6",
            "gridcolor": "white",
            "gridwidth": 2,
            "linecolor": "white",
            "showbackground": true,
            "ticks": "",
            "zerolinecolor": "white"
           },
           "zaxis": {
            "backgroundcolor": "#E5ECF6",
            "gridcolor": "white",
            "gridwidth": 2,
            "linecolor": "white",
            "showbackground": true,
            "ticks": "",
            "zerolinecolor": "white"
           }
          },
          "shapedefaults": {
           "line": {
            "color": "#2a3f5f"
           }
          },
          "ternary": {
           "aaxis": {
            "gridcolor": "white",
            "linecolor": "white",
            "ticks": ""
           },
           "baxis": {
            "gridcolor": "white",
            "linecolor": "white",
            "ticks": ""
           },
           "bgcolor": "#E5ECF6",
           "caxis": {
            "gridcolor": "white",
            "linecolor": "white",
            "ticks": ""
           }
          },
          "title": {
           "x": 0.05
          },
          "xaxis": {
           "automargin": true,
           "gridcolor": "white",
           "linecolor": "white",
           "ticks": "",
           "title": {
            "standoff": 15
           },
           "zerolinecolor": "white",
           "zerolinewidth": 2
          },
          "yaxis": {
           "automargin": true,
           "gridcolor": "white",
           "linecolor": "white",
           "ticks": "",
           "title": {
            "standoff": 15
           },
           "zerolinecolor": "white",
           "zerolinewidth": 2
          }
         }
        }
       }
      },
      "text/html": [
       "<div>\n",
       "        \n",
       "        \n",
       "            <div id=\"4c197a6c-fd5c-4a5e-87b1-34ad751208c1\" class=\"plotly-graph-div\" style=\"height:525px; width:100%;\"></div>\n",
       "            <script type=\"text/javascript\">\n",
       "                require([\"plotly\"], function(Plotly) {\n",
       "                    window.PLOTLYENV=window.PLOTLYENV || {};\n",
       "                    \n",
       "                if (document.getElementById(\"4c197a6c-fd5c-4a5e-87b1-34ad751208c1\")) {\n",
       "                    Plotly.newPlot(\n",
       "                        '4c197a6c-fd5c-4a5e-87b1-34ad751208c1',\n",
       "                        [{\"type\": \"bar\", \"x\": [\"architects4future\", \"artists4future\", \"artists4future_muenchen\", \"artists4future_mv\", \"artistsforfuture\", \"christiansforfuture\", \"developersforfuture\", \"educators4future\", \"entrepreneursforfuture\", \"familiesforfuture_bgl\", \"farmersforfuture\", \"fffdresden\", \"fffwiesbaden\", \"foresters4future\", \"forestersforfuture\", \"fridaysforfuture.berlin\", \"fridaysforfuture.bielefeld\", \"fridaysforfuture.de\", \"fridaysforfuture.duesseldorf\", \"fridaysforfuture.essen\", \"fridaysforfuture.kn\", \"fridaysforfuture.leipzig\", \"fridaysforfuture.mg\", \"fridaysforfuture.wuppertal\", \"fridaysforfuture_bonn\", \"fridaysforfuture_duisburg\", \"fridaysforfuture_hannover\", \"fridaysforfuture_heidelberg\", \"fridaysforfuture_hh\", \"fridaysforfuture_ka\", \"fridaysforfuture_muenster\", \"fridaysforfutureffm\", \"fridaysforfuturekoeln\", \"fridaysforfuturemannheim\", \"fridaysforfuturemuenchen\", \"fridaysforfuturenbg\", \"fridaysforfuturestuttgart\", \"grandparents4future.loe\", \"healthforfuturebonn\", \"healthforfuturedeutschland\", \"healthforfuturegraz\", \"healthforfuturehamburg\", \"healthforfuturemunich\", \"kita_for_future_de\", \"mothersforfuture\", \"music.for.future\", \"music_4_future\", \"musicfor_future\", \"nerds.for.future\", \"paedagogen_for_future\", \"parents4future\", \"parents4future.bonn\", \"parents4future_berlin\", \"parents4future_hamburg\", \"parents4future_hannover\", \"parents4future_muenchen\", \"parents4future_muenster\", \"parents4futurebielefeld\", \"parents4futuredresden\", \"parents4futurekarlsruhe\", \"parents4futurenbg\", \"parentsforfuture_heidelberg\", \"parentsforfuturedortmund\", \"physiotherapistsforfuture\", \"psychologists4future\", \"psychologistsforfuture\", \"s4f.greifswald\", \"s4f_le\", \"s4f_muc\", \"s4f_tirol_vorarlberg\", \"s4fsaarland\", \"schoolsforfuture\", \"schoolsforfuture.de\", \"scientists4future\", \"scientists4future_hd\", \"scientists4future_muenster\", \"scientistsforfuture_gangelt\", \"sportsforfuture\", \"students4future.muenster\", \"students4future.oldenburg\", \"students4future.saar\", \"students4future_leipzig\", \"students4futurebhv\", \"students4futurekn\", \"students4futurepotsdam\", \"studentsforfuture.bs\", \"studentsforfuture.bt\", \"studentsforfuture.da\", \"studentsforfuture.ehb\", \"studentsforfuture.erlangen\", \"studentsforfuture.essen\", \"studentsforfuture.ostfalia\", \"studentsforfuture__wi\", \"studentsforfuture_augsburg\", \"studentsforfuture_bamberg\", \"studentsforfuture_germany\", \"studentsforfuture_hannover\", \"studentsforfuture_hh\", \"studentsforfuture_koeln\", \"studentsforfuture_ku\", \"studentsforfuture_mainz\", \"studentsforfuture_wuerzburg\", \"studentsforfuture_ymr\", \"studentsforfuturebochum\", \"studentsforfutureffm\", \"studentsforfuturemuenchen\", \"studentsforfutureunima\", \"teachersforfuture.germany\", \"teachersforfuture_bw\", \"urbanists4future\", \"we4future_camp\"], \"y\": [\"1861\", \"182\", \"199\", \"165\", \"719\", \"141\", \"58\", \"13\", \"4554\", \"17\", \"1504\", \"7970\", \"2728\", \"854\", \"4\", \"35606\", \"3947\", \"489948\", \"9890\", \"4594\", \"4560\", \"9488\", \"1103\", \"3015\", \"10784\", \"1346\", \"14259\", \"6934\", \"24417\", \"6818\", \"8927\", \"13572\", \"19773\", \"4187\", \"19525\", \"8046\", \"14287\", \"58\", \"348\", \"1560\", \"225\", \"363\", \"487\", \"156\", \"28\", \"1\", \"4\", \"204\", \"0\", \"328\", \"29668\", \"118\", \"1760\", \"637\", \"492\", \"1076\", \"499\", \"279\", \"541\", \"1417\", \"290\", \"413\", \"540\", \"185\", \"1668\", \"184\", \"433\", \"502\", \"813\", \"285\", \"195\", \"10\", \"499\", \"40104\", \"227\", \"586\", \"138\", \"1207\", \"1091\", \"479\", \"317\", \"1845\", \"110\", \"888\", \"97\", \"1006\", \"573\", \"558\", \"134\", \"433\", \"407\", \"126\", \"173\", \"354\", \"655\", \"7618\", \"2011\", \"870\", \"1570\", \"367\", \"1105\", \"523\", \"251\", \"551\", \"849\", \"1583\", \"181\", \"20683\", \"116\", \"101\", \"782\"]}],\n",
       "                        {\"template\": {\"data\": {\"bar\": [{\"error_x\": {\"color\": \"#2a3f5f\"}, \"error_y\": {\"color\": \"#2a3f5f\"}, \"marker\": {\"line\": {\"color\": \"#E5ECF6\", \"width\": 0.5}}, \"type\": \"bar\"}], \"barpolar\": [{\"marker\": {\"line\": {\"color\": \"#E5ECF6\", \"width\": 0.5}}, \"type\": \"barpolar\"}], \"carpet\": [{\"aaxis\": {\"endlinecolor\": \"#2a3f5f\", \"gridcolor\": \"white\", \"linecolor\": \"white\", \"minorgridcolor\": \"white\", \"startlinecolor\": \"#2a3f5f\"}, \"baxis\": {\"endlinecolor\": \"#2a3f5f\", \"gridcolor\": \"white\", \"linecolor\": \"white\", \"minorgridcolor\": \"white\", \"startlinecolor\": \"#2a3f5f\"}, \"type\": \"carpet\"}], \"choropleth\": [{\"colorbar\": {\"outlinewidth\": 0, \"ticks\": \"\"}, \"type\": \"choropleth\"}], \"contour\": [{\"colorbar\": {\"outlinewidth\": 0, \"ticks\": \"\"}, \"colorscale\": [[0.0, \"#0d0887\"], [0.1111111111111111, \"#46039f\"], [0.2222222222222222, \"#7201a8\"], [0.3333333333333333, \"#9c179e\"], [0.4444444444444444, \"#bd3786\"], [0.5555555555555556, \"#d8576b\"], [0.6666666666666666, \"#ed7953\"], [0.7777777777777778, \"#fb9f3a\"], [0.8888888888888888, \"#fdca26\"], [1.0, \"#f0f921\"]], \"type\": \"contour\"}], \"contourcarpet\": [{\"colorbar\": {\"outlinewidth\": 0, \"ticks\": \"\"}, \"type\": \"contourcarpet\"}], \"heatmap\": [{\"colorbar\": {\"outlinewidth\": 0, \"ticks\": \"\"}, \"colorscale\": [[0.0, \"#0d0887\"], [0.1111111111111111, \"#46039f\"], [0.2222222222222222, \"#7201a8\"], [0.3333333333333333, \"#9c179e\"], [0.4444444444444444, \"#bd3786\"], [0.5555555555555556, \"#d8576b\"], [0.6666666666666666, \"#ed7953\"], [0.7777777777777778, \"#fb9f3a\"], [0.8888888888888888, \"#fdca26\"], [1.0, \"#f0f921\"]], \"type\": \"heatmap\"}], \"heatmapgl\": [{\"colorbar\": {\"outlinewidth\": 0, \"ticks\": \"\"}, \"colorscale\": [[0.0, \"#0d0887\"], [0.1111111111111111, \"#46039f\"], [0.2222222222222222, \"#7201a8\"], [0.3333333333333333, \"#9c179e\"], [0.4444444444444444, \"#bd3786\"], [0.5555555555555556, \"#d8576b\"], [0.6666666666666666, \"#ed7953\"], [0.7777777777777778, \"#fb9f3a\"], [0.8888888888888888, \"#fdca26\"], [1.0, \"#f0f921\"]], \"type\": \"heatmapgl\"}], \"histogram\": [{\"marker\": {\"colorbar\": {\"outlinewidth\": 0, \"ticks\": \"\"}}, \"type\": \"histogram\"}], \"histogram2d\": [{\"colorbar\": {\"outlinewidth\": 0, \"ticks\": \"\"}, \"colorscale\": [[0.0, \"#0d0887\"], [0.1111111111111111, \"#46039f\"], [0.2222222222222222, \"#7201a8\"], [0.3333333333333333, \"#9c179e\"], [0.4444444444444444, \"#bd3786\"], [0.5555555555555556, \"#d8576b\"], [0.6666666666666666, \"#ed7953\"], [0.7777777777777778, \"#fb9f3a\"], [0.8888888888888888, \"#fdca26\"], [1.0, \"#f0f921\"]], \"type\": \"histogram2d\"}], \"histogram2dcontour\": [{\"colorbar\": {\"outlinewidth\": 0, \"ticks\": \"\"}, \"colorscale\": [[0.0, \"#0d0887\"], [0.1111111111111111, \"#46039f\"], [0.2222222222222222, \"#7201a8\"], [0.3333333333333333, \"#9c179e\"], [0.4444444444444444, \"#bd3786\"], [0.5555555555555556, \"#d8576b\"], [0.6666666666666666, \"#ed7953\"], [0.7777777777777778, \"#fb9f3a\"], [0.8888888888888888, \"#fdca26\"], [1.0, \"#f0f921\"]], \"type\": \"histogram2dcontour\"}], \"mesh3d\": [{\"colorbar\": {\"outlinewidth\": 0, \"ticks\": \"\"}, \"type\": \"mesh3d\"}], \"parcoords\": [{\"line\": {\"colorbar\": {\"outlinewidth\": 0, \"ticks\": \"\"}}, \"type\": \"parcoords\"}], \"pie\": [{\"automargin\": true, \"type\": \"pie\"}], \"scatter\": [{\"marker\": {\"colorbar\": {\"outlinewidth\": 0, \"ticks\": \"\"}}, \"type\": \"scatter\"}], \"scatter3d\": [{\"line\": {\"colorbar\": {\"outlinewidth\": 0, \"ticks\": \"\"}}, \"marker\": {\"colorbar\": {\"outlinewidth\": 0, \"ticks\": \"\"}}, \"type\": \"scatter3d\"}], \"scattercarpet\": [{\"marker\": {\"colorbar\": {\"outlinewidth\": 0, \"ticks\": \"\"}}, \"type\": \"scattercarpet\"}], \"scattergeo\": [{\"marker\": {\"colorbar\": {\"outlinewidth\": 0, \"ticks\": \"\"}}, \"type\": \"scattergeo\"}], \"scattergl\": [{\"marker\": {\"colorbar\": {\"outlinewidth\": 0, \"ticks\": \"\"}}, \"type\": \"scattergl\"}], \"scattermapbox\": [{\"marker\": {\"colorbar\": {\"outlinewidth\": 0, \"ticks\": \"\"}}, \"type\": \"scattermapbox\"}], \"scatterpolar\": [{\"marker\": {\"colorbar\": {\"outlinewidth\": 0, \"ticks\": \"\"}}, \"type\": \"scatterpolar\"}], \"scatterpolargl\": [{\"marker\": {\"colorbar\": {\"outlinewidth\": 0, \"ticks\": \"\"}}, \"type\": \"scatterpolargl\"}], \"scatterternary\": [{\"marker\": {\"colorbar\": {\"outlinewidth\": 0, \"ticks\": \"\"}}, \"type\": \"scatterternary\"}], \"surface\": [{\"colorbar\": {\"outlinewidth\": 0, \"ticks\": \"\"}, \"colorscale\": [[0.0, \"#0d0887\"], [0.1111111111111111, \"#46039f\"], [0.2222222222222222, \"#7201a8\"], [0.3333333333333333, \"#9c179e\"], [0.4444444444444444, \"#bd3786\"], [0.5555555555555556, \"#d8576b\"], [0.6666666666666666, \"#ed7953\"], [0.7777777777777778, \"#fb9f3a\"], [0.8888888888888888, \"#fdca26\"], [1.0, \"#f0f921\"]], \"type\": \"surface\"}], \"table\": [{\"cells\": {\"fill\": {\"color\": \"#EBF0F8\"}, \"line\": {\"color\": \"white\"}}, \"header\": {\"fill\": {\"color\": \"#C8D4E3\"}, \"line\": {\"color\": \"white\"}}, \"type\": \"table\"}]}, \"layout\": {\"annotationdefaults\": {\"arrowcolor\": \"#2a3f5f\", \"arrowhead\": 0, \"arrowwidth\": 1}, \"coloraxis\": {\"colorbar\": {\"outlinewidth\": 0, \"ticks\": \"\"}}, \"colorscale\": {\"diverging\": [[0, \"#8e0152\"], [0.1, \"#c51b7d\"], [0.2, \"#de77ae\"], [0.3, \"#f1b6da\"], [0.4, \"#fde0ef\"], [0.5, \"#f7f7f7\"], [0.6, \"#e6f5d0\"], [0.7, \"#b8e186\"], [0.8, \"#7fbc41\"], [0.9, \"#4d9221\"], [1, \"#276419\"]], \"sequential\": [[0.0, \"#0d0887\"], [0.1111111111111111, \"#46039f\"], [0.2222222222222222, \"#7201a8\"], [0.3333333333333333, \"#9c179e\"], [0.4444444444444444, \"#bd3786\"], [0.5555555555555556, \"#d8576b\"], [0.6666666666666666, \"#ed7953\"], [0.7777777777777778, \"#fb9f3a\"], [0.8888888888888888, \"#fdca26\"], [1.0, \"#f0f921\"]], \"sequentialminus\": [[0.0, \"#0d0887\"], [0.1111111111111111, \"#46039f\"], [0.2222222222222222, \"#7201a8\"], [0.3333333333333333, \"#9c179e\"], [0.4444444444444444, \"#bd3786\"], [0.5555555555555556, \"#d8576b\"], [0.6666666666666666, \"#ed7953\"], [0.7777777777777778, \"#fb9f3a\"], [0.8888888888888888, \"#fdca26\"], [1.0, \"#f0f921\"]]}, \"colorway\": [\"#636efa\", \"#EF553B\", \"#00cc96\", \"#ab63fa\", \"#FFA15A\", \"#19d3f3\", \"#FF6692\", \"#B6E880\", \"#FF97FF\", \"#FECB52\"], \"font\": {\"color\": \"#2a3f5f\"}, \"geo\": {\"bgcolor\": \"white\", \"lakecolor\": \"white\", \"landcolor\": \"#E5ECF6\", \"showlakes\": true, \"showland\": true, \"subunitcolor\": \"white\"}, \"hoverlabel\": {\"align\": \"left\"}, \"hovermode\": \"closest\", \"mapbox\": {\"style\": \"light\"}, \"paper_bgcolor\": \"white\", \"plot_bgcolor\": \"#E5ECF6\", \"polar\": {\"angularaxis\": {\"gridcolor\": \"white\", \"linecolor\": \"white\", \"ticks\": \"\"}, \"bgcolor\": \"#E5ECF6\", \"radialaxis\": {\"gridcolor\": \"white\", \"linecolor\": \"white\", \"ticks\": \"\"}}, \"scene\": {\"xaxis\": {\"backgroundcolor\": \"#E5ECF6\", \"gridcolor\": \"white\", \"gridwidth\": 2, \"linecolor\": \"white\", \"showbackground\": true, \"ticks\": \"\", \"zerolinecolor\": \"white\"}, \"yaxis\": {\"backgroundcolor\": \"#E5ECF6\", \"gridcolor\": \"white\", \"gridwidth\": 2, \"linecolor\": \"white\", \"showbackground\": true, \"ticks\": \"\", \"zerolinecolor\": \"white\"}, \"zaxis\": {\"backgroundcolor\": \"#E5ECF6\", \"gridcolor\": \"white\", \"gridwidth\": 2, \"linecolor\": \"white\", \"showbackground\": true, \"ticks\": \"\", \"zerolinecolor\": \"white\"}}, \"shapedefaults\": {\"line\": {\"color\": \"#2a3f5f\"}}, \"ternary\": {\"aaxis\": {\"gridcolor\": \"white\", \"linecolor\": \"white\", \"ticks\": \"\"}, \"baxis\": {\"gridcolor\": \"white\", \"linecolor\": \"white\", \"ticks\": \"\"}, \"bgcolor\": \"#E5ECF6\", \"caxis\": {\"gridcolor\": \"white\", \"linecolor\": \"white\", \"ticks\": \"\"}}, \"title\": {\"x\": 0.05}, \"xaxis\": {\"automargin\": true, \"gridcolor\": \"white\", \"linecolor\": \"white\", \"ticks\": \"\", \"title\": {\"standoff\": 15}, \"zerolinecolor\": \"white\", \"zerolinewidth\": 2}, \"yaxis\": {\"automargin\": true, \"gridcolor\": \"white\", \"linecolor\": \"white\", \"ticks\": \"\", \"title\": {\"standoff\": 15}, \"zerolinecolor\": \"white\", \"zerolinewidth\": 2}}}},\n",
       "                        {\"responsive\": true}\n",
       "                    ).then(function(){\n",
       "                            \n",
       "var gd = document.getElementById('4c197a6c-fd5c-4a5e-87b1-34ad751208c1');\n",
       "var x = new MutationObserver(function (mutations, observer) {{\n",
       "        var display = window.getComputedStyle(gd).display;\n",
       "        if (!display || display === 'none') {{\n",
       "            console.log([gd, 'removed!']);\n",
       "            Plotly.purge(gd);\n",
       "            observer.disconnect();\n",
       "        }}\n",
       "}});\n",
       "\n",
       "// Listen for the removal of the full notebook cells\n",
       "var notebookContainer = gd.closest('#notebook-container');\n",
       "if (notebookContainer) {{\n",
       "    x.observe(notebookContainer, {childList: true});\n",
       "}}\n",
       "\n",
       "// Listen for the clearing of the current output cell\n",
       "var outputEl = gd.closest('.output');\n",
       "if (outputEl) {{\n",
       "    x.observe(outputEl, {childList: true});\n",
       "}}\n",
       "\n",
       "                        })\n",
       "                };\n",
       "                });\n",
       "            </script>\n",
       "        </div>"
      ]
     },
     "metadata": {},
     "output_type": "display_data"
    }
   ],
   "source": [
    "import plotly.graph_objects as go\n",
    "from operator import itemgetter\n",
    "\n",
    "f = open(\"chris.json\", \"r\")\n",
    "data = json.loads(f.read())\n",
    "\n",
    "\n",
    "\n",
    "x = data.keys()\n",
    "y = data.values()\n",
    "x, y = zip(*sorted(zip(x, y)))\n",
    "\n",
    "\n",
    "fig = go.Figure([go.Bar(x=x, y = y)])\n",
    "\n",
    "\n",
    "fig.show()"
   ]
  },
  {
   "cell_type": "code",
   "execution_count": null,
   "metadata": {
    "scrolled": false
   },
   "outputs": [
    {
     "name": "stdout",
     "output_type": "stream",
     "text": [
      "['f4fFalkensee']\n",
      "1193\n",
      "['fridaysforfuture.bodensee']\n",
      "2451\n",
      "['fridaysforfuturebuehl']\n",
      "210\n",
      "['fridaysforfuture_ahaus']\n",
      "306\n",
      "['fridaysforfuture.bodensee']\n",
      "2451\n",
      "['fridaysforfuture.ge']\n",
      "1205\n",
      "['starnberg4future']\n",
      "267\n",
      "['aurichforfuture']\n",
      "288\n",
      "['buxtehudeforfuture']\n",
      "733\n",
      "['f4f_filderstadt']\n",
      "133\n",
      "['f4ftraunstein']\n",
      "451\n",
      "['fff_erkrath']\n",
      "823\n",
      "['fff_hanau']\n",
      "319\n",
      "['fff_oberhausen']\n",
      "627\n",
      "['fff_rastede']\n",
      "289\n",
      "['fff_verden']\n",
      "552\n",
      "['fff.borken']\n",
      "1581\n",
      "['fff.gross_gerau']\n",
      "367\n",
      "['fffbargteheide']\n",
      "166\n",
      "['fffgiessen']\n",
      "2100\n",
      "['fffkamen']\n",
      "429\n",
      "['fffweilburg']\n",
      "973\n",
      "['fffwetzlar']\n",
      "1313\n",
      "['fffwiesbaden']\n",
      "2729\n",
      "['fridayforfuture.kaki']\n",
      "110\n",
      "['fridays.for.future_albstadt']\n",
      "309\n",
      "['fridays4futurekl']\n",
      "787\n",
      "['fridaysforfuture_andernach']\n",
      "106\n",
      "['fridaysforfuture_annaberg']\n",
      "204\n",
      "['fridaysforfuture_bad_segeberg']\n",
      "1294\n",
      "['fridaysforfuture_bonn']\n",
      "10784\n",
      "['fridaysforfuture_brueggen']\n",
      "395\n",
      "['fridaysforfuture_bruehl']\n",
      "313\n",
      "['fridaysforfuture_duisburg']\n",
      "1347\n",
      "['fridaysforfuture_einbeck']\n",
      "142\n",
      "['fridaysforfuture_esslingen']\n",
      "1211\n",
      "['fridaysforfuture_geilenkirchen']\n",
      "227\n",
      "['fridaysforfuture_hannover']\n",
      "14260\n",
      "['fridaysforfuture_jena']\n",
      "1809\n",
      "['fridaysforfuture_koblenz']\n",
      "1878\n",
      "['fridaysforfuture_luenen']\n",
      "227\n",
      "['fridaysforfuture_noh']\n",
      "783\n",
      "['fridaysforfuture_northeim']\n",
      "625\n",
      "['fridaysforfuture_om']\n",
      "648\n",
      "['fridaysforfuture_om']\n",
      "648\n",
      "['fridaysforfuture_pforzheim']\n",
      "1413\n",
      "['fridaysforfuture_re']\n",
      "665\n",
      "['fridaysforfuture_unna']\n",
      "219\n",
      "['fridaysforfuture_wesel']\n",
      "753\n",
      "['fridaysforfuture.aschaffenburg']\n",
      "1399\n",
      "['fridaysforfuture.backnang']\n",
      "424\n",
      "['fridaysforfuture.berchtesgaden']\n",
      "197\n",
      "['fridaysforfuture.brandenburg']\n",
      "759\n",
      "['fridaysforfuture.bremen']\n",
      "6643\n",
      "['fridaysforfuture.da']\n",
      "3832\n",
      "['fridaysforfuture.datteln']\n",
      "596\n",
      "['fridaysforfuture.enger']\n",
      "308\n",
      "['fridaysforfuture.erding']\n",
      "225\n",
      "['fridaysforfuture.ft']\n",
      "970\n",
      "['fridaysforfuture.goerlitz']\n",
      "211\n",
      "['fridaysforfuture.grimma']\n",
      "265\n",
      "['fridaysforfuture.gruenstadt']\n",
      "149\n",
      "['fridaysforfuture.hochneukirch']\n",
      "731\n",
      "['fridaysforfuture.iz']\n",
      "358\n",
      "['fridaysforfuture.kempen']\n",
      "445\n",
      "['fridaysforfuture.kuenzelsau']\n",
      "101\n",
      "['fridaysforfuture.lauf']\n",
      "759\n",
      "['fridaysforfuture.lindau']\n",
      "619\n",
      "['fridaysforfuture.lu']\n",
      "84\n",
      "['fridaysforfuture.neustadt']\n",
      "663\n",
      "['fridaysforfuture.niebuell']\n",
      "493\n",
      "['fridaysforfuture.nms']\n",
      "862\n",
      "['fridaysforfuture.oehr']\n",
      "232\n",
      "['fridaysforfuture.pruem']\n",
      "131\n",
      "['fridaysforfuture.rw']\n",
      "963\n",
      "['fridaysforfuture.schorndorf']\n",
      "101\n",
      "['fridaysforfuture.singen']\n",
      "330\n",
      "['fridaysforfuture.solingen']\n",
      "1058\n",
      "['fridaysforfuture.speyer']\n",
      "978\n",
      "['fridaysforfuture.stralsund']\n",
      "345\n",
      "['fridaysforfuture.waren']\n",
      "83\n",
      "['fridaysforfuture.weiden']\n",
      "1034\n",
      "['fridaysforfuture.wendland']\n",
      "482\n",
      "['fridaysforfuture.wesermarsch']\n",
      "99\n",
      "['fridaysforfuture.willich']\n",
      "379\n",
      "['fridaysforfuture.winsen']\n",
      "900\n",
      "['fridaysforfuture.zeitz']\n",
      "99\n",
      "['fridaysforfuture.zittau']\n",
      "207\n",
      "['fridaysforfuture.zwickau']\n",
      "1481\n",
      "['fridaysforfuturedo']\n",
      "7503\n",
      "['fridaysforfuturegifhorn']\n",
      "1000\n",
      "['fridaysforfuturehorb']\n",
      "98\n",
      "['fridaysforfuturekassel']\n",
      "3085\n",
      "['fridaysforfuturekoeln']\n",
      "19774\n",
      "['fridaysforfuturelandau']\n",
      "116\n",
      "['fridaysforfuturelehrte']\n",
      "811\n",
      "['fridaysforfutureloerrach']\n",
      "579\n",
      "['fridaysforfutureluebeck']\n",
      "3216\n",
      "['fridaysforfuturemannheim']\n",
      "4187\n",
      "['fridaysforfutureminden']\n",
      "716\n",
      "['fridaysforfutureschramberg']\n",
      "119\n",
      "['fridaysforfutureschriesheim']\n",
      "110\n",
      "['fridaysforfuturesinsheim']\n",
      "287\n",
      "['fridaysforfuturestuttgart']\n",
      "14288\n",
      "['fridaysforfuturesylt']\n",
      "688\n",
      "['fridaysforfuturewarburg']\n",
      "283\n",
      "['fridaysforfutureweilheim']\n",
      "650\n",
      "['fridaysforfutureweimar']\n",
      "1159\n",
      "['klimademorodgau']\n",
      "76\n",
      "['waldshut_fff']\n",
      "362\n",
      "['busaulendorf']\n",
      "122\n",
      "['fff_iserlohn']\n",
      "412\n",
      "['fff_mstaedt']\n",
      "93\n",
      "['fff_oranienburg']\n",
      "244\n",
      "['fff_roesrath']\n",
      "168\n",
      "['fff.alzey']\n",
      "187\n",
      "['fff.bremerhaven']\n",
      "502\n",
      "['fff.eckernfoerde']\n",
      "927\n",
      "['fff.rendsburg']\n",
      "908\n",
      "['fff.schleswig']\n",
      "976\n",
      "['fffaltkreishalle']\n",
      "299\n",
      "['fffaltkreishalle']\n",
      "299\n",
      "['fffaltkreishalle']\n",
      "299\n",
      "['fffaltkreishalle']\n",
      "299\n",
      "['fffdresden']\n",
      "7971\n",
      "['fffhtk']\n",
      "798\n",
      "['fffmtk']\n",
      "322\n",
      "['fffnienburg']\n",
      "1188\n",
      "['fffsaarlouis']\n",
      "680\n",
      "['fffvelbert']\n",
      "347\n",
      "['fridays_for_future_gelnhausen']\n",
      "124\n",
      "['fridays.for.future.landsberg']\n",
      "1290\n",
      "['fridays.for.future.landsberg']\n",
      "1290\n",
      "['fridaysforfuture_aichach']\n",
      "88\n",
      "['fridaysforfuture_bad_neustadt']\n",
      "118\n",
      "['fridaysforfuture_bocholt']\n",
      "1095\n",
      "['fridaysforfuture_chemnitz']\n",
      "2728\n",
      "['fridaysforfuture_coburg']\n",
      "783\n",
      "['fridaysforfuture_daun']\n",
      "97\n",
      "['fridaysforfuture_dkb']\n",
      "376\n",
      "['fridaysforfuture_dorfen']\n",
      "96\n",
      "['fridaysforfuture_erftstadt']\n",
      "295\n",
      "['fridaysforfuture_flensburg']\n",
      "2089\n",
      "['fridaysforfuture_freiburg']\n",
      "9928\n",
      "['fridaysforfuture_gangelt']\n",
      "1110\n",
      "['fridaysforfuture_goettingen']\n",
      "4782\n",
      "['fridaysforfuture_heidelberg']\n",
      "6934\n",
      "['fridaysforfuture_hh']\n",
      "24416\n",
      "['fridaysforfuture_ibbenbueren']\n",
      "246\n",
      "['fridaysforfuture_ka']\n",
      "6818\n",
      "['fridaysforfuture_ka']\n",
      "6818\n",
      "['fridaysforfuture_kitzingen']\n",
      "99\n",
      "['fridaysforfuture_leverkusen']\n",
      "745\n",
      "['fridaysforfuture_mr']\n",
      "1360\n",
      "['fridaysforfuture_muenster']\n",
      "8927\n",
      "['fridaysforfuture_neuss']\n",
      "1014\n",
      "['fridaysforfuture_os']\n",
      "5739\n",
      "['fridaysforfuture_osterholz']\n",
      "494\n",
      "['fridaysforfuture_siegen']\n",
      "2243\n",
      "['fridaysforfuture_tuebingen']\n",
      "6406\n",
      "['fridaysforfuture_werther']\n",
      "206\n",
      "['fridaysforfuture_wittlage']\n",
      "238\n",
      "['fridaysforfuture_wolfsburg']\n",
      "305\n",
      "['fridaysforfuture_wor']\n"
     ]
    }
   ],
   "source": [
    "accounts = open(\"fff.txt\", \"r\")\n",
    "fff_names = []\n",
    "fff_followers = []\n",
    "\n",
    "\n",
    "for account in accounts:\n",
    "    name = get_user(account)\n",
    "    follower = get_followers(account)\n",
    "    user = [str(name), str(follower)]\n",
    "    fff_names.append(name)\n",
    "    fff_followers.append(follower)\n",
    "print(\"ready\")"
   ]
  },
  {
   "cell_type": "code",
   "execution_count": null,
   "metadata": {},
   "outputs": [],
   "source": [
    "import plotly.graph_objects as go\n",
    "\n",
    "x = fff_names\n",
    "y = fff_followers\n",
    "x, y = zip(*sorted(zip(x, y)))\n",
    "\n",
    "\n",
    "fig = go.Figure([go.Bar(x=x, y = y)])\n",
    "\n",
    "\n",
    "fig.show()"
   ]
  },
  {
   "cell_type": "code",
   "execution_count": null,
   "metadata": {},
   "outputs": [],
   "source": []
  }
 ],
 "metadata": {
  "kernelspec": {
   "display_name": "Python 3",
   "language": "python",
   "name": "python3"
  },
  "language_info": {
   "codemirror_mode": {
    "name": "ipython",
    "version": 3
   },
   "file_extension": ".py",
   "mimetype": "text/x-python",
   "name": "python",
   "nbconvert_exporter": "python",
   "pygments_lexer": "ipython3",
   "version": "3.7.6"
  }
 },
 "nbformat": 4,
 "nbformat_minor": 4
}
