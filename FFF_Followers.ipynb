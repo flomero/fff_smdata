{
 "cells": [
  {
   "cell_type": "markdown",
   "metadata": {},
   "source": [
    "# Get Follower Stats for FFF Accounts"
   ]
  },
  {
   "cell_type": "code",
   "execution_count": 1,
   "metadata": {},
   "outputs": [],
   "source": [
    "import requests\n",
    "import re\n",
    "\n",
    "def get_user(url):\n",
    "    re_user = re.findall('https?://(?:www.)?instagram.com/([A-Za-z0-9\\.\\_](?:(?:[A-Za-z0-9\\.\\_]|(?:.(?!.))){0,28}(?:[A-Za-z0-9_\\.\\_]))?)', url)\n",
    "    print(re_user)\n",
    "    user = re_user[0]\n",
    "    return user\n",
    "\n",
    "def get_followers(url):\n",
    "    r = requests.get(url).text\n",
    "    start = '\"edge_followed_by\":{\"count\":'\n",
    "    end = '},\"followed_by_viewer\"'\n",
    "    followers= r[r.find(start)+len(start):r.rfind(end)]\n",
    "    print(followers)\n",
    "    return followers\n"
   ]
  },
  {
   "cell_type": "markdown",
   "metadata": {},
   "source": [
    "Hier werden die Accounts asugelesen:"
   ]
  },
  {
   "cell_type": "code",
   "execution_count": 2,
   "metadata": {},
   "outputs": [
    {
     "name": "stdout",
     "output_type": "stream",
     "text": [
      "['architects4future']\n",
      "1861\n",
      "['artists4future_muenchen']\n",
      "199\n",
      "['artists4future_mv']\n",
      "165\n",
      "['artists4future']\n",
      "182\n",
      "['artistsforfuture']\n",
      "719\n",
      "['christiansforfuture']\n",
      "141\n",
      "['developersforfuture']\n",
      "58\n",
      "['educators4future']\n",
      "13\n",
      "['entrepreneursforfuture']\n",
      "4554\n",
      "['familiesforfuture_bgl']\n",
      "17\n",
      "['farmersforfuture']\n",
      "1504\n",
      "['fffdresden']\n",
      "7970\n",
      "['fffwiesbaden']\n",
      "2728\n",
      "['foresters4future']\n",
      "854\n",
      "['forestersforfuture']\n",
      "4\n",
      "['fridaysforfuture_bonn']\n",
      "10784\n",
      "['fridaysforfuture_duisburg']\n",
      "1346\n",
      "['fridaysforfuture_hannover']\n",
      "14259\n",
      "['fridaysforfuture_heidelberg']\n",
      "6934\n",
      "['fridaysforfuture_hh']\n",
      "24417\n",
      "['fridaysforfuture_ka']\n",
      "6818\n",
      "['fridaysforfuture_muenster']\n",
      "8927\n",
      "['fridaysforfuture.berlin']\n",
      "35606\n",
      "['fridaysforfuture.bielefeld']\n",
      "3947\n",
      "['fridaysforfuture.de']\n",
      "489948\n",
      "['fridaysforfuture.duesseldorf']\n",
      "9890\n",
      "['fridaysforfuture.essen']\n",
      "4594\n",
      "['fridaysforfuture.kn']\n",
      "4560\n",
      "['fridaysforfuture.leipzig']\n",
      "9488\n",
      "['fridaysforfuture.mg']\n",
      "1103\n",
      "['fridaysforfuture.wuppertal']\n",
      "3015\n",
      "['fridaysforfutureffm']\n",
      "13572\n",
      "['fridaysforfuturekoeln']\n",
      "19773\n",
      "['fridaysforfuturemannheim']\n",
      "4187\n",
      "['fridaysforfuturemuenchen']\n",
      "19525\n",
      "['fridaysforfuturenbg']\n",
      "8046\n",
      "['fridaysforfuturestuttgart']\n",
      "14287\n",
      "['grandparents4future.loe']\n",
      "58\n",
      "['healthforfuturebonn']\n",
      "348\n",
      "['healthforfuturedeutschland']\n",
      "1560\n",
      "['healthforfuturegraz']\n",
      "225\n",
      "['healthforfuturehamburg']\n",
      "363\n",
      "['healthforfuturemunich']\n",
      "487\n",
      "['kita_for_future_de']\n",
      "156\n",
      "['mothersforfuture']\n",
      "28\n",
      "['music_4_future']\n",
      "4\n",
      "['music.for.future']\n",
      "1\n",
      "['musicfor_future']\n",
      "204\n",
      "['nerds.for.future']\n",
      "0\n",
      "['paedagogen_for_future']\n",
      "328\n",
      "['parents4future_hannover']\n",
      "492\n",
      "['parents4future_hamburg']\n",
      "637\n",
      "['parents4future_muenchen']\n",
      "1076\n",
      "['parents4future_muenster']\n",
      "499\n",
      "['parents4future_berlin']\n",
      "1760\n",
      "['parents4future.bonn']\n",
      "118\n",
      "['parents4future']\n",
      "29668\n",
      "['parents4futurebielefeld']\n",
      "279\n",
      "['parents4futuredresden']\n",
      "541\n",
      "['parents4futurekarlsruhe']\n",
      "1417\n",
      "['parents4futurenbg']\n",
      "290\n",
      "['parentsforfuture_heidelberg']\n",
      "413\n",
      "['parentsforfuturedortmund']\n",
      "540\n",
      "['physiotherapistsforfuture']\n",
      "185\n",
      "['psychologists4future']\n",
      "1668\n",
      "['psychologistsforfuture']\n",
      "184\n",
      "['s4f_le']\n",
      "502\n",
      "['s4f_muc']\n",
      "813\n",
      "['s4f_tirol_vorarlberg']\n",
      "285\n",
      "['s4f.greifswald']\n",
      "433\n",
      "['s4fsaarland']\n",
      "195\n",
      "['schoolsforfuture.de']\n",
      "499\n",
      "['schoolsforfuture']\n",
      "10\n",
      "['scientists4future_hd']\n",
      "227\n",
      "['scientists4future_muenster']\n",
      "586\n",
      "['scientists4future']\n",
      "40104\n",
      "['scientistsforfuture_gangelt']\n",
      "138\n",
      "['sportsforfuture']\n",
      "1207\n",
      "['students4future_leipzig']\n",
      "1845\n",
      "['students4future.muenster']\n",
      "1091\n",
      "['students4future.muenster']\n",
      "1091\n",
      "['students4future.oldenburg']\n",
      "479\n",
      "['students4future.saar']\n",
      "317\n",
      "['students4futurebhv']\n",
      "110\n",
      "['students4futurekn']\n",
      "888\n",
      "['students4futurekn']\n",
      "888\n",
      "['students4futurepotsdam']\n",
      "97\n",
      "['studentsforfuture__wi']\n",
      "173\n",
      "['studentsforfuture_augsburg']\n",
      "354\n",
      "['studentsforfuture_bamberg']\n",
      "655\n",
      "['studentsforfuture_germany']\n",
      "7618\n",
      "['studentsforfuture_hannover']\n",
      "2011\n",
      "['studentsforfuture_hh']\n",
      "870\n",
      "['studentsforfuture_koeln']\n",
      "1570\n",
      "['studentsforfuture_ku']\n",
      "367\n",
      "['studentsforfuture_mainz']\n",
      "1105\n",
      "['studentsforfuture_wuerzburg']\n",
      "523\n",
      "['studentsforfuture_ymr']\n",
      "251\n",
      "['studentsforfuture.bs']\n",
      "1006\n",
      "['studentsforfuture.bt']\n",
      "573\n",
      "['studentsforfuture.da']\n",
      "558\n",
      "['studentsforfuture.ehb']\n",
      "134\n",
      "['studentsforfuture.erlangen']\n",
      "433\n",
      "['studentsforfuture.essen']\n",
      "407\n",
      "['studentsforfuture.ostfalia']\n",
      "126\n",
      "['studentsforfuturebochum']\n",
      "551\n",
      "['studentsforfutureffm']\n",
      "849\n",
      "['studentsforfuturemuenchen']\n",
      "1583\n",
      "['studentsforfutureunima']\n",
      "181\n",
      "['teachersforfuture_bw']\n",
      "116\n",
      "['teachersforfuture.germany']\n",
      "20683\n",
      "['urbanists4future']\n",
      "101\n",
      "['we4future_camp']\n",
      "782\n",
      "ready\n"
     ]
    }
   ],
   "source": [
    "accounts = open(\"accounts.txt\", \"r\")\n",
    "names = []\n",
    "followers = []\n",
    "\n",
    "\n",
    "for account in accounts:\n",
    "    name = get_user(account)\n",
    "    follower = get_followers(account)\n",
    "    user = [str(name), str(follower)]\n",
    "    names.append(name)\n",
    "    followers.append(follower)\n",
    "print(\"ready\")"
   ]
  },
  {
   "cell_type": "code",
   "execution_count": 2,
   "metadata": {},
   "outputs": [
    {
     "ename": "NameError",
     "evalue": "name 'names' is not defined",
     "output_type": "error",
     "traceback": [
      "\u001b[1;31m---------------------------------------------------------------------------\u001b[0m",
      "\u001b[1;31mNameError\u001b[0m                                 Traceback (most recent call last)",
      "\u001b[1;32m<ipython-input-2-6042b86ffd34>\u001b[0m in \u001b[0;36m<module>\u001b[1;34m\u001b[0m\n\u001b[0;32m      1\u001b[0m \u001b[1;32mimport\u001b[0m \u001b[0mjson\u001b[0m\u001b[1;33m\u001b[0m\u001b[1;33m\u001b[0m\u001b[0m\n\u001b[0;32m      2\u001b[0m \u001b[1;33m\u001b[0m\u001b[0m\n\u001b[1;32m----> 3\u001b[1;33m \u001b[0mchris\u001b[0m \u001b[1;33m=\u001b[0m \u001b[0mdict\u001b[0m\u001b[1;33m(\u001b[0m\u001b[0mzip\u001b[0m\u001b[1;33m(\u001b[0m\u001b[0mnames\u001b[0m\u001b[1;33m,\u001b[0m \u001b[0mfollowers\u001b[0m\u001b[1;33m)\u001b[0m\u001b[1;33m)\u001b[0m\u001b[1;33m\u001b[0m\u001b[1;33m\u001b[0m\u001b[0m\n\u001b[0m\u001b[0;32m      4\u001b[0m \u001b[0mf\u001b[0m \u001b[1;33m=\u001b[0m \u001b[0mopen\u001b[0m\u001b[1;33m(\u001b[0m\u001b[1;34m\"chris.json\"\u001b[0m\u001b[1;33m,\u001b[0m \u001b[1;34m\"w\"\u001b[0m\u001b[1;33m)\u001b[0m\u001b[1;33m\u001b[0m\u001b[1;33m\u001b[0m\u001b[0m\n\u001b[0;32m      5\u001b[0m \u001b[0mjson\u001b[0m\u001b[1;33m.\u001b[0m\u001b[0mdump\u001b[0m\u001b[1;33m(\u001b[0m\u001b[0mchris\u001b[0m\u001b[1;33m,\u001b[0m \u001b[0mf\u001b[0m\u001b[1;33m)\u001b[0m\u001b[1;33m\u001b[0m\u001b[1;33m\u001b[0m\u001b[0m\n",
      "\u001b[1;31mNameError\u001b[0m: name 'names' is not defined"
     ]
    }
   ],
   "source": [
    "import json\n",
    "\n",
    "chris = dict(zip(names, followers))\n",
    "f = open(\"chris.json\", \"w\")\n",
    "json.dump(chris, f)\n",
    "f.close()\n"
   ]
  },
  {
   "cell_type": "code",
   "execution_count": 4,
   "metadata": {},
   "outputs": [
    {
     "data": {
      "application/vnd.plotly.v1+json": {
       "config": {
        "plotlyServerURL": "https://plot.ly"
       },
       "data": [
        {
         "type": "bar",
         "x": [
          "architects4future",
          "artists4future",
          "artists4future_muenchen",
          "artists4future_mv",
          "artistsforfuture",
          "christiansforfuture",
          "developersforfuture",
          "educators4future",
          "entrepreneursforfuture",
          "familiesforfuture_bgl",
          "farmersforfuture",
          "fffdresden",
          "fffwiesbaden",
          "foresters4future",
          "forestersforfuture",
          "fridaysforfuture.berlin",
          "fridaysforfuture.bielefeld",
          "fridaysforfuture.de",
          "fridaysforfuture.duesseldorf",
          "fridaysforfuture.essen",
          "fridaysforfuture.kn",
          "fridaysforfuture.leipzig",
          "fridaysforfuture.mg",
          "fridaysforfuture.wuppertal",
          "fridaysforfuture_bonn",
          "fridaysforfuture_duisburg",
          "fridaysforfuture_hannover",
          "fridaysforfuture_heidelberg",
          "fridaysforfuture_hh",
          "fridaysforfuture_ka",
          "fridaysforfuture_muenster",
          "fridaysforfutureffm",
          "fridaysforfuturekoeln",
          "fridaysforfuturemannheim",
          "fridaysforfuturemuenchen",
          "fridaysforfuturenbg",
          "fridaysforfuturestuttgart",
          "grandparents4future.loe",
          "healthforfuturebonn",
          "healthforfuturedeutschland",
          "healthforfuturegraz",
          "healthforfuturehamburg",
          "healthforfuturemunich",
          "kita_for_future_de",
          "mothersforfuture",
          "music.for.future",
          "music_4_future",
          "musicfor_future",
          "nerds.for.future",
          "paedagogen_for_future",
          "parents4future",
          "parents4future.bonn",
          "parents4future_berlin",
          "parents4future_hamburg",
          "parents4future_hannover",
          "parents4future_muenchen",
          "parents4future_muenster",
          "parents4futurebielefeld",
          "parents4futuredresden",
          "parents4futurekarlsruhe",
          "parents4futurenbg",
          "parentsforfuture_heidelberg",
          "parentsforfuturedortmund",
          "physiotherapistsforfuture",
          "psychologists4future",
          "psychologistsforfuture",
          "s4f.greifswald",
          "s4f_le",
          "s4f_muc",
          "s4f_tirol_vorarlberg",
          "s4fsaarland",
          "schoolsforfuture",
          "schoolsforfuture.de",
          "scientists4future",
          "scientists4future_hd",
          "scientists4future_muenster",
          "scientistsforfuture_gangelt",
          "sportsforfuture",
          "students4future.muenster",
          "students4future.oldenburg",
          "students4future.saar",
          "students4future_leipzig",
          "students4futurebhv",
          "students4futurekn",
          "students4futurepotsdam",
          "studentsforfuture.bs",
          "studentsforfuture.bt",
          "studentsforfuture.da",
          "studentsforfuture.ehb",
          "studentsforfuture.erlangen",
          "studentsforfuture.essen",
          "studentsforfuture.ostfalia",
          "studentsforfuture__wi",
          "studentsforfuture_augsburg",
          "studentsforfuture_bamberg",
          "studentsforfuture_germany",
          "studentsforfuture_hannover",
          "studentsforfuture_hh",
          "studentsforfuture_koeln",
          "studentsforfuture_ku",
          "studentsforfuture_mainz",
          "studentsforfuture_wuerzburg",
          "studentsforfuture_ymr",
          "studentsforfuturebochum",
          "studentsforfutureffm",
          "studentsforfuturemuenchen",
          "studentsforfutureunima",
          "teachersforfuture.germany",
          "teachersforfuture_bw",
          "urbanists4future",
          "we4future_camp"
         ],
         "y": [
          "1861",
          "182",
          "199",
          "165",
          "719",
          "141",
          "58",
          "13",
          "4554",
          "17",
          "1504",
          "7970",
          "2728",
          "854",
          "4",
          "35606",
          "3947",
          "489948",
          "9890",
          "4594",
          "4560",
          "9488",
          "1103",
          "3015",
          "10784",
          "1346",
          "14259",
          "6934",
          "24417",
          "6818",
          "8927",
          "13572",
          "19773",
          "4187",
          "19525",
          "8046",
          "14287",
          "58",
          "348",
          "1560",
          "225",
          "363",
          "487",
          "156",
          "28",
          "1",
          "4",
          "204",
          "0",
          "328",
          "29668",
          "118",
          "1760",
          "637",
          "492",
          "1076",
          "499",
          "279",
          "541",
          "1417",
          "290",
          "413",
          "540",
          "185",
          "1668",
          "184",
          "433",
          "502",
          "813",
          "285",
          "195",
          "10",
          "499",
          "40104",
          "227",
          "586",
          "138",
          "1207",
          "1091",
          "479",
          "317",
          "1845",
          "110",
          "888",
          "97",
          "1006",
          "573",
          "558",
          "134",
          "433",
          "407",
          "126",
          "173",
          "354",
          "655",
          "7618",
          "2011",
          "870",
          "1570",
          "367",
          "1105",
          "523",
          "251",
          "551",
          "849",
          "1583",
          "181",
          "20683",
          "116",
          "101",
          "782"
         ]
        }
       ],
       "layout": {
        "template": {
         "data": {
          "bar": [
           {
            "error_x": {
             "color": "#2a3f5f"
            },
            "error_y": {
             "color": "#2a3f5f"
            },
            "marker": {
             "line": {
              "color": "#E5ECF6",
              "width": 0.5
             }
            },
            "type": "bar"
           }
          ],
          "barpolar": [
           {
            "marker": {
             "line": {
              "color": "#E5ECF6",
              "width": 0.5
             }
            },
            "type": "barpolar"
           }
          ],
          "carpet": [
           {
            "aaxis": {
             "endlinecolor": "#2a3f5f",
             "gridcolor": "white",
             "linecolor": "white",
             "minorgridcolor": "white",
             "startlinecolor": "#2a3f5f"
            },
            "baxis": {
             "endlinecolor": "#2a3f5f",
             "gridcolor": "white",
             "linecolor": "white",
             "minorgridcolor": "white",
             "startlinecolor": "#2a3f5f"
            },
            "type": "carpet"
           }
          ],
          "choropleth": [
           {
            "colorbar": {
             "outlinewidth": 0,
             "ticks": ""
            },
            "type": "choropleth"
           }
          ],
          "contour": [
           {
            "colorbar": {
             "outlinewidth": 0,
             "ticks": ""
            },
            "colorscale": [
             [
              0,
              "#0d0887"
             ],
             [
              0.1111111111111111,
              "#46039f"
             ],
             [
              0.2222222222222222,
              "#7201a8"
             ],
             [
              0.3333333333333333,
              "#9c179e"
             ],
             [
              0.4444444444444444,
              "#bd3786"
             ],
             [
              0.5555555555555556,
              "#d8576b"
             ],
             [
              0.6666666666666666,
              "#ed7953"
             ],
             [
              0.7777777777777778,
              "#fb9f3a"
             ],
             [
              0.8888888888888888,
              "#fdca26"
             ],
             [
              1,
              "#f0f921"
             ]
            ],
            "type": "contour"
           }
          ],
          "contourcarpet": [
           {
            "colorbar": {
             "outlinewidth": 0,
             "ticks": ""
            },
            "type": "contourcarpet"
           }
          ],
          "heatmap": [
           {
            "colorbar": {
             "outlinewidth": 0,
             "ticks": ""
            },
            "colorscale": [
             [
              0,
              "#0d0887"
             ],
             [
              0.1111111111111111,
              "#46039f"
             ],
             [
              0.2222222222222222,
              "#7201a8"
             ],
             [
              0.3333333333333333,
              "#9c179e"
             ],
             [
              0.4444444444444444,
              "#bd3786"
             ],
             [
              0.5555555555555556,
              "#d8576b"
             ],
             [
              0.6666666666666666,
              "#ed7953"
             ],
             [
              0.7777777777777778,
              "#fb9f3a"
             ],
             [
              0.8888888888888888,
              "#fdca26"
             ],
             [
              1,
              "#f0f921"
             ]
            ],
            "type": "heatmap"
           }
          ],
          "heatmapgl": [
           {
            "colorbar": {
             "outlinewidth": 0,
             "ticks": ""
            },
            "colorscale": [
             [
              0,
              "#0d0887"
             ],
             [
              0.1111111111111111,
              "#46039f"
             ],
             [
              0.2222222222222222,
              "#7201a8"
             ],
             [
              0.3333333333333333,
              "#9c179e"
             ],
             [
              0.4444444444444444,
              "#bd3786"
             ],
             [
              0.5555555555555556,
              "#d8576b"
             ],
             [
              0.6666666666666666,
              "#ed7953"
             ],
             [
              0.7777777777777778,
              "#fb9f3a"
             ],
             [
              0.8888888888888888,
              "#fdca26"
             ],
             [
              1,
              "#f0f921"
             ]
            ],
            "type": "heatmapgl"
           }
          ],
          "histogram": [
           {
            "marker": {
             "colorbar": {
              "outlinewidth": 0,
              "ticks": ""
             }
            },
            "type": "histogram"
           }
          ],
          "histogram2d": [
           {
            "colorbar": {
             "outlinewidth": 0,
             "ticks": ""
            },
            "colorscale": [
             [
              0,
              "#0d0887"
             ],
             [
              0.1111111111111111,
              "#46039f"
             ],
             [
              0.2222222222222222,
              "#7201a8"
             ],
             [
              0.3333333333333333,
              "#9c179e"
             ],
             [
              0.4444444444444444,
              "#bd3786"
             ],
             [
              0.5555555555555556,
              "#d8576b"
             ],
             [
              0.6666666666666666,
              "#ed7953"
             ],
             [
              0.7777777777777778,
              "#fb9f3a"
             ],
             [
              0.8888888888888888,
              "#fdca26"
             ],
             [
              1,
              "#f0f921"
             ]
            ],
            "type": "histogram2d"
           }
          ],
          "histogram2dcontour": [
           {
            "colorbar": {
             "outlinewidth": 0,
             "ticks": ""
            },
            "colorscale": [
             [
              0,
              "#0d0887"
             ],
             [
              0.1111111111111111,
              "#46039f"
             ],
             [
              0.2222222222222222,
              "#7201a8"
             ],
             [
              0.3333333333333333,
              "#9c179e"
             ],
             [
              0.4444444444444444,
              "#bd3786"
             ],
             [
              0.5555555555555556,
              "#d8576b"
             ],
             [
              0.6666666666666666,
              "#ed7953"
             ],
             [
              0.7777777777777778,
              "#fb9f3a"
             ],
             [
              0.8888888888888888,
              "#fdca26"
             ],
             [
              1,
              "#f0f921"
             ]
            ],
            "type": "histogram2dcontour"
           }
          ],
          "mesh3d": [
           {
            "colorbar": {
             "outlinewidth": 0,
             "ticks": ""
            },
            "type": "mesh3d"
           }
          ],
          "parcoords": [
           {
            "line": {
             "colorbar": {
              "outlinewidth": 0,
              "ticks": ""
             }
            },
            "type": "parcoords"
           }
          ],
          "pie": [
           {
            "automargin": true,
            "type": "pie"
           }
          ],
          "scatter": [
           {
            "marker": {
             "colorbar": {
              "outlinewidth": 0,
              "ticks": ""
             }
            },
            "type": "scatter"
           }
          ],
          "scatter3d": [
           {
            "line": {
             "colorbar": {
              "outlinewidth": 0,
              "ticks": ""
             }
            },
            "marker": {
             "colorbar": {
              "outlinewidth": 0,
              "ticks": ""
             }
            },
            "type": "scatter3d"
           }
          ],
          "scattercarpet": [
           {
            "marker": {
             "colorbar": {
              "outlinewidth": 0,
              "ticks": ""
             }
            },
            "type": "scattercarpet"
           }
          ],
          "scattergeo": [
           {
            "marker": {
             "colorbar": {
              "outlinewidth": 0,
              "ticks": ""
             }
            },
            "type": "scattergeo"
           }
          ],
          "scattergl": [
           {
            "marker": {
             "colorbar": {
              "outlinewidth": 0,
              "ticks": ""
             }
            },
            "type": "scattergl"
           }
          ],
          "scattermapbox": [
           {
            "marker": {
             "colorbar": {
              "outlinewidth": 0,
              "ticks": ""
             }
            },
            "type": "scattermapbox"
           }
          ],
          "scatterpolar": [
           {
            "marker": {
             "colorbar": {
              "outlinewidth": 0,
              "ticks": ""
             }
            },
            "type": "scatterpolar"
           }
          ],
          "scatterpolargl": [
           {
            "marker": {
             "colorbar": {
              "outlinewidth": 0,
              "ticks": ""
             }
            },
            "type": "scatterpolargl"
           }
          ],
          "scatterternary": [
           {
            "marker": {
             "colorbar": {
              "outlinewidth": 0,
              "ticks": ""
             }
            },
            "type": "scatterternary"
           }
          ],
          "surface": [
           {
            "colorbar": {
             "outlinewidth": 0,
             "ticks": ""
            },
            "colorscale": [
             [
              0,
              "#0d0887"
             ],
             [
              0.1111111111111111,
              "#46039f"
             ],
             [
              0.2222222222222222,
              "#7201a8"
             ],
             [
              0.3333333333333333,
              "#9c179e"
             ],
             [
              0.4444444444444444,
              "#bd3786"
             ],
             [
              0.5555555555555556,
              "#d8576b"
             ],
             [
              0.6666666666666666,
              "#ed7953"
             ],
             [
              0.7777777777777778,
              "#fb9f3a"
             ],
             [
              0.8888888888888888,
              "#fdca26"
             ],
             [
              1,
              "#f0f921"
             ]
            ],
            "type": "surface"
           }
          ],
          "table": [
           {
            "cells": {
             "fill": {
              "color": "#EBF0F8"
             },
             "line": {
              "color": "white"
             }
            },
            "header": {
             "fill": {
              "color": "#C8D4E3"
             },
             "line": {
              "color": "white"
             }
            },
            "type": "table"
           }
          ]
         },
         "layout": {
          "annotationdefaults": {
           "arrowcolor": "#2a3f5f",
           "arrowhead": 0,
           "arrowwidth": 1
          },
          "coloraxis": {
           "colorbar": {
            "outlinewidth": 0,
            "ticks": ""
           }
          },
          "colorscale": {
           "diverging": [
            [
             0,
             "#8e0152"
            ],
            [
             0.1,
             "#c51b7d"
            ],
            [
             0.2,
             "#de77ae"
            ],
            [
             0.3,
             "#f1b6da"
            ],
            [
             0.4,
             "#fde0ef"
            ],
            [
             0.5,
             "#f7f7f7"
            ],
            [
             0.6,
             "#e6f5d0"
            ],
            [
             0.7,
             "#b8e186"
            ],
            [
             0.8,
             "#7fbc41"
            ],
            [
             0.9,
             "#4d9221"
            ],
            [
             1,
             "#276419"
            ]
           ],
           "sequential": [
            [
             0,
             "#0d0887"
            ],
            [
             0.1111111111111111,
             "#46039f"
            ],
            [
             0.2222222222222222,
             "#7201a8"
            ],
            [
             0.3333333333333333,
             "#9c179e"
            ],
            [
             0.4444444444444444,
             "#bd3786"
            ],
            [
             0.5555555555555556,
             "#d8576b"
            ],
            [
             0.6666666666666666,
             "#ed7953"
            ],
            [
             0.7777777777777778,
             "#fb9f3a"
            ],
            [
             0.8888888888888888,
             "#fdca26"
            ],
            [
             1,
             "#f0f921"
            ]
           ],
           "sequentialminus": [
            [
             0,
             "#0d0887"
            ],
            [
             0.1111111111111111,
             "#46039f"
            ],
            [
             0.2222222222222222,
             "#7201a8"
            ],
            [
             0.3333333333333333,
             "#9c179e"
            ],
            [
             0.4444444444444444,
             "#bd3786"
            ],
            [
             0.5555555555555556,
             "#d8576b"
            ],
            [
             0.6666666666666666,
             "#ed7953"
            ],
            [
             0.7777777777777778,
             "#fb9f3a"
            ],
            [
             0.8888888888888888,
             "#fdca26"
            ],
            [
             1,
             "#f0f921"
            ]
           ]
          },
          "colorway": [
           "#636efa",
           "#EF553B",
           "#00cc96",
           "#ab63fa",
           "#FFA15A",
           "#19d3f3",
           "#FF6692",
           "#B6E880",
           "#FF97FF",
           "#FECB52"
          ],
          "font": {
           "color": "#2a3f5f"
          },
          "geo": {
           "bgcolor": "white",
           "lakecolor": "white",
           "landcolor": "#E5ECF6",
           "showlakes": true,
           "showland": true,
           "subunitcolor": "white"
          },
          "hoverlabel": {
           "align": "left"
          },
          "hovermode": "closest",
          "mapbox": {
           "style": "light"
          },
          "paper_bgcolor": "white",
          "plot_bgcolor": "#E5ECF6",
          "polar": {
           "angularaxis": {
            "gridcolor": "white",
            "linecolor": "white",
            "ticks": ""
           },
           "bgcolor": "#E5ECF6",
           "radialaxis": {
            "gridcolor": "white",
            "linecolor": "white",
            "ticks": ""
           }
          },
          "scene": {
           "xaxis": {
            "backgroundcolor": "#E5ECF6",
            "gridcolor": "white",
            "gridwidth": 2,
            "linecolor": "white",
            "showbackground": true,
            "ticks": "",
            "zerolinecolor": "white"
           },
           "yaxis": {
            "backgroundcolor": "#E5ECF6",
            "gridcolor": "white",
            "gridwidth": 2,
            "linecolor": "white",
            "showbackground": true,
            "ticks": "",
            "zerolinecolor": "white"
           },
           "zaxis": {
            "backgroundcolor": "#E5ECF6",
            "gridcolor": "white",
            "gridwidth": 2,
            "linecolor": "white",
            "showbackground": true,
            "ticks": "",
            "zerolinecolor": "white"
           }
          },
          "shapedefaults": {
           "line": {
            "color": "#2a3f5f"
           }
          },
          "ternary": {
           "aaxis": {
            "gridcolor": "white",
            "linecolor": "white",
            "ticks": ""
           },
           "baxis": {
            "gridcolor": "white",
            "linecolor": "white",
            "ticks": ""
           },
           "bgcolor": "#E5ECF6",
           "caxis": {
            "gridcolor": "white",
            "linecolor": "white",
            "ticks": ""
           }
          },
          "title": {
           "x": 0.05
          },
          "xaxis": {
           "automargin": true,
           "gridcolor": "white",
           "linecolor": "white",
           "ticks": "",
           "title": {
            "standoff": 15
           },
           "zerolinecolor": "white",
           "zerolinewidth": 2
          },
          "yaxis": {
           "automargin": true,
           "gridcolor": "white",
           "linecolor": "white",
           "ticks": "",
           "title": {
            "standoff": 15
           },
           "zerolinecolor": "white",
           "zerolinewidth": 2
          }
         }
        }
       }
      },
      "text/html": [
       "<div>\n",
       "        \n",
       "        \n",
       "            <div id=\"024af176-100c-4ca0-b853-2dadc9e063c8\" class=\"plotly-graph-div\" style=\"height:525px; width:100%;\"></div>\n",
       "            <script type=\"text/javascript\">\n",
       "                require([\"plotly\"], function(Plotly) {\n",
       "                    window.PLOTLYENV=window.PLOTLYENV || {};\n",
       "                    \n",
       "                if (document.getElementById(\"024af176-100c-4ca0-b853-2dadc9e063c8\")) {\n",
       "                    Plotly.newPlot(\n",
       "                        '024af176-100c-4ca0-b853-2dadc9e063c8',\n",
       "                        [{\"type\": \"bar\", \"x\": [\"architects4future\", \"artists4future\", \"artists4future_muenchen\", \"artists4future_mv\", \"artistsforfuture\", \"christiansforfuture\", \"developersforfuture\", \"educators4future\", \"entrepreneursforfuture\", \"familiesforfuture_bgl\", \"farmersforfuture\", \"fffdresden\", \"fffwiesbaden\", \"foresters4future\", \"forestersforfuture\", \"fridaysforfuture.berlin\", \"fridaysforfuture.bielefeld\", \"fridaysforfuture.de\", \"fridaysforfuture.duesseldorf\", \"fridaysforfuture.essen\", \"fridaysforfuture.kn\", \"fridaysforfuture.leipzig\", \"fridaysforfuture.mg\", \"fridaysforfuture.wuppertal\", \"fridaysforfuture_bonn\", \"fridaysforfuture_duisburg\", \"fridaysforfuture_hannover\", \"fridaysforfuture_heidelberg\", \"fridaysforfuture_hh\", \"fridaysforfuture_ka\", \"fridaysforfuture_muenster\", \"fridaysforfutureffm\", \"fridaysforfuturekoeln\", \"fridaysforfuturemannheim\", \"fridaysforfuturemuenchen\", \"fridaysforfuturenbg\", \"fridaysforfuturestuttgart\", \"grandparents4future.loe\", \"healthforfuturebonn\", \"healthforfuturedeutschland\", \"healthforfuturegraz\", \"healthforfuturehamburg\", \"healthforfuturemunich\", \"kita_for_future_de\", \"mothersforfuture\", \"music.for.future\", \"music_4_future\", \"musicfor_future\", \"nerds.for.future\", \"paedagogen_for_future\", \"parents4future\", \"parents4future.bonn\", \"parents4future_berlin\", \"parents4future_hamburg\", \"parents4future_hannover\", \"parents4future_muenchen\", \"parents4future_muenster\", \"parents4futurebielefeld\", \"parents4futuredresden\", \"parents4futurekarlsruhe\", \"parents4futurenbg\", \"parentsforfuture_heidelberg\", \"parentsforfuturedortmund\", \"physiotherapistsforfuture\", \"psychologists4future\", \"psychologistsforfuture\", \"s4f.greifswald\", \"s4f_le\", \"s4f_muc\", \"s4f_tirol_vorarlberg\", \"s4fsaarland\", \"schoolsforfuture\", \"schoolsforfuture.de\", \"scientists4future\", \"scientists4future_hd\", \"scientists4future_muenster\", \"scientistsforfuture_gangelt\", \"sportsforfuture\", \"students4future.muenster\", \"students4future.oldenburg\", \"students4future.saar\", \"students4future_leipzig\", \"students4futurebhv\", \"students4futurekn\", \"students4futurepotsdam\", \"studentsforfuture.bs\", \"studentsforfuture.bt\", \"studentsforfuture.da\", \"studentsforfuture.ehb\", \"studentsforfuture.erlangen\", \"studentsforfuture.essen\", \"studentsforfuture.ostfalia\", \"studentsforfuture__wi\", \"studentsforfuture_augsburg\", \"studentsforfuture_bamberg\", \"studentsforfuture_germany\", \"studentsforfuture_hannover\", \"studentsforfuture_hh\", \"studentsforfuture_koeln\", \"studentsforfuture_ku\", \"studentsforfuture_mainz\", \"studentsforfuture_wuerzburg\", \"studentsforfuture_ymr\", \"studentsforfuturebochum\", \"studentsforfutureffm\", \"studentsforfuturemuenchen\", \"studentsforfutureunima\", \"teachersforfuture.germany\", \"teachersforfuture_bw\", \"urbanists4future\", \"we4future_camp\"], \"y\": [\"1861\", \"182\", \"199\", \"165\", \"719\", \"141\", \"58\", \"13\", \"4554\", \"17\", \"1504\", \"7970\", \"2728\", \"854\", \"4\", \"35606\", \"3947\", \"489948\", \"9890\", \"4594\", \"4560\", \"9488\", \"1103\", \"3015\", \"10784\", \"1346\", \"14259\", \"6934\", \"24417\", \"6818\", \"8927\", \"13572\", \"19773\", \"4187\", \"19525\", \"8046\", \"14287\", \"58\", \"348\", \"1560\", \"225\", \"363\", \"487\", \"156\", \"28\", \"1\", \"4\", \"204\", \"0\", \"328\", \"29668\", \"118\", \"1760\", \"637\", \"492\", \"1076\", \"499\", \"279\", \"541\", \"1417\", \"290\", \"413\", \"540\", \"185\", \"1668\", \"184\", \"433\", \"502\", \"813\", \"285\", \"195\", \"10\", \"499\", \"40104\", \"227\", \"586\", \"138\", \"1207\", \"1091\", \"479\", \"317\", \"1845\", \"110\", \"888\", \"97\", \"1006\", \"573\", \"558\", \"134\", \"433\", \"407\", \"126\", \"173\", \"354\", \"655\", \"7618\", \"2011\", \"870\", \"1570\", \"367\", \"1105\", \"523\", \"251\", \"551\", \"849\", \"1583\", \"181\", \"20683\", \"116\", \"101\", \"782\"]}],\n",
       "                        {\"template\": {\"data\": {\"bar\": [{\"error_x\": {\"color\": \"#2a3f5f\"}, \"error_y\": {\"color\": \"#2a3f5f\"}, \"marker\": {\"line\": {\"color\": \"#E5ECF6\", \"width\": 0.5}}, \"type\": \"bar\"}], \"barpolar\": [{\"marker\": {\"line\": {\"color\": \"#E5ECF6\", \"width\": 0.5}}, \"type\": \"barpolar\"}], \"carpet\": [{\"aaxis\": {\"endlinecolor\": \"#2a3f5f\", \"gridcolor\": \"white\", \"linecolor\": \"white\", \"minorgridcolor\": \"white\", \"startlinecolor\": \"#2a3f5f\"}, \"baxis\": {\"endlinecolor\": \"#2a3f5f\", \"gridcolor\": \"white\", \"linecolor\": \"white\", \"minorgridcolor\": \"white\", \"startlinecolor\": \"#2a3f5f\"}, \"type\": \"carpet\"}], \"choropleth\": [{\"colorbar\": {\"outlinewidth\": 0, \"ticks\": \"\"}, \"type\": \"choropleth\"}], \"contour\": [{\"colorbar\": {\"outlinewidth\": 0, \"ticks\": \"\"}, \"colorscale\": [[0.0, \"#0d0887\"], [0.1111111111111111, \"#46039f\"], [0.2222222222222222, \"#7201a8\"], [0.3333333333333333, \"#9c179e\"], [0.4444444444444444, \"#bd3786\"], [0.5555555555555556, \"#d8576b\"], [0.6666666666666666, \"#ed7953\"], [0.7777777777777778, \"#fb9f3a\"], [0.8888888888888888, \"#fdca26\"], [1.0, \"#f0f921\"]], \"type\": \"contour\"}], \"contourcarpet\": [{\"colorbar\": {\"outlinewidth\": 0, \"ticks\": \"\"}, \"type\": \"contourcarpet\"}], \"heatmap\": [{\"colorbar\": {\"outlinewidth\": 0, \"ticks\": \"\"}, \"colorscale\": [[0.0, \"#0d0887\"], [0.1111111111111111, \"#46039f\"], [0.2222222222222222, \"#7201a8\"], [0.3333333333333333, \"#9c179e\"], [0.4444444444444444, \"#bd3786\"], [0.5555555555555556, \"#d8576b\"], [0.6666666666666666, \"#ed7953\"], [0.7777777777777778, \"#fb9f3a\"], [0.8888888888888888, \"#fdca26\"], [1.0, \"#f0f921\"]], \"type\": \"heatmap\"}], \"heatmapgl\": [{\"colorbar\": {\"outlinewidth\": 0, \"ticks\": \"\"}, \"colorscale\": [[0.0, \"#0d0887\"], [0.1111111111111111, \"#46039f\"], [0.2222222222222222, \"#7201a8\"], [0.3333333333333333, \"#9c179e\"], [0.4444444444444444, \"#bd3786\"], [0.5555555555555556, \"#d8576b\"], [0.6666666666666666, \"#ed7953\"], [0.7777777777777778, \"#fb9f3a\"], [0.8888888888888888, \"#fdca26\"], [1.0, \"#f0f921\"]], \"type\": \"heatmapgl\"}], \"histogram\": [{\"marker\": {\"colorbar\": {\"outlinewidth\": 0, \"ticks\": \"\"}}, \"type\": \"histogram\"}], \"histogram2d\": [{\"colorbar\": {\"outlinewidth\": 0, \"ticks\": \"\"}, \"colorscale\": [[0.0, \"#0d0887\"], [0.1111111111111111, \"#46039f\"], [0.2222222222222222, \"#7201a8\"], [0.3333333333333333, \"#9c179e\"], [0.4444444444444444, \"#bd3786\"], [0.5555555555555556, \"#d8576b\"], [0.6666666666666666, \"#ed7953\"], [0.7777777777777778, \"#fb9f3a\"], [0.8888888888888888, \"#fdca26\"], [1.0, \"#f0f921\"]], \"type\": \"histogram2d\"}], \"histogram2dcontour\": [{\"colorbar\": {\"outlinewidth\": 0, \"ticks\": \"\"}, \"colorscale\": [[0.0, \"#0d0887\"], [0.1111111111111111, \"#46039f\"], [0.2222222222222222, \"#7201a8\"], [0.3333333333333333, \"#9c179e\"], [0.4444444444444444, \"#bd3786\"], [0.5555555555555556, \"#d8576b\"], [0.6666666666666666, \"#ed7953\"], [0.7777777777777778, \"#fb9f3a\"], [0.8888888888888888, \"#fdca26\"], [1.0, \"#f0f921\"]], \"type\": \"histogram2dcontour\"}], \"mesh3d\": [{\"colorbar\": {\"outlinewidth\": 0, \"ticks\": \"\"}, \"type\": \"mesh3d\"}], \"parcoords\": [{\"line\": {\"colorbar\": {\"outlinewidth\": 0, \"ticks\": \"\"}}, \"type\": \"parcoords\"}], \"pie\": [{\"automargin\": true, \"type\": \"pie\"}], \"scatter\": [{\"marker\": {\"colorbar\": {\"outlinewidth\": 0, \"ticks\": \"\"}}, \"type\": \"scatter\"}], \"scatter3d\": [{\"line\": {\"colorbar\": {\"outlinewidth\": 0, \"ticks\": \"\"}}, \"marker\": {\"colorbar\": {\"outlinewidth\": 0, \"ticks\": \"\"}}, \"type\": \"scatter3d\"}], \"scattercarpet\": [{\"marker\": {\"colorbar\": {\"outlinewidth\": 0, \"ticks\": \"\"}}, \"type\": \"scattercarpet\"}], \"scattergeo\": [{\"marker\": {\"colorbar\": {\"outlinewidth\": 0, \"ticks\": \"\"}}, \"type\": \"scattergeo\"}], \"scattergl\": [{\"marker\": {\"colorbar\": {\"outlinewidth\": 0, \"ticks\": \"\"}}, \"type\": \"scattergl\"}], \"scattermapbox\": [{\"marker\": {\"colorbar\": {\"outlinewidth\": 0, \"ticks\": \"\"}}, \"type\": \"scattermapbox\"}], \"scatterpolar\": [{\"marker\": {\"colorbar\": {\"outlinewidth\": 0, \"ticks\": \"\"}}, \"type\": \"scatterpolar\"}], \"scatterpolargl\": [{\"marker\": {\"colorbar\": {\"outlinewidth\": 0, \"ticks\": \"\"}}, \"type\": \"scatterpolargl\"}], \"scatterternary\": [{\"marker\": {\"colorbar\": {\"outlinewidth\": 0, \"ticks\": \"\"}}, \"type\": \"scatterternary\"}], \"surface\": [{\"colorbar\": {\"outlinewidth\": 0, \"ticks\": \"\"}, \"colorscale\": [[0.0, \"#0d0887\"], [0.1111111111111111, \"#46039f\"], [0.2222222222222222, \"#7201a8\"], [0.3333333333333333, \"#9c179e\"], [0.4444444444444444, \"#bd3786\"], [0.5555555555555556, \"#d8576b\"], [0.6666666666666666, \"#ed7953\"], [0.7777777777777778, \"#fb9f3a\"], [0.8888888888888888, \"#fdca26\"], [1.0, \"#f0f921\"]], \"type\": \"surface\"}], \"table\": [{\"cells\": {\"fill\": {\"color\": \"#EBF0F8\"}, \"line\": {\"color\": \"white\"}}, \"header\": {\"fill\": {\"color\": \"#C8D4E3\"}, \"line\": {\"color\": \"white\"}}, \"type\": \"table\"}]}, \"layout\": {\"annotationdefaults\": {\"arrowcolor\": \"#2a3f5f\", \"arrowhead\": 0, \"arrowwidth\": 1}, \"coloraxis\": {\"colorbar\": {\"outlinewidth\": 0, \"ticks\": \"\"}}, \"colorscale\": {\"diverging\": [[0, \"#8e0152\"], [0.1, \"#c51b7d\"], [0.2, \"#de77ae\"], [0.3, \"#f1b6da\"], [0.4, \"#fde0ef\"], [0.5, \"#f7f7f7\"], [0.6, \"#e6f5d0\"], [0.7, \"#b8e186\"], [0.8, \"#7fbc41\"], [0.9, \"#4d9221\"], [1, \"#276419\"]], \"sequential\": [[0.0, \"#0d0887\"], [0.1111111111111111, \"#46039f\"], [0.2222222222222222, \"#7201a8\"], [0.3333333333333333, \"#9c179e\"], [0.4444444444444444, \"#bd3786\"], [0.5555555555555556, \"#d8576b\"], [0.6666666666666666, \"#ed7953\"], [0.7777777777777778, \"#fb9f3a\"], [0.8888888888888888, \"#fdca26\"], [1.0, \"#f0f921\"]], \"sequentialminus\": [[0.0, \"#0d0887\"], [0.1111111111111111, \"#46039f\"], [0.2222222222222222, \"#7201a8\"], [0.3333333333333333, \"#9c179e\"], [0.4444444444444444, \"#bd3786\"], [0.5555555555555556, \"#d8576b\"], [0.6666666666666666, \"#ed7953\"], [0.7777777777777778, \"#fb9f3a\"], [0.8888888888888888, \"#fdca26\"], [1.0, \"#f0f921\"]]}, \"colorway\": [\"#636efa\", \"#EF553B\", \"#00cc96\", \"#ab63fa\", \"#FFA15A\", \"#19d3f3\", \"#FF6692\", \"#B6E880\", \"#FF97FF\", \"#FECB52\"], \"font\": {\"color\": \"#2a3f5f\"}, \"geo\": {\"bgcolor\": \"white\", \"lakecolor\": \"white\", \"landcolor\": \"#E5ECF6\", \"showlakes\": true, \"showland\": true, \"subunitcolor\": \"white\"}, \"hoverlabel\": {\"align\": \"left\"}, \"hovermode\": \"closest\", \"mapbox\": {\"style\": \"light\"}, \"paper_bgcolor\": \"white\", \"plot_bgcolor\": \"#E5ECF6\", \"polar\": {\"angularaxis\": {\"gridcolor\": \"white\", \"linecolor\": \"white\", \"ticks\": \"\"}, \"bgcolor\": \"#E5ECF6\", \"radialaxis\": {\"gridcolor\": \"white\", \"linecolor\": \"white\", \"ticks\": \"\"}}, \"scene\": {\"xaxis\": {\"backgroundcolor\": \"#E5ECF6\", \"gridcolor\": \"white\", \"gridwidth\": 2, \"linecolor\": \"white\", \"showbackground\": true, \"ticks\": \"\", \"zerolinecolor\": \"white\"}, \"yaxis\": {\"backgroundcolor\": \"#E5ECF6\", \"gridcolor\": \"white\", \"gridwidth\": 2, \"linecolor\": \"white\", \"showbackground\": true, \"ticks\": \"\", \"zerolinecolor\": \"white\"}, \"zaxis\": {\"backgroundcolor\": \"#E5ECF6\", \"gridcolor\": \"white\", \"gridwidth\": 2, \"linecolor\": \"white\", \"showbackground\": true, \"ticks\": \"\", \"zerolinecolor\": \"white\"}}, \"shapedefaults\": {\"line\": {\"color\": \"#2a3f5f\"}}, \"ternary\": {\"aaxis\": {\"gridcolor\": \"white\", \"linecolor\": \"white\", \"ticks\": \"\"}, \"baxis\": {\"gridcolor\": \"white\", \"linecolor\": \"white\", \"ticks\": \"\"}, \"bgcolor\": \"#E5ECF6\", \"caxis\": {\"gridcolor\": \"white\", \"linecolor\": \"white\", \"ticks\": \"\"}}, \"title\": {\"x\": 0.05}, \"xaxis\": {\"automargin\": true, \"gridcolor\": \"white\", \"linecolor\": \"white\", \"ticks\": \"\", \"title\": {\"standoff\": 15}, \"zerolinecolor\": \"white\", \"zerolinewidth\": 2}, \"yaxis\": {\"automargin\": true, \"gridcolor\": \"white\", \"linecolor\": \"white\", \"ticks\": \"\", \"title\": {\"standoff\": 15}, \"zerolinecolor\": \"white\", \"zerolinewidth\": 2}}}},\n",
       "                        {\"responsive\": true}\n",
       "                    ).then(function(){\n",
       "                            \n",
       "var gd = document.getElementById('024af176-100c-4ca0-b853-2dadc9e063c8');\n",
       "var x = new MutationObserver(function (mutations, observer) {{\n",
       "        var display = window.getComputedStyle(gd).display;\n",
       "        if (!display || display === 'none') {{\n",
       "            console.log([gd, 'removed!']);\n",
       "            Plotly.purge(gd);\n",
       "            observer.disconnect();\n",
       "        }}\n",
       "}});\n",
       "\n",
       "// Listen for the removal of the full notebook cells\n",
       "var notebookContainer = gd.closest('#notebook-container');\n",
       "if (notebookContainer) {{\n",
       "    x.observe(notebookContainer, {childList: true});\n",
       "}}\n",
       "\n",
       "// Listen for the clearing of the current output cell\n",
       "var outputEl = gd.closest('.output');\n",
       "if (outputEl) {{\n",
       "    x.observe(outputEl, {childList: true});\n",
       "}}\n",
       "\n",
       "                        })\n",
       "                };\n",
       "                });\n",
       "            </script>\n",
       "        </div>"
      ]
     },
     "metadata": {},
     "output_type": "display_data"
    }
   ],
   "source": [
    "import plotly.graph_objects as go\n",
    "from operator import itemgetter\n",
    "\n",
    "f = open(\"chris.json\", \"r\")\n",
    "data = json.loads(f.read())\n",
    "\n",
    "\n",
    "\n",
    "x = data.keys()\n",
    "y = data.values()\n",
    "x, y = zip(*sorted(zip(x, y)))\n",
    "\n",
    "\n",
    "fig = go.Figure([go.Bar(x=x, y = y)])\n",
    "\n",
    "\n",
    "fig.show()"
   ]
  },
  {
   "cell_type": "code",
   "execution_count": 2,
   "metadata": {
    "scrolled": true
   },
   "outputs": [
    {
     "name": "stdout",
     "output_type": "stream",
     "text": [
      "['f4fFalkensee']\n",
      "1193\n",
      "['fridaysforfuture.bodensee']\n",
      "2451\n",
      "['fridaysforfuturebuehl']\n",
      "210\n",
      "['fridaysforfuture_ahaus']\n",
      "306\n",
      "['fridaysforfuture.bodensee']\n",
      "2451\n",
      "['fridaysforfuture.ge']\n",
      "1205\n",
      "['starnberg4future']\n",
      "267\n",
      "['aurichforfuture']\n",
      "288\n",
      "['buxtehudeforfuture']\n",
      "734\n",
      "['f4f_filderstadt']\n",
      "133\n",
      "['f4ftraunstein']\n",
      "451\n",
      "['fff_erkrath']\n",
      "823\n",
      "['fff_hanau']\n",
      "321\n",
      "['fff_oberhausen']\n",
      "628\n",
      "['fff_rastede']\n",
      "288\n",
      "['fff_verden']\n",
      "552\n",
      "['fff.borken']\n",
      "1582\n",
      "['fff.gross_gerau']\n",
      "367\n",
      "['fffbargteheide']\n",
      "166\n",
      "['fffgiessen']\n",
      "2099\n",
      "['fffkamen']\n",
      "429\n",
      "['fffweilburg']\n",
      "973\n",
      "['fffwetzlar']\n",
      "1315\n",
      "['fffwiesbaden']\n",
      "2729\n",
      "['fridayforfuture.kaki']\n",
      "110\n",
      "['fridays.for.future_albstadt']\n",
      "309\n",
      "['fridays4futurekl']\n",
      "787\n",
      "['fridaysforfuture_andernach']\n",
      "106\n",
      "['fridaysforfuture_annaberg']\n",
      "205\n",
      "['fridaysforfuture_bad_segeberg']\n",
      "1294\n",
      "['fridaysforfuture_bonn']\n",
      "10788\n",
      "['fridaysforfuture_brueggen']\n",
      "396\n",
      "['fridaysforfuture_bruehl']\n",
      "313\n",
      "['fridaysforfuture_duisburg']\n",
      "1346\n",
      "['fridaysforfuture_einbeck']\n",
      "142\n",
      "['fridaysforfuture_esslingen']\n",
      "1211\n",
      "['fridaysforfuture_geilenkirchen']\n",
      "227\n",
      "['fridaysforfuture_hannover']\n",
      "14267\n",
      "['fridaysforfuture_jena']\n",
      "1808\n",
      "['fridaysforfuture_koblenz']\n",
      "1877\n",
      "['fridaysforfuture_luenen']\n",
      "227\n",
      "['fridaysforfuture_noh']\n",
      "783\n",
      "['fridaysforfuture_northeim']\n",
      "625\n",
      "['fridaysforfuture_om']\n",
      "648\n",
      "['fridaysforfuture_om']\n",
      "648\n",
      "['fridaysforfuture_pforzheim']\n",
      "1412\n",
      "['fridaysforfuture_re']\n",
      "666\n",
      "['fridaysforfuture_unna']\n",
      "219\n",
      "['fridaysforfuture_wesel']\n",
      "755\n",
      "['fridaysforfuture.aschaffenburg']\n",
      "1399\n",
      "['fridaysforfuture.backnang']\n",
      "425\n",
      "['fridaysforfuture.berchtesgaden']\n",
      "197\n",
      "['fridaysforfuture.brandenburg']\n",
      "760\n",
      "['fridaysforfuture.bremen']\n",
      "6644\n",
      "['fridaysforfuture.da']\n",
      "3831\n",
      "['fridaysforfuture.datteln']\n",
      "597\n",
      "['fridaysforfuture.enger']\n",
      "308\n",
      "['fridaysforfuture.erding']\n",
      "225\n",
      "['fridaysforfuture.ft']\n",
      "970\n",
      "['fridaysforfuture.goerlitz']\n",
      "211\n",
      "['fridaysforfuture.grimma']\n",
      "265\n",
      "['fridaysforfuture.gruenstadt']\n",
      "149\n",
      "['fridaysforfuture.hochneukirch']\n",
      "732\n",
      "['fridaysforfuture.iz']\n",
      "358\n",
      "['fridaysforfuture.kempen']\n",
      "445\n",
      "['fridaysforfuture.kuenzelsau']\n",
      "101\n",
      "['fridaysforfuture.lauf']\n",
      "759\n",
      "['fridaysforfuture.lindau']\n",
      "619\n",
      "['fridaysforfuture.lu']\n",
      "84\n",
      "['fridaysforfuture.neustadt']\n",
      "663\n",
      "['fridaysforfuture.niebuell']\n",
      "493\n",
      "['fridaysforfuture.nms']\n",
      "861\n",
      "['fridaysforfuture.oehr']\n",
      "232\n",
      "['fridaysforfuture.pruem']\n",
      "131\n",
      "['fridaysforfuture.rw']\n",
      "964\n",
      "['fridaysforfuture.schorndorf']\n",
      "101\n",
      "['fridaysforfuture.singen']\n",
      "330\n",
      "['fridaysforfuture.solingen']\n",
      "1058\n",
      "['fridaysforfuture.speyer']\n",
      "978\n",
      "['fridaysforfuture.stralsund']\n",
      "345\n",
      "['fridaysforfuture.waren']\n",
      "83\n",
      "['fridaysforfuture.weiden']\n",
      "1035\n",
      "['fridaysforfuture.wendland']\n",
      "482\n",
      "['fridaysforfuture.wesermarsch']\n",
      "99\n",
      "['fridaysforfuture.willich']\n",
      "379\n",
      "['fridaysforfuture.winsen']\n",
      "903\n",
      "['fridaysforfuture.zeitz']\n",
      "99\n",
      "['fridaysforfuture.zittau']\n",
      "207\n",
      "['fridaysforfuture.zwickau']\n",
      "1481\n",
      "['fridaysforfuturedo']\n",
      "7503\n",
      "['fridaysforfuturegifhorn']\n",
      "1002\n",
      "['fridaysforfuturehorb']\n",
      "98\n",
      "['fridaysforfuturekassel']\n",
      "3085\n",
      "['fridaysforfuturekoeln']\n",
      "19783\n",
      "['fridaysforfuturelandau']\n",
      "116\n",
      "['fridaysforfuturelehrte']\n",
      "811\n",
      "['fridaysforfutureloerrach']\n",
      "579\n",
      "['fridaysforfutureluebeck']\n",
      "3217\n",
      "['fridaysforfuturemannheim']\n",
      "4186\n",
      "['fridaysforfutureminden']\n",
      "716\n",
      "['fridaysforfutureschramberg']\n",
      "118\n",
      "['fridaysforfutureschriesheim']\n",
      "110\n",
      "['fridaysforfuturesinsheim']\n",
      "287\n",
      "['fridaysforfuturestuttgart']\n",
      "14293\n",
      "['fridaysforfuturesylt']\n",
      "688\n",
      "['fridaysforfuturewarburg']\n",
      "283\n",
      "['fridaysforfutureweilheim']\n",
      "650\n",
      "['fridaysforfutureweimar']\n",
      "1160\n",
      "['klimademorodgau']\n",
      "76\n",
      "['waldshut_fff']\n",
      "362\n",
      "['busaulendorf']\n",
      "122\n",
      "['fff_iserlohn']\n",
      "413\n",
      "['fff_mstaedt']\n",
      "93\n",
      "['fff_oranienburg']\n",
      "244\n",
      "['fff_roesrath']\n",
      "168\n",
      "['fff.alzey']\n",
      "187\n",
      "['fff.bremerhaven']\n",
      "501\n",
      "['fff.eckernfoerde']\n",
      "925\n",
      "['fff.rendsburg']\n",
      "909\n",
      "['fff.schleswig']\n",
      "975\n",
      "['fffaltkreishalle']\n",
      "299\n",
      "['fffaltkreishalle']\n",
      "299\n",
      "['fffaltkreishalle']\n",
      "299\n",
      "['fffaltkreishalle']\n",
      "299\n",
      "['fffdresden']\n",
      "7970\n",
      "['fffhtk']\n",
      "802\n",
      "['fffmtk']\n",
      "323\n",
      "['fffnienburg']\n",
      "1188\n",
      "['fffsaarlouis']\n",
      "680\n",
      "['fffvelbert']\n",
      "347\n",
      "['fridays_for_future_gelnhausen']\n",
      "125\n",
      "['fridays.for.future.landsberg']\n",
      "1290\n",
      "['fridays.for.future.landsberg']\n",
      "1290\n",
      "['fridaysforfuture_aichach']\n",
      "88\n",
      "['fridaysforfuture_bad_neustadt']\n",
      "118\n",
      "['fridaysforfuture_bocholt']\n",
      "1095\n",
      "['fridaysforfuture_chemnitz']\n",
      "2728\n",
      "['fridaysforfuture_coburg']\n",
      "782\n",
      "['fridaysforfuture_daun']\n",
      "97\n",
      "['fridaysforfuture_dkb']\n",
      "376\n",
      "['fridaysforfuture_dorfen']\n",
      "96\n",
      "['fridaysforfuture_erftstadt']\n",
      "295\n",
      "['fridaysforfuture_flensburg']\n",
      "2089\n",
      "['fridaysforfuture_freiburg']\n",
      "9934\n",
      "['fridaysforfuture_gangelt']\n",
      "1113\n",
      "['fridaysforfuture_goettingen']\n",
      "4782\n",
      "['fridaysforfuture_heidelberg']\n",
      "6937\n",
      "['fridaysforfuture_hh']\n",
      "24427\n",
      "['fridaysforfuture_ibbenbueren']\n",
      "246\n",
      "['fridaysforfuture_ka']\n",
      "6821\n",
      "['fridaysforfuture_ka']\n",
      "6821\n",
      "['fridaysforfuture_kitzingen']\n",
      "99\n",
      "['fridaysforfuture_leverkusen']\n",
      "745\n",
      "['fridaysforfuture_mr']\n",
      "1361\n",
      "['fridaysforfuture_muenster']\n",
      "8929\n",
      "['fridaysforfuture_neuss']\n",
      "1015\n",
      "['fridaysforfuture_os']\n",
      "5737\n",
      "['fridaysforfuture_osterholz']\n",
      "494\n",
      "['fridaysforfuture_siegen']\n",
      "2245\n",
      "['fridaysforfuture_tuebingen']\n",
      "6406\n",
      "['fridaysforfuture_werther']\n",
      "206\n",
      "['fridaysforfuture_wittlage']\n",
      "238\n",
      "['fridaysforfuture_wolfsburg']\n",
      "304\n",
      "['fridaysforfuture_wor']\n",
      "116\n",
      "['fridaysforfuture_wuerzburg']\n",
      "5204\n",
      "['fridaysforfuture.ac']\n",
      "10286\n",
      "['fridaysforfuture.anklam']\n",
      "202\n",
      "['fridaysforfuture.badtoelz']\n",
      "387\n",
      "['fridaysforfuture.berlin']\n",
      "35622\n",
      "['fridaysforfuture.bielefeld']\n",
      "3947\n",
      "['fridaysforfuture.bodensee']\n",
      "2451\n",
      "['fridaysforfuture.bs']\n",
      "3162\n",
      "['fridaysforfuture.buchholz']\n",
      "873\n",
      "['fridaysforfuture.celle']\n",
      "1929\n",
      "['fridaysforfuture.dachau']\n",
      "436\n",
      "['fridaysforfuture.dessau']\n",
      "573\n",
      "['fridaysforfuture.duelmen']\n",
      "428\n",
      "['fridaysforfuture.duesseldorf']\n",
      "9889\n",
      "['fridaysforfuture.eichstaett']\n",
      "745\n",
      "['fridaysforfuture.erlangen']\n",
      "4361\n",
      "['fridaysforfuture.essen']\n",
      "4595\n",
      "['fridaysforfuture.fritzlar']\n",
      "196\n",
      "['fridaysforfuture.fuerstenwalde']\n",
      "112\n",
      "['fridaysforfuture.fuerth']\n",
      "814\n",
      "['fridaysforfuture.goeppingen']\n",
      "334\n",
      "['fridaysforfuture.gotha']\n",
      "500\n",
      "['fridaysforfuture.ingolstadt']\n",
      "665\n",
      "['fridaysforfuture.kibo']\n",
      "93\n",
      "['fridaysforfuture.kiel']\n",
      "6647\n",
      "['fridaysforfuture.kleve']\n",
      "925\n",
      "['fridaysforfuture.kn']\n",
      "4561\n",
      "['fridaysforfuture.krefeld']\n",
      "1407\n",
      "['fridaysforfuture.landshut']\n",
      "567\n",
      "['fridaysforfuture.leipzig']\n",
      "9488\n",
      "['fridaysforfuture.lueneburg']\n",
      "6504\n",
      "['fridaysforfuture.menden']\n",
      "125\n",
      "['fridaysforfuture.mettmann']\n",
      "367\n",
      "['fridaysforfuture.mg']\n",
      "1103\n",
      "['fridaysforfuture.moers']\n",
      "360\n",
      "['fridaysforfuture.oldenburg']\n",
      "4241\n",
      "['fridaysforfuture.passau']\n",
      "1945\n",
      "['fridaysforfuture.potsdam']\n",
      "2387\n",
      "['fridaysforfuture.rastatt']\n",
      "433\n",
      "['fridaysforfuture.ratingen']\n",
      "260\n",
      "['fridaysforfuture.reutlingen']\n",
      "1382\n",
      "['fridaysforfuture.rgbg']\n",
      "1993\n",
      "['fridaysforfuture.rostock']\n",
      "1533\n",
      "['fridaysforfuture.ruegen']\n",
      "57\n",
      "['fridaysforfuture.saar']\n",
      "3391\n",
      "['fridaysforfuture.soest']\n",
      "945\n",
      "['fridaysforfuture.soest']\n",
      "945\n",
      "['fridaysforfuture.tf']\n",
      "152\n",
      "['fridaysforfuture.uelzen']\n",
      "969\n",
      "['fridaysforfuture.vs']\n",
      "967\n",
      "['fridaysforfuture.walsrode']\n",
      "382\n",
      "['fridaysforfuture.wertheim']\n",
      "323\n",
      "['fridaysforfuture.wf']\n",
      "955\n",
      "['fridaysforfuture.wuelfrath']\n",
      "460\n",
      "['fridaysforfuture.wuppertal']\n",
      "3016\n",
      "['fridaysforfuture.wurzen']\n",
      "179\n",
      "['fridaysforfuture.xanten']\n",
      "496\n",
      "['fridaysforfuture.zweibrucken']\n",
      "189\n",
      "['fridaysforfuturebbg']\n",
      "2216\n",
      "['fridaysforfuturebitburg']\n",
      "136\n",
      "['fridaysforfuturebochum']\n",
      "2664\n",
      "['fridaysforfuturebottrop']\n",
      "476\n",
      "['fridaysforfuturedetmold']\n",
      "618\n",
      "['fridaysforfuturedorsten']\n",
      "242\n",
      "['fridaysforfutureerfurt']\n",
      "2159\n",
      "['fridaysforfutureffm']\n",
      "13576\n",
      "['fridaysforfuturefreising']\n",
      "912\n",
      "['fridaysforfuturehagen']\n",
      "2108\n",
      "['fridaysforfuturehalle']\n",
      "2547\n",
      "['fridaysforfutureheilbronn']\n",
      "1616\n",
      "['fridaysforfutureherne']\n",
      "737\n",
      "['fridaysforfuturekempten']\n",
      "1038\n",
      "['fridaysforfuturekulmbach']\n",
      "340\n",
      "['fridaysforfuturelindenberg']\n",
      "159\n",
      "['fridaysforfuturelu']\n",
      "388\n",
      "['fridaysforfutureludwigsburg']\n",
      "1922\n",
      "['fridaysforfuturemagdeburg']\n",
      "2613\n",
      "['fridaysforfuturemainz']\n",
      "4945\n",
      "['fridaysforfuturemainz']\n",
      "4945\n",
      "['fridaysforfuturemainz']\n",
      "4945\n",
      "['fridaysforfuturemainz']\n",
      "4945\n",
      "['fridaysforfuturemuenchen']\n",
      "19531\n",
      "['fridaysforfuturenbg']\n",
      "8051\n",
      "['fridaysforfutureneuruppin']\n",
      "1053\n",
      "['fridaysforfutureoffenbach']\n",
      "386\n",
      "['fridaysforfuturepaderborn']\n",
      "2935\n",
      "['fridaysforfuturerbk']\n",
      "501\n",
      "['fridaysforfuturerosenheim']\n",
      "1436\n",
      "['fridaysforfuturesat']\n",
      "122\n",
      "['fridaysforfuturesonthofen']\n",
      "296\n",
      "['fridaysforfuturestraubing']\n",
      "328\n",
      "['fridaysforfuturestrausberg']\n",
      "106\n",
      "['fridaysforfuturesuhl']\n",
      "153\n",
      "['fridaysforfutureulm']\n",
      "2888\n",
      "['fridaysforfuturewitten']\n",
      "718\n",
      "['jugendbuendnis_templin']\n",
      "315\n",
      "['klimastreiklandau']\n",
      "1175\n",
      "['lampertheimforfuture']\n",
      "161\n",
      "['mittweida_for_future']\n",
      "243\n",
      "['parents4future_schoeneiche']\n",
      "106\n",
      "['wwgoesgreen']\n",
      "294\n",
      "ready\n"
     ]
    }
   ],
   "source": [
    "accounts = open(\"fff.txt\", \"r\")\n",
    "fff_names = []\n",
    "fff_followers = []\n",
    "\n",
    "\n",
    "for account in accounts:\n",
    "    name = get_user(account)\n",
    "    follower = get_followers(account)\n",
    "    user = [str(name), str(follower)]\n",
    "    fff_names.append(name)\n",
    "    fff_followers.append(follower)\n",
    "print(\"ready\")"
   ]
  },
  {
   "cell_type": "code",
   "execution_count": 24,
   "metadata": {
    "scrolled": false
   },
   "outputs": [
    {
     "data": {
      "application/vnd.plotly.v1+json": {
       "config": {
        "plotlyServerURL": "https://plot.ly"
       },
       "data": [
        {
         "type": "bar",
         "x": [
          "f4fFalkensee",
          "fridaysforfuture.bodensee",
          "fridaysforfuturebuehl",
          "fridaysforfuture_ahaus",
          "fridaysforfuture.bodensee",
          "fridaysforfuture.ge",
          "starnberg4future",
          "aurichforfuture",
          "buxtehudeforfuture",
          "f4f_filderstadt",
          "f4ftraunstein",
          "fff_erkrath",
          "fff_hanau",
          "fff_oberhausen",
          "fff_rastede",
          "fff_verden",
          "fff.borken",
          "fff.gross_gerau",
          "fffbargteheide",
          "fffgiessen",
          "fffkamen",
          "fffweilburg",
          "fffwetzlar",
          "fffwiesbaden",
          "fridayforfuture.kaki",
          "fridays.for.future_albstadt",
          "fridays4futurekl",
          "fridaysforfuture_andernach",
          "fridaysforfuture_annaberg",
          "fridaysforfuture_bad_segeberg",
          "fridaysforfuture_bonn",
          "fridaysforfuture_brueggen",
          "fridaysforfuture_bruehl",
          "fridaysforfuture_duisburg",
          "fridaysforfuture_einbeck",
          "fridaysforfuture_esslingen",
          "fridaysforfuture_geilenkirchen",
          "fridaysforfuture_hannover",
          "fridaysforfuture_jena",
          "fridaysforfuture_koblenz",
          "fridaysforfuture_luenen",
          "fridaysforfuture_noh",
          "fridaysforfuture_northeim",
          "fridaysforfuture_om",
          "fridaysforfuture_om",
          "fridaysforfuture_pforzheim",
          "fridaysforfuture_re",
          "fridaysforfuture_unna",
          "fridaysforfuture_wesel",
          "fridaysforfuture.aschaffenburg",
          "fridaysforfuture.backnang",
          "fridaysforfuture.berchtesgaden",
          "fridaysforfuture.brandenburg",
          "fridaysforfuture.bremen",
          "fridaysforfuture.da",
          "fridaysforfuture.datteln",
          "fridaysforfuture.enger",
          "fridaysforfuture.erding",
          "fridaysforfuture.ft",
          "fridaysforfuture.goerlitz",
          "fridaysforfuture.grimma",
          "fridaysforfuture.gruenstadt",
          "fridaysforfuture.hochneukirch",
          "fridaysforfuture.iz",
          "fridaysforfuture.kempen",
          "fridaysforfuture.kuenzelsau",
          "fridaysforfuture.lauf",
          "fridaysforfuture.lindau",
          "fridaysforfuture.lu",
          "fridaysforfuture.neustadt",
          "fridaysforfuture.niebuell",
          "fridaysforfuture.nms",
          "fridaysforfuture.oehr",
          "fridaysforfuture.pruem",
          "fridaysforfuture.rw",
          "fridaysforfuture.schorndorf",
          "fridaysforfuture.singen",
          "fridaysforfuture.solingen",
          "fridaysforfuture.speyer",
          "fridaysforfuture.stralsund",
          "fridaysforfuture.waren",
          "fridaysforfuture.weiden",
          "fridaysforfuture.wendland",
          "fridaysforfuture.wesermarsch",
          "fridaysforfuture.willich",
          "fridaysforfuture.winsen",
          "fridaysforfuture.zeitz",
          "fridaysforfuture.zittau",
          "fridaysforfuture.zwickau",
          "fridaysforfuturedo",
          "fridaysforfuturegifhorn",
          "fridaysforfuturehorb",
          "fridaysforfuturekassel",
          "fridaysforfuturekoeln",
          "fridaysforfuturelandau",
          "fridaysforfuturelehrte",
          "fridaysforfutureloerrach",
          "fridaysforfutureluebeck",
          "fridaysforfuturemannheim",
          "fridaysforfutureminden",
          "fridaysforfutureschramberg",
          "fridaysforfutureschriesheim",
          "fridaysforfuturesinsheim",
          "fridaysforfuturestuttgart",
          "fridaysforfuturesylt",
          "fridaysforfuturewarburg",
          "fridaysforfutureweilheim",
          "fridaysforfutureweimar",
          "klimademorodgau",
          "waldshut_fff",
          "busaulendorf",
          "fff_iserlohn",
          "fff_mstaedt",
          "fff_oranienburg",
          "fff_roesrath",
          "fff.alzey",
          "fff.bremerhaven",
          "fff.eckernfoerde",
          "fff.rendsburg",
          "fff.schleswig",
          "fffaltkreishalle",
          "fffaltkreishalle",
          "fffaltkreishalle",
          "fffaltkreishalle",
          "fffdresden",
          "fffhtk",
          "fffmtk",
          "fffnienburg",
          "fffsaarlouis",
          "fffvelbert",
          "fridays_for_future_gelnhausen",
          "fridays.for.future.landsberg",
          "fridays.for.future.landsberg",
          "fridaysforfuture_aichach",
          "fridaysforfuture_bad_neustadt",
          "fridaysforfuture_bocholt",
          "fridaysforfuture_chemnitz",
          "fridaysforfuture_coburg",
          "fridaysforfuture_daun",
          "fridaysforfuture_dkb",
          "fridaysforfuture_dorfen",
          "fridaysforfuture_erftstadt",
          "fridaysforfuture_flensburg",
          "fridaysforfuture_freiburg",
          "fridaysforfuture_gangelt",
          "fridaysforfuture_goettingen",
          "fridaysforfuture_heidelberg",
          "fridaysforfuture_hh",
          "fridaysforfuture_ibbenbueren",
          "fridaysforfuture_ka",
          "fridaysforfuture_ka",
          "fridaysforfuture_kitzingen",
          "fridaysforfuture_leverkusen",
          "fridaysforfuture_mr",
          "fridaysforfuture_muenster",
          "fridaysforfuture_neuss",
          "fridaysforfuture_os",
          "fridaysforfuture_osterholz",
          "fridaysforfuture_siegen",
          "fridaysforfuture_tuebingen",
          "fridaysforfuture_werther",
          "fridaysforfuture_wittlage",
          "fridaysforfuture_wolfsburg",
          "fridaysforfuture_wor",
          "fridaysforfuture_wuerzburg",
          "fridaysforfuture.ac",
          "fridaysforfuture.anklam",
          "fridaysforfuture.badtoelz",
          "fridaysforfuture.berlin",
          "fridaysforfuture.bielefeld",
          "fridaysforfuture.bodensee",
          "fridaysforfuture.bs",
          "fridaysforfuture.buchholz",
          "fridaysforfuture.celle",
          "fridaysforfuture.dachau",
          "fridaysforfuture.dessau",
          "fridaysforfuture.duelmen",
          "fridaysforfuture.duesseldorf",
          "fridaysforfuture.eichstaett",
          "fridaysforfuture.erlangen",
          "fridaysforfuture.essen",
          "fridaysforfuture.fritzlar",
          "fridaysforfuture.fuerstenwalde",
          "fridaysforfuture.fuerth",
          "fridaysforfuture.goeppingen",
          "fridaysforfuture.gotha",
          "fridaysforfuture.ingolstadt",
          "fridaysforfuture.kibo",
          "fridaysforfuture.kiel",
          "fridaysforfuture.kleve",
          "fridaysforfuture.kn",
          "fridaysforfuture.krefeld",
          "fridaysforfuture.landshut",
          "fridaysforfuture.leipzig",
          "fridaysforfuture.lueneburg",
          "fridaysforfuture.menden",
          "fridaysforfuture.mettmann",
          "fridaysforfuture.mg",
          "fridaysforfuture.moers",
          "fridaysforfuture.oldenburg",
          "fridaysforfuture.passau",
          "fridaysforfuture.potsdam",
          "fridaysforfuture.rastatt",
          "fridaysforfuture.ratingen",
          "fridaysforfuture.reutlingen",
          "fridaysforfuture.rgbg",
          "fridaysforfuture.rostock",
          "fridaysforfuture.ruegen",
          "fridaysforfuture.saar",
          "fridaysforfuture.soest",
          "fridaysforfuture.soest",
          "fridaysforfuture.tf",
          "fridaysforfuture.uelzen",
          "fridaysforfuture.vs",
          "fridaysforfuture.walsrode",
          "fridaysforfuture.wertheim",
          "fridaysforfuture.wf",
          "fridaysforfuture.wuelfrath",
          "fridaysforfuture.wuppertal",
          "fridaysforfuture.wurzen",
          "fridaysforfuture.xanten",
          "fridaysforfuture.zweibrucken",
          "fridaysforfuturebbg",
          "fridaysforfuturebitburg",
          "fridaysforfuturebochum",
          "fridaysforfuturebottrop",
          "fridaysforfuturedetmold",
          "fridaysforfuturedorsten",
          "fridaysforfutureerfurt",
          "fridaysforfutureffm",
          "fridaysforfuturefreising",
          "fridaysforfuturehagen",
          "fridaysforfuturehalle",
          "fridaysforfutureheilbronn",
          "fridaysforfutureherne",
          "fridaysforfuturekempten",
          "fridaysforfuturekulmbach",
          "fridaysforfuturelindenberg",
          "fridaysforfuturelu",
          "fridaysforfutureludwigsburg",
          "fridaysforfuturemagdeburg",
          "fridaysforfuturemainz",
          "fridaysforfuturemainz",
          "fridaysforfuturemainz",
          "fridaysforfuturemainz",
          "fridaysforfuturemuenchen",
          "fridaysforfuturenbg",
          "fridaysforfutureneuruppin",
          "fridaysforfutureoffenbach",
          "fridaysforfuturepaderborn",
          "fridaysforfuturerbk",
          "fridaysforfuturerosenheim",
          "fridaysforfuturesat",
          "fridaysforfuturesonthofen",
          "fridaysforfuturestraubing",
          "fridaysforfuturestrausberg",
          "fridaysforfuturesuhl",
          "fridaysforfutureulm",
          "fridaysforfuturewitten",
          "jugendbuendnis_templin",
          "klimastreiklandau",
          "lampertheimforfuture",
          "mittweida_for_future",
          "parents4future_schoeneiche",
          "wwgoesgreen"
         ],
         "y": [
          "1193",
          "2451",
          "210",
          "306",
          "2451",
          "1205",
          "267",
          "288",
          "734",
          "133",
          "451",
          "823",
          "321",
          "628",
          "288",
          "552",
          "1582",
          "367",
          "166",
          "2099",
          "429",
          "973",
          "1315",
          "2729",
          "110",
          "309",
          "787",
          "106",
          "205",
          "1294",
          "10788",
          "396",
          "313",
          "1346",
          "142",
          "1211",
          "227",
          "14267",
          "1808",
          "1877",
          "227",
          "783",
          "625",
          "648",
          "648",
          "1412",
          "666",
          "219",
          "755",
          "1399",
          "425",
          "197",
          "760",
          "6644",
          "3831",
          "597",
          "308",
          "225",
          "970",
          "211",
          "265",
          "149",
          "732",
          "358",
          "445",
          "101",
          "759",
          "619",
          "84",
          "663",
          "493",
          "861",
          "232",
          "131",
          "964",
          "101",
          "330",
          "1058",
          "978",
          "345",
          "83",
          "1035",
          "482",
          "99",
          "379",
          "903",
          "99",
          "207",
          "1481",
          "7503",
          "1002",
          "98",
          "3085",
          "19783",
          "116",
          "811",
          "579",
          "3217",
          "4186",
          "716",
          "118",
          "110",
          "287",
          "14293",
          "688",
          "283",
          "650",
          "1160",
          "76",
          "362",
          "122",
          "413",
          "93",
          "244",
          "168",
          "187",
          "501",
          "925",
          "909",
          "975",
          "299",
          "299",
          "299",
          "299",
          "7970",
          "802",
          "323",
          "1188",
          "680",
          "347",
          "125",
          "1290",
          "1290",
          "88",
          "118",
          "1095",
          "2728",
          "782",
          "97",
          "376",
          "96",
          "295",
          "2089",
          "9934",
          "1113",
          "4782",
          "6937",
          "24427",
          "246",
          "6821",
          "6821",
          "99",
          "745",
          "1361",
          "8929",
          "1015",
          "5737",
          "494",
          "2245",
          "6406",
          "206",
          "238",
          "304",
          "116",
          "5204",
          "10286",
          "202",
          "387",
          "35622",
          "3947",
          "2451",
          "3162",
          "873",
          "1929",
          "436",
          "573",
          "428",
          "9889",
          "745",
          "4361",
          "4595",
          "196",
          "112",
          "814",
          "334",
          "500",
          "665",
          "93",
          "6647",
          "925",
          "4561",
          "1407",
          "567",
          "9488",
          "6504",
          "125",
          "367",
          "1103",
          "360",
          "4241",
          "1945",
          "2387",
          "433",
          "260",
          "1382",
          "1993",
          "1533",
          "57",
          "3391",
          "945",
          "945",
          "152",
          "969",
          "967",
          "382",
          "323",
          "955",
          "460",
          "3016",
          "179",
          "496",
          "189",
          "2216",
          "136",
          "2664",
          "476",
          "618",
          "242",
          "2159",
          "13576",
          "912",
          "2108",
          "2547",
          "1616",
          "737",
          "1038",
          "340",
          "159",
          "388",
          "1922",
          "2613",
          "4945",
          "4945",
          "4945",
          "4945",
          "19531",
          "8051",
          "1053",
          "386",
          "2935",
          "501",
          "1436",
          "122",
          "296",
          "328",
          "106",
          "153",
          "2888",
          "718",
          "315",
          "1175",
          "161",
          "243",
          "106",
          "294"
         ]
        }
       ],
       "layout": {
        "template": {
         "data": {
          "bar": [
           {
            "error_x": {
             "color": "#2a3f5f"
            },
            "error_y": {
             "color": "#2a3f5f"
            },
            "marker": {
             "line": {
              "color": "#E5ECF6",
              "width": 0.5
             }
            },
            "type": "bar"
           }
          ],
          "barpolar": [
           {
            "marker": {
             "line": {
              "color": "#E5ECF6",
              "width": 0.5
             }
            },
            "type": "barpolar"
           }
          ],
          "carpet": [
           {
            "aaxis": {
             "endlinecolor": "#2a3f5f",
             "gridcolor": "white",
             "linecolor": "white",
             "minorgridcolor": "white",
             "startlinecolor": "#2a3f5f"
            },
            "baxis": {
             "endlinecolor": "#2a3f5f",
             "gridcolor": "white",
             "linecolor": "white",
             "minorgridcolor": "white",
             "startlinecolor": "#2a3f5f"
            },
            "type": "carpet"
           }
          ],
          "choropleth": [
           {
            "colorbar": {
             "outlinewidth": 0,
             "ticks": ""
            },
            "type": "choropleth"
           }
          ],
          "contour": [
           {
            "colorbar": {
             "outlinewidth": 0,
             "ticks": ""
            },
            "colorscale": [
             [
              0,
              "#0d0887"
             ],
             [
              0.1111111111111111,
              "#46039f"
             ],
             [
              0.2222222222222222,
              "#7201a8"
             ],
             [
              0.3333333333333333,
              "#9c179e"
             ],
             [
              0.4444444444444444,
              "#bd3786"
             ],
             [
              0.5555555555555556,
              "#d8576b"
             ],
             [
              0.6666666666666666,
              "#ed7953"
             ],
             [
              0.7777777777777778,
              "#fb9f3a"
             ],
             [
              0.8888888888888888,
              "#fdca26"
             ],
             [
              1,
              "#f0f921"
             ]
            ],
            "type": "contour"
           }
          ],
          "contourcarpet": [
           {
            "colorbar": {
             "outlinewidth": 0,
             "ticks": ""
            },
            "type": "contourcarpet"
           }
          ],
          "heatmap": [
           {
            "colorbar": {
             "outlinewidth": 0,
             "ticks": ""
            },
            "colorscale": [
             [
              0,
              "#0d0887"
             ],
             [
              0.1111111111111111,
              "#46039f"
             ],
             [
              0.2222222222222222,
              "#7201a8"
             ],
             [
              0.3333333333333333,
              "#9c179e"
             ],
             [
              0.4444444444444444,
              "#bd3786"
             ],
             [
              0.5555555555555556,
              "#d8576b"
             ],
             [
              0.6666666666666666,
              "#ed7953"
             ],
             [
              0.7777777777777778,
              "#fb9f3a"
             ],
             [
              0.8888888888888888,
              "#fdca26"
             ],
             [
              1,
              "#f0f921"
             ]
            ],
            "type": "heatmap"
           }
          ],
          "heatmapgl": [
           {
            "colorbar": {
             "outlinewidth": 0,
             "ticks": ""
            },
            "colorscale": [
             [
              0,
              "#0d0887"
             ],
             [
              0.1111111111111111,
              "#46039f"
             ],
             [
              0.2222222222222222,
              "#7201a8"
             ],
             [
              0.3333333333333333,
              "#9c179e"
             ],
             [
              0.4444444444444444,
              "#bd3786"
             ],
             [
              0.5555555555555556,
              "#d8576b"
             ],
             [
              0.6666666666666666,
              "#ed7953"
             ],
             [
              0.7777777777777778,
              "#fb9f3a"
             ],
             [
              0.8888888888888888,
              "#fdca26"
             ],
             [
              1,
              "#f0f921"
             ]
            ],
            "type": "heatmapgl"
           }
          ],
          "histogram": [
           {
            "marker": {
             "colorbar": {
              "outlinewidth": 0,
              "ticks": ""
             }
            },
            "type": "histogram"
           }
          ],
          "histogram2d": [
           {
            "colorbar": {
             "outlinewidth": 0,
             "ticks": ""
            },
            "colorscale": [
             [
              0,
              "#0d0887"
             ],
             [
              0.1111111111111111,
              "#46039f"
             ],
             [
              0.2222222222222222,
              "#7201a8"
             ],
             [
              0.3333333333333333,
              "#9c179e"
             ],
             [
              0.4444444444444444,
              "#bd3786"
             ],
             [
              0.5555555555555556,
              "#d8576b"
             ],
             [
              0.6666666666666666,
              "#ed7953"
             ],
             [
              0.7777777777777778,
              "#fb9f3a"
             ],
             [
              0.8888888888888888,
              "#fdca26"
             ],
             [
              1,
              "#f0f921"
             ]
            ],
            "type": "histogram2d"
           }
          ],
          "histogram2dcontour": [
           {
            "colorbar": {
             "outlinewidth": 0,
             "ticks": ""
            },
            "colorscale": [
             [
              0,
              "#0d0887"
             ],
             [
              0.1111111111111111,
              "#46039f"
             ],
             [
              0.2222222222222222,
              "#7201a8"
             ],
             [
              0.3333333333333333,
              "#9c179e"
             ],
             [
              0.4444444444444444,
              "#bd3786"
             ],
             [
              0.5555555555555556,
              "#d8576b"
             ],
             [
              0.6666666666666666,
              "#ed7953"
             ],
             [
              0.7777777777777778,
              "#fb9f3a"
             ],
             [
              0.8888888888888888,
              "#fdca26"
             ],
             [
              1,
              "#f0f921"
             ]
            ],
            "type": "histogram2dcontour"
           }
          ],
          "mesh3d": [
           {
            "colorbar": {
             "outlinewidth": 0,
             "ticks": ""
            },
            "type": "mesh3d"
           }
          ],
          "parcoords": [
           {
            "line": {
             "colorbar": {
              "outlinewidth": 0,
              "ticks": ""
             }
            },
            "type": "parcoords"
           }
          ],
          "pie": [
           {
            "automargin": true,
            "type": "pie"
           }
          ],
          "scatter": [
           {
            "marker": {
             "colorbar": {
              "outlinewidth": 0,
              "ticks": ""
             }
            },
            "type": "scatter"
           }
          ],
          "scatter3d": [
           {
            "line": {
             "colorbar": {
              "outlinewidth": 0,
              "ticks": ""
             }
            },
            "marker": {
             "colorbar": {
              "outlinewidth": 0,
              "ticks": ""
             }
            },
            "type": "scatter3d"
           }
          ],
          "scattercarpet": [
           {
            "marker": {
             "colorbar": {
              "outlinewidth": 0,
              "ticks": ""
             }
            },
            "type": "scattercarpet"
           }
          ],
          "scattergeo": [
           {
            "marker": {
             "colorbar": {
              "outlinewidth": 0,
              "ticks": ""
             }
            },
            "type": "scattergeo"
           }
          ],
          "scattergl": [
           {
            "marker": {
             "colorbar": {
              "outlinewidth": 0,
              "ticks": ""
             }
            },
            "type": "scattergl"
           }
          ],
          "scattermapbox": [
           {
            "marker": {
             "colorbar": {
              "outlinewidth": 0,
              "ticks": ""
             }
            },
            "type": "scattermapbox"
           }
          ],
          "scatterpolar": [
           {
            "marker": {
             "colorbar": {
              "outlinewidth": 0,
              "ticks": ""
             }
            },
            "type": "scatterpolar"
           }
          ],
          "scatterpolargl": [
           {
            "marker": {
             "colorbar": {
              "outlinewidth": 0,
              "ticks": ""
             }
            },
            "type": "scatterpolargl"
           }
          ],
          "scatterternary": [
           {
            "marker": {
             "colorbar": {
              "outlinewidth": 0,
              "ticks": ""
             }
            },
            "type": "scatterternary"
           }
          ],
          "surface": [
           {
            "colorbar": {
             "outlinewidth": 0,
             "ticks": ""
            },
            "colorscale": [
             [
              0,
              "#0d0887"
             ],
             [
              0.1111111111111111,
              "#46039f"
             ],
             [
              0.2222222222222222,
              "#7201a8"
             ],
             [
              0.3333333333333333,
              "#9c179e"
             ],
             [
              0.4444444444444444,
              "#bd3786"
             ],
             [
              0.5555555555555556,
              "#d8576b"
             ],
             [
              0.6666666666666666,
              "#ed7953"
             ],
             [
              0.7777777777777778,
              "#fb9f3a"
             ],
             [
              0.8888888888888888,
              "#fdca26"
             ],
             [
              1,
              "#f0f921"
             ]
            ],
            "type": "surface"
           }
          ],
          "table": [
           {
            "cells": {
             "fill": {
              "color": "#EBF0F8"
             },
             "line": {
              "color": "white"
             }
            },
            "header": {
             "fill": {
              "color": "#C8D4E3"
             },
             "line": {
              "color": "white"
             }
            },
            "type": "table"
           }
          ]
         },
         "layout": {
          "annotationdefaults": {
           "arrowcolor": "#2a3f5f",
           "arrowhead": 0,
           "arrowwidth": 1
          },
          "coloraxis": {
           "colorbar": {
            "outlinewidth": 0,
            "ticks": ""
           }
          },
          "colorscale": {
           "diverging": [
            [
             0,
             "#8e0152"
            ],
            [
             0.1,
             "#c51b7d"
            ],
            [
             0.2,
             "#de77ae"
            ],
            [
             0.3,
             "#f1b6da"
            ],
            [
             0.4,
             "#fde0ef"
            ],
            [
             0.5,
             "#f7f7f7"
            ],
            [
             0.6,
             "#e6f5d0"
            ],
            [
             0.7,
             "#b8e186"
            ],
            [
             0.8,
             "#7fbc41"
            ],
            [
             0.9,
             "#4d9221"
            ],
            [
             1,
             "#276419"
            ]
           ],
           "sequential": [
            [
             0,
             "#0d0887"
            ],
            [
             0.1111111111111111,
             "#46039f"
            ],
            [
             0.2222222222222222,
             "#7201a8"
            ],
            [
             0.3333333333333333,
             "#9c179e"
            ],
            [
             0.4444444444444444,
             "#bd3786"
            ],
            [
             0.5555555555555556,
             "#d8576b"
            ],
            [
             0.6666666666666666,
             "#ed7953"
            ],
            [
             0.7777777777777778,
             "#fb9f3a"
            ],
            [
             0.8888888888888888,
             "#fdca26"
            ],
            [
             1,
             "#f0f921"
            ]
           ],
           "sequentialminus": [
            [
             0,
             "#0d0887"
            ],
            [
             0.1111111111111111,
             "#46039f"
            ],
            [
             0.2222222222222222,
             "#7201a8"
            ],
            [
             0.3333333333333333,
             "#9c179e"
            ],
            [
             0.4444444444444444,
             "#bd3786"
            ],
            [
             0.5555555555555556,
             "#d8576b"
            ],
            [
             0.6666666666666666,
             "#ed7953"
            ],
            [
             0.7777777777777778,
             "#fb9f3a"
            ],
            [
             0.8888888888888888,
             "#fdca26"
            ],
            [
             1,
             "#f0f921"
            ]
           ]
          },
          "colorway": [
           "#636efa",
           "#EF553B",
           "#00cc96",
           "#ab63fa",
           "#FFA15A",
           "#19d3f3",
           "#FF6692",
           "#B6E880",
           "#FF97FF",
           "#FECB52"
          ],
          "font": {
           "color": "#2a3f5f"
          },
          "geo": {
           "bgcolor": "white",
           "lakecolor": "white",
           "landcolor": "#E5ECF6",
           "showlakes": true,
           "showland": true,
           "subunitcolor": "white"
          },
          "hoverlabel": {
           "align": "left"
          },
          "hovermode": "closest",
          "mapbox": {
           "style": "light"
          },
          "paper_bgcolor": "white",
          "plot_bgcolor": "#E5ECF6",
          "polar": {
           "angularaxis": {
            "gridcolor": "white",
            "linecolor": "white",
            "ticks": ""
           },
           "bgcolor": "#E5ECF6",
           "radialaxis": {
            "gridcolor": "white",
            "linecolor": "white",
            "ticks": ""
           }
          },
          "scene": {
           "xaxis": {
            "backgroundcolor": "#E5ECF6",
            "gridcolor": "white",
            "gridwidth": 2,
            "linecolor": "white",
            "showbackground": true,
            "ticks": "",
            "zerolinecolor": "white"
           },
           "yaxis": {
            "backgroundcolor": "#E5ECF6",
            "gridcolor": "white",
            "gridwidth": 2,
            "linecolor": "white",
            "showbackground": true,
            "ticks": "",
            "zerolinecolor": "white"
           },
           "zaxis": {
            "backgroundcolor": "#E5ECF6",
            "gridcolor": "white",
            "gridwidth": 2,
            "linecolor": "white",
            "showbackground": true,
            "ticks": "",
            "zerolinecolor": "white"
           }
          },
          "shapedefaults": {
           "line": {
            "color": "#2a3f5f"
           }
          },
          "ternary": {
           "aaxis": {
            "gridcolor": "white",
            "linecolor": "white",
            "ticks": ""
           },
           "baxis": {
            "gridcolor": "white",
            "linecolor": "white",
            "ticks": ""
           },
           "bgcolor": "#E5ECF6",
           "caxis": {
            "gridcolor": "white",
            "linecolor": "white",
            "ticks": ""
           }
          },
          "title": {
           "x": 0.05
          },
          "xaxis": {
           "automargin": true,
           "gridcolor": "white",
           "linecolor": "white",
           "ticks": "",
           "title": {
            "standoff": 15
           },
           "zerolinecolor": "white",
           "zerolinewidth": 2
          },
          "yaxis": {
           "automargin": true,
           "gridcolor": "white",
           "linecolor": "white",
           "ticks": "",
           "title": {
            "standoff": 15
           },
           "zerolinecolor": "white",
           "zerolinewidth": 2
          }
         }
        }
       }
      },
      "text/html": [
       "<div>\n",
       "        \n",
       "        \n",
       "            <div id=\"178bc2bb-0039-43cd-9b5b-43802d13983e\" class=\"plotly-graph-div\" style=\"height:525px; width:100%;\"></div>\n",
       "            <script type=\"text/javascript\">\n",
       "                require([\"plotly\"], function(Plotly) {\n",
       "                    window.PLOTLYENV=window.PLOTLYENV || {};\n",
       "                    \n",
       "                if (document.getElementById(\"178bc2bb-0039-43cd-9b5b-43802d13983e\")) {\n",
       "                    Plotly.newPlot(\n",
       "                        '178bc2bb-0039-43cd-9b5b-43802d13983e',\n",
       "                        [{\"type\": \"bar\", \"x\": [\"f4fFalkensee\", \"fridaysforfuture.bodensee\", \"fridaysforfuturebuehl\", \"fridaysforfuture_ahaus\", \"fridaysforfuture.bodensee\", \"fridaysforfuture.ge\", \"starnberg4future\", \"aurichforfuture\", \"buxtehudeforfuture\", \"f4f_filderstadt\", \"f4ftraunstein\", \"fff_erkrath\", \"fff_hanau\", \"fff_oberhausen\", \"fff_rastede\", \"fff_verden\", \"fff.borken\", \"fff.gross_gerau\", \"fffbargteheide\", \"fffgiessen\", \"fffkamen\", \"fffweilburg\", \"fffwetzlar\", \"fffwiesbaden\", \"fridayforfuture.kaki\", \"fridays.for.future_albstadt\", \"fridays4futurekl\", \"fridaysforfuture_andernach\", \"fridaysforfuture_annaberg\", \"fridaysforfuture_bad_segeberg\", \"fridaysforfuture_bonn\", \"fridaysforfuture_brueggen\", \"fridaysforfuture_bruehl\", \"fridaysforfuture_duisburg\", \"fridaysforfuture_einbeck\", \"fridaysforfuture_esslingen\", \"fridaysforfuture_geilenkirchen\", \"fridaysforfuture_hannover\", \"fridaysforfuture_jena\", \"fridaysforfuture_koblenz\", \"fridaysforfuture_luenen\", \"fridaysforfuture_noh\", \"fridaysforfuture_northeim\", \"fridaysforfuture_om\", \"fridaysforfuture_om\", \"fridaysforfuture_pforzheim\", \"fridaysforfuture_re\", \"fridaysforfuture_unna\", \"fridaysforfuture_wesel\", \"fridaysforfuture.aschaffenburg\", \"fridaysforfuture.backnang\", \"fridaysforfuture.berchtesgaden\", \"fridaysforfuture.brandenburg\", \"fridaysforfuture.bremen\", \"fridaysforfuture.da\", \"fridaysforfuture.datteln\", \"fridaysforfuture.enger\", \"fridaysforfuture.erding\", \"fridaysforfuture.ft\", \"fridaysforfuture.goerlitz\", \"fridaysforfuture.grimma\", \"fridaysforfuture.gruenstadt\", \"fridaysforfuture.hochneukirch\", \"fridaysforfuture.iz\", \"fridaysforfuture.kempen\", \"fridaysforfuture.kuenzelsau\", \"fridaysforfuture.lauf\", \"fridaysforfuture.lindau\", \"fridaysforfuture.lu\", \"fridaysforfuture.neustadt\", \"fridaysforfuture.niebuell\", \"fridaysforfuture.nms\", \"fridaysforfuture.oehr\", \"fridaysforfuture.pruem\", \"fridaysforfuture.rw\", \"fridaysforfuture.schorndorf\", \"fridaysforfuture.singen\", \"fridaysforfuture.solingen\", \"fridaysforfuture.speyer\", \"fridaysforfuture.stralsund\", \"fridaysforfuture.waren\", \"fridaysforfuture.weiden\", \"fridaysforfuture.wendland\", \"fridaysforfuture.wesermarsch\", \"fridaysforfuture.willich\", \"fridaysforfuture.winsen\", \"fridaysforfuture.zeitz\", \"fridaysforfuture.zittau\", \"fridaysforfuture.zwickau\", \"fridaysforfuturedo\", \"fridaysforfuturegifhorn\", \"fridaysforfuturehorb\", \"fridaysforfuturekassel\", \"fridaysforfuturekoeln\", \"fridaysforfuturelandau\", \"fridaysforfuturelehrte\", \"fridaysforfutureloerrach\", \"fridaysforfutureluebeck\", \"fridaysforfuturemannheim\", \"fridaysforfutureminden\", \"fridaysforfutureschramberg\", \"fridaysforfutureschriesheim\", \"fridaysforfuturesinsheim\", \"fridaysforfuturestuttgart\", \"fridaysforfuturesylt\", \"fridaysforfuturewarburg\", \"fridaysforfutureweilheim\", \"fridaysforfutureweimar\", \"klimademorodgau\", \"waldshut_fff\", \"busaulendorf\", \"fff_iserlohn\", \"fff_mstaedt\", \"fff_oranienburg\", \"fff_roesrath\", \"fff.alzey\", \"fff.bremerhaven\", \"fff.eckernfoerde\", \"fff.rendsburg\", \"fff.schleswig\", \"fffaltkreishalle\", \"fffaltkreishalle\", \"fffaltkreishalle\", \"fffaltkreishalle\", \"fffdresden\", \"fffhtk\", \"fffmtk\", \"fffnienburg\", \"fffsaarlouis\", \"fffvelbert\", \"fridays_for_future_gelnhausen\", \"fridays.for.future.landsberg\", \"fridays.for.future.landsberg\", \"fridaysforfuture_aichach\", \"fridaysforfuture_bad_neustadt\", \"fridaysforfuture_bocholt\", \"fridaysforfuture_chemnitz\", \"fridaysforfuture_coburg\", \"fridaysforfuture_daun\", \"fridaysforfuture_dkb\", \"fridaysforfuture_dorfen\", \"fridaysforfuture_erftstadt\", \"fridaysforfuture_flensburg\", \"fridaysforfuture_freiburg\", \"fridaysforfuture_gangelt\", \"fridaysforfuture_goettingen\", \"fridaysforfuture_heidelberg\", \"fridaysforfuture_hh\", \"fridaysforfuture_ibbenbueren\", \"fridaysforfuture_ka\", \"fridaysforfuture_ka\", \"fridaysforfuture_kitzingen\", \"fridaysforfuture_leverkusen\", \"fridaysforfuture_mr\", \"fridaysforfuture_muenster\", \"fridaysforfuture_neuss\", \"fridaysforfuture_os\", \"fridaysforfuture_osterholz\", \"fridaysforfuture_siegen\", \"fridaysforfuture_tuebingen\", \"fridaysforfuture_werther\", \"fridaysforfuture_wittlage\", \"fridaysforfuture_wolfsburg\", \"fridaysforfuture_wor\", \"fridaysforfuture_wuerzburg\", \"fridaysforfuture.ac\", \"fridaysforfuture.anklam\", \"fridaysforfuture.badtoelz\", \"fridaysforfuture.berlin\", \"fridaysforfuture.bielefeld\", \"fridaysforfuture.bodensee\", \"fridaysforfuture.bs\", \"fridaysforfuture.buchholz\", \"fridaysforfuture.celle\", \"fridaysforfuture.dachau\", \"fridaysforfuture.dessau\", \"fridaysforfuture.duelmen\", \"fridaysforfuture.duesseldorf\", \"fridaysforfuture.eichstaett\", \"fridaysforfuture.erlangen\", \"fridaysforfuture.essen\", \"fridaysforfuture.fritzlar\", \"fridaysforfuture.fuerstenwalde\", \"fridaysforfuture.fuerth\", \"fridaysforfuture.goeppingen\", \"fridaysforfuture.gotha\", \"fridaysforfuture.ingolstadt\", \"fridaysforfuture.kibo\", \"fridaysforfuture.kiel\", \"fridaysforfuture.kleve\", \"fridaysforfuture.kn\", \"fridaysforfuture.krefeld\", \"fridaysforfuture.landshut\", \"fridaysforfuture.leipzig\", \"fridaysforfuture.lueneburg\", \"fridaysforfuture.menden\", \"fridaysforfuture.mettmann\", \"fridaysforfuture.mg\", \"fridaysforfuture.moers\", \"fridaysforfuture.oldenburg\", \"fridaysforfuture.passau\", \"fridaysforfuture.potsdam\", \"fridaysforfuture.rastatt\", \"fridaysforfuture.ratingen\", \"fridaysforfuture.reutlingen\", \"fridaysforfuture.rgbg\", \"fridaysforfuture.rostock\", \"fridaysforfuture.ruegen\", \"fridaysforfuture.saar\", \"fridaysforfuture.soest\", \"fridaysforfuture.soest\", \"fridaysforfuture.tf\", \"fridaysforfuture.uelzen\", \"fridaysforfuture.vs\", \"fridaysforfuture.walsrode\", \"fridaysforfuture.wertheim\", \"fridaysforfuture.wf\", \"fridaysforfuture.wuelfrath\", \"fridaysforfuture.wuppertal\", \"fridaysforfuture.wurzen\", \"fridaysforfuture.xanten\", \"fridaysforfuture.zweibrucken\", \"fridaysforfuturebbg\", \"fridaysforfuturebitburg\", \"fridaysforfuturebochum\", \"fridaysforfuturebottrop\", \"fridaysforfuturedetmold\", \"fridaysforfuturedorsten\", \"fridaysforfutureerfurt\", \"fridaysforfutureffm\", \"fridaysforfuturefreising\", \"fridaysforfuturehagen\", \"fridaysforfuturehalle\", \"fridaysforfutureheilbronn\", \"fridaysforfutureherne\", \"fridaysforfuturekempten\", \"fridaysforfuturekulmbach\", \"fridaysforfuturelindenberg\", \"fridaysforfuturelu\", \"fridaysforfutureludwigsburg\", \"fridaysforfuturemagdeburg\", \"fridaysforfuturemainz\", \"fridaysforfuturemainz\", \"fridaysforfuturemainz\", \"fridaysforfuturemainz\", \"fridaysforfuturemuenchen\", \"fridaysforfuturenbg\", \"fridaysforfutureneuruppin\", \"fridaysforfutureoffenbach\", \"fridaysforfuturepaderborn\", \"fridaysforfuturerbk\", \"fridaysforfuturerosenheim\", \"fridaysforfuturesat\", \"fridaysforfuturesonthofen\", \"fridaysforfuturestraubing\", \"fridaysforfuturestrausberg\", \"fridaysforfuturesuhl\", \"fridaysforfutureulm\", \"fridaysforfuturewitten\", \"jugendbuendnis_templin\", \"klimastreiklandau\", \"lampertheimforfuture\", \"mittweida_for_future\", \"parents4future_schoeneiche\", \"wwgoesgreen\"], \"y\": [\"1193\", \"2451\", \"210\", \"306\", \"2451\", \"1205\", \"267\", \"288\", \"734\", \"133\", \"451\", \"823\", \"321\", \"628\", \"288\", \"552\", \"1582\", \"367\", \"166\", \"2099\", \"429\", \"973\", \"1315\", \"2729\", \"110\", \"309\", \"787\", \"106\", \"205\", \"1294\", \"10788\", \"396\", \"313\", \"1346\", \"142\", \"1211\", \"227\", \"14267\", \"1808\", \"1877\", \"227\", \"783\", \"625\", \"648\", \"648\", \"1412\", \"666\", \"219\", \"755\", \"1399\", \"425\", \"197\", \"760\", \"6644\", \"3831\", \"597\", \"308\", \"225\", \"970\", \"211\", \"265\", \"149\", \"732\", \"358\", \"445\", \"101\", \"759\", \"619\", \"84\", \"663\", \"493\", \"861\", \"232\", \"131\", \"964\", \"101\", \"330\", \"1058\", \"978\", \"345\", \"83\", \"1035\", \"482\", \"99\", \"379\", \"903\", \"99\", \"207\", \"1481\", \"7503\", \"1002\", \"98\", \"3085\", \"19783\", \"116\", \"811\", \"579\", \"3217\", \"4186\", \"716\", \"118\", \"110\", \"287\", \"14293\", \"688\", \"283\", \"650\", \"1160\", \"76\", \"362\", \"122\", \"413\", \"93\", \"244\", \"168\", \"187\", \"501\", \"925\", \"909\", \"975\", \"299\", \"299\", \"299\", \"299\", \"7970\", \"802\", \"323\", \"1188\", \"680\", \"347\", \"125\", \"1290\", \"1290\", \"88\", \"118\", \"1095\", \"2728\", \"782\", \"97\", \"376\", \"96\", \"295\", \"2089\", \"9934\", \"1113\", \"4782\", \"6937\", \"24427\", \"246\", \"6821\", \"6821\", \"99\", \"745\", \"1361\", \"8929\", \"1015\", \"5737\", \"494\", \"2245\", \"6406\", \"206\", \"238\", \"304\", \"116\", \"5204\", \"10286\", \"202\", \"387\", \"35622\", \"3947\", \"2451\", \"3162\", \"873\", \"1929\", \"436\", \"573\", \"428\", \"9889\", \"745\", \"4361\", \"4595\", \"196\", \"112\", \"814\", \"334\", \"500\", \"665\", \"93\", \"6647\", \"925\", \"4561\", \"1407\", \"567\", \"9488\", \"6504\", \"125\", \"367\", \"1103\", \"360\", \"4241\", \"1945\", \"2387\", \"433\", \"260\", \"1382\", \"1993\", \"1533\", \"57\", \"3391\", \"945\", \"945\", \"152\", \"969\", \"967\", \"382\", \"323\", \"955\", \"460\", \"3016\", \"179\", \"496\", \"189\", \"2216\", \"136\", \"2664\", \"476\", \"618\", \"242\", \"2159\", \"13576\", \"912\", \"2108\", \"2547\", \"1616\", \"737\", \"1038\", \"340\", \"159\", \"388\", \"1922\", \"2613\", \"4945\", \"4945\", \"4945\", \"4945\", \"19531\", \"8051\", \"1053\", \"386\", \"2935\", \"501\", \"1436\", \"122\", \"296\", \"328\", \"106\", \"153\", \"2888\", \"718\", \"315\", \"1175\", \"161\", \"243\", \"106\", \"294\"]}],\n",
       "                        {\"template\": {\"data\": {\"bar\": [{\"error_x\": {\"color\": \"#2a3f5f\"}, \"error_y\": {\"color\": \"#2a3f5f\"}, \"marker\": {\"line\": {\"color\": \"#E5ECF6\", \"width\": 0.5}}, \"type\": \"bar\"}], \"barpolar\": [{\"marker\": {\"line\": {\"color\": \"#E5ECF6\", \"width\": 0.5}}, \"type\": \"barpolar\"}], \"carpet\": [{\"aaxis\": {\"endlinecolor\": \"#2a3f5f\", \"gridcolor\": \"white\", \"linecolor\": \"white\", \"minorgridcolor\": \"white\", \"startlinecolor\": \"#2a3f5f\"}, \"baxis\": {\"endlinecolor\": \"#2a3f5f\", \"gridcolor\": \"white\", \"linecolor\": \"white\", \"minorgridcolor\": \"white\", \"startlinecolor\": \"#2a3f5f\"}, \"type\": \"carpet\"}], \"choropleth\": [{\"colorbar\": {\"outlinewidth\": 0, \"ticks\": \"\"}, \"type\": \"choropleth\"}], \"contour\": [{\"colorbar\": {\"outlinewidth\": 0, \"ticks\": \"\"}, \"colorscale\": [[0.0, \"#0d0887\"], [0.1111111111111111, \"#46039f\"], [0.2222222222222222, \"#7201a8\"], [0.3333333333333333, \"#9c179e\"], [0.4444444444444444, \"#bd3786\"], [0.5555555555555556, \"#d8576b\"], [0.6666666666666666, \"#ed7953\"], [0.7777777777777778, \"#fb9f3a\"], [0.8888888888888888, \"#fdca26\"], [1.0, \"#f0f921\"]], \"type\": \"contour\"}], \"contourcarpet\": [{\"colorbar\": {\"outlinewidth\": 0, \"ticks\": \"\"}, \"type\": \"contourcarpet\"}], \"heatmap\": [{\"colorbar\": {\"outlinewidth\": 0, \"ticks\": \"\"}, \"colorscale\": [[0.0, \"#0d0887\"], [0.1111111111111111, \"#46039f\"], [0.2222222222222222, \"#7201a8\"], [0.3333333333333333, \"#9c179e\"], [0.4444444444444444, \"#bd3786\"], [0.5555555555555556, \"#d8576b\"], [0.6666666666666666, \"#ed7953\"], [0.7777777777777778, \"#fb9f3a\"], [0.8888888888888888, \"#fdca26\"], [1.0, \"#f0f921\"]], \"type\": \"heatmap\"}], \"heatmapgl\": [{\"colorbar\": {\"outlinewidth\": 0, \"ticks\": \"\"}, \"colorscale\": [[0.0, \"#0d0887\"], [0.1111111111111111, \"#46039f\"], [0.2222222222222222, \"#7201a8\"], [0.3333333333333333, \"#9c179e\"], [0.4444444444444444, \"#bd3786\"], [0.5555555555555556, \"#d8576b\"], [0.6666666666666666, \"#ed7953\"], [0.7777777777777778, \"#fb9f3a\"], [0.8888888888888888, \"#fdca26\"], [1.0, \"#f0f921\"]], \"type\": \"heatmapgl\"}], \"histogram\": [{\"marker\": {\"colorbar\": {\"outlinewidth\": 0, \"ticks\": \"\"}}, \"type\": \"histogram\"}], \"histogram2d\": [{\"colorbar\": {\"outlinewidth\": 0, \"ticks\": \"\"}, \"colorscale\": [[0.0, \"#0d0887\"], [0.1111111111111111, \"#46039f\"], [0.2222222222222222, \"#7201a8\"], [0.3333333333333333, \"#9c179e\"], [0.4444444444444444, \"#bd3786\"], [0.5555555555555556, \"#d8576b\"], [0.6666666666666666, \"#ed7953\"], [0.7777777777777778, \"#fb9f3a\"], [0.8888888888888888, \"#fdca26\"], [1.0, \"#f0f921\"]], \"type\": \"histogram2d\"}], \"histogram2dcontour\": [{\"colorbar\": {\"outlinewidth\": 0, \"ticks\": \"\"}, \"colorscale\": [[0.0, \"#0d0887\"], [0.1111111111111111, \"#46039f\"], [0.2222222222222222, \"#7201a8\"], [0.3333333333333333, \"#9c179e\"], [0.4444444444444444, \"#bd3786\"], [0.5555555555555556, \"#d8576b\"], [0.6666666666666666, \"#ed7953\"], [0.7777777777777778, \"#fb9f3a\"], [0.8888888888888888, \"#fdca26\"], [1.0, \"#f0f921\"]], \"type\": \"histogram2dcontour\"}], \"mesh3d\": [{\"colorbar\": {\"outlinewidth\": 0, \"ticks\": \"\"}, \"type\": \"mesh3d\"}], \"parcoords\": [{\"line\": {\"colorbar\": {\"outlinewidth\": 0, \"ticks\": \"\"}}, \"type\": \"parcoords\"}], \"pie\": [{\"automargin\": true, \"type\": \"pie\"}], \"scatter\": [{\"marker\": {\"colorbar\": {\"outlinewidth\": 0, \"ticks\": \"\"}}, \"type\": \"scatter\"}], \"scatter3d\": [{\"line\": {\"colorbar\": {\"outlinewidth\": 0, \"ticks\": \"\"}}, \"marker\": {\"colorbar\": {\"outlinewidth\": 0, \"ticks\": \"\"}}, \"type\": \"scatter3d\"}], \"scattercarpet\": [{\"marker\": {\"colorbar\": {\"outlinewidth\": 0, \"ticks\": \"\"}}, \"type\": \"scattercarpet\"}], \"scattergeo\": [{\"marker\": {\"colorbar\": {\"outlinewidth\": 0, \"ticks\": \"\"}}, \"type\": \"scattergeo\"}], \"scattergl\": [{\"marker\": {\"colorbar\": {\"outlinewidth\": 0, \"ticks\": \"\"}}, \"type\": \"scattergl\"}], \"scattermapbox\": [{\"marker\": {\"colorbar\": {\"outlinewidth\": 0, \"ticks\": \"\"}}, \"type\": \"scattermapbox\"}], \"scatterpolar\": [{\"marker\": {\"colorbar\": {\"outlinewidth\": 0, \"ticks\": \"\"}}, \"type\": \"scatterpolar\"}], \"scatterpolargl\": [{\"marker\": {\"colorbar\": {\"outlinewidth\": 0, \"ticks\": \"\"}}, \"type\": \"scatterpolargl\"}], \"scatterternary\": [{\"marker\": {\"colorbar\": {\"outlinewidth\": 0, \"ticks\": \"\"}}, \"type\": \"scatterternary\"}], \"surface\": [{\"colorbar\": {\"outlinewidth\": 0, \"ticks\": \"\"}, \"colorscale\": [[0.0, \"#0d0887\"], [0.1111111111111111, \"#46039f\"], [0.2222222222222222, \"#7201a8\"], [0.3333333333333333, \"#9c179e\"], [0.4444444444444444, \"#bd3786\"], [0.5555555555555556, \"#d8576b\"], [0.6666666666666666, \"#ed7953\"], [0.7777777777777778, \"#fb9f3a\"], [0.8888888888888888, \"#fdca26\"], [1.0, \"#f0f921\"]], \"type\": \"surface\"}], \"table\": [{\"cells\": {\"fill\": {\"color\": \"#EBF0F8\"}, \"line\": {\"color\": \"white\"}}, \"header\": {\"fill\": {\"color\": \"#C8D4E3\"}, \"line\": {\"color\": \"white\"}}, \"type\": \"table\"}]}, \"layout\": {\"annotationdefaults\": {\"arrowcolor\": \"#2a3f5f\", \"arrowhead\": 0, \"arrowwidth\": 1}, \"coloraxis\": {\"colorbar\": {\"outlinewidth\": 0, \"ticks\": \"\"}}, \"colorscale\": {\"diverging\": [[0, \"#8e0152\"], [0.1, \"#c51b7d\"], [0.2, \"#de77ae\"], [0.3, \"#f1b6da\"], [0.4, \"#fde0ef\"], [0.5, \"#f7f7f7\"], [0.6, \"#e6f5d0\"], [0.7, \"#b8e186\"], [0.8, \"#7fbc41\"], [0.9, \"#4d9221\"], [1, \"#276419\"]], \"sequential\": [[0.0, \"#0d0887\"], [0.1111111111111111, \"#46039f\"], [0.2222222222222222, \"#7201a8\"], [0.3333333333333333, \"#9c179e\"], [0.4444444444444444, \"#bd3786\"], [0.5555555555555556, \"#d8576b\"], [0.6666666666666666, \"#ed7953\"], [0.7777777777777778, \"#fb9f3a\"], [0.8888888888888888, \"#fdca26\"], [1.0, \"#f0f921\"]], \"sequentialminus\": [[0.0, \"#0d0887\"], [0.1111111111111111, \"#46039f\"], [0.2222222222222222, \"#7201a8\"], [0.3333333333333333, \"#9c179e\"], [0.4444444444444444, \"#bd3786\"], [0.5555555555555556, \"#d8576b\"], [0.6666666666666666, \"#ed7953\"], [0.7777777777777778, \"#fb9f3a\"], [0.8888888888888888, \"#fdca26\"], [1.0, \"#f0f921\"]]}, \"colorway\": [\"#636efa\", \"#EF553B\", \"#00cc96\", \"#ab63fa\", \"#FFA15A\", \"#19d3f3\", \"#FF6692\", \"#B6E880\", \"#FF97FF\", \"#FECB52\"], \"font\": {\"color\": \"#2a3f5f\"}, \"geo\": {\"bgcolor\": \"white\", \"lakecolor\": \"white\", \"landcolor\": \"#E5ECF6\", \"showlakes\": true, \"showland\": true, \"subunitcolor\": \"white\"}, \"hoverlabel\": {\"align\": \"left\"}, \"hovermode\": \"closest\", \"mapbox\": {\"style\": \"light\"}, \"paper_bgcolor\": \"white\", \"plot_bgcolor\": \"#E5ECF6\", \"polar\": {\"angularaxis\": {\"gridcolor\": \"white\", \"linecolor\": \"white\", \"ticks\": \"\"}, \"bgcolor\": \"#E5ECF6\", \"radialaxis\": {\"gridcolor\": \"white\", \"linecolor\": \"white\", \"ticks\": \"\"}}, \"scene\": {\"xaxis\": {\"backgroundcolor\": \"#E5ECF6\", \"gridcolor\": \"white\", \"gridwidth\": 2, \"linecolor\": \"white\", \"showbackground\": true, \"ticks\": \"\", \"zerolinecolor\": \"white\"}, \"yaxis\": {\"backgroundcolor\": \"#E5ECF6\", \"gridcolor\": \"white\", \"gridwidth\": 2, \"linecolor\": \"white\", \"showbackground\": true, \"ticks\": \"\", \"zerolinecolor\": \"white\"}, \"zaxis\": {\"backgroundcolor\": \"#E5ECF6\", \"gridcolor\": \"white\", \"gridwidth\": 2, \"linecolor\": \"white\", \"showbackground\": true, \"ticks\": \"\", \"zerolinecolor\": \"white\"}}, \"shapedefaults\": {\"line\": {\"color\": \"#2a3f5f\"}}, \"ternary\": {\"aaxis\": {\"gridcolor\": \"white\", \"linecolor\": \"white\", \"ticks\": \"\"}, \"baxis\": {\"gridcolor\": \"white\", \"linecolor\": \"white\", \"ticks\": \"\"}, \"bgcolor\": \"#E5ECF6\", \"caxis\": {\"gridcolor\": \"white\", \"linecolor\": \"white\", \"ticks\": \"\"}}, \"title\": {\"x\": 0.05}, \"xaxis\": {\"automargin\": true, \"gridcolor\": \"white\", \"linecolor\": \"white\", \"ticks\": \"\", \"title\": {\"standoff\": 15}, \"zerolinecolor\": \"white\", \"zerolinewidth\": 2}, \"yaxis\": {\"automargin\": true, \"gridcolor\": \"white\", \"linecolor\": \"white\", \"ticks\": \"\", \"title\": {\"standoff\": 15}, \"zerolinecolor\": \"white\", \"zerolinewidth\": 2}}}},\n",
       "                        {\"responsive\": true}\n",
       "                    ).then(function(){\n",
       "                            \n",
       "var gd = document.getElementById('178bc2bb-0039-43cd-9b5b-43802d13983e');\n",
       "var x = new MutationObserver(function (mutations, observer) {{\n",
       "        var display = window.getComputedStyle(gd).display;\n",
       "        if (!display || display === 'none') {{\n",
       "            console.log([gd, 'removed!']);\n",
       "            Plotly.purge(gd);\n",
       "            observer.disconnect();\n",
       "        }}\n",
       "}});\n",
       "\n",
       "// Listen for the removal of the full notebook cells\n",
       "var notebookContainer = gd.closest('#notebook-container');\n",
       "if (notebookContainer) {{\n",
       "    x.observe(notebookContainer, {childList: true});\n",
       "}}\n",
       "\n",
       "// Listen for the clearing of the current output cell\n",
       "var outputEl = gd.closest('.output');\n",
       "if (outputEl) {{\n",
       "    x.observe(outputEl, {childList: true});\n",
       "}}\n",
       "\n",
       "                        })\n",
       "                };\n",
       "                });\n",
       "            </script>\n",
       "        </div>"
      ]
     },
     "metadata": {},
     "output_type": "display_data"
    }
   ],
   "source": [
    "import plotly.graph_objects as go\n",
    "\n",
    "x = fff_names\n",
    "y = fff_followers\n",
    "\n",
    "\n",
    "fig = go.Figure([go.Bar(x=x, y = y)])\n",
    "\n",
    "fig.show()\n",
    "\n",
    "fig.write_html(\"file.html\")\n"
   ]
  },
  {
   "cell_type": "code",
   "execution_count": 5,
   "metadata": {},
   "outputs": [],
   "source": [
    "import json\n",
    "fff = dict(zip(fff_names, fff_followers))\n",
    "f = open(\"fff_data.json\", \"w\")\n",
    "json.dump(fff, f)\n",
    "f.close()"
   ]
  },
  {
   "cell_type": "code",
   "execution_count": 64,
   "metadata": {},
   "outputs": [
    {
     "data": {
      "application/vnd.plotly.v1+json": {
       "config": {
        "plotlyServerURL": "https://plot.ly"
       },
       "data": [
        {
         "marker": {
          "color": [
           "green",
           "green",
           "green",
           "crimson",
           "green",
           "green",
           "green",
           "green",
           "green",
           "green",
           "crimson",
           "green",
           "green",
           "green",
           "crimson",
           "crimson",
           "lightslategray",
           "green",
           "crimson",
           "crimson",
           "green",
           "green",
           "green",
           "crimson",
           "green",
           "green",
           "crimson",
           "green",
           "lightslategray",
           "lightslategray"
          ]
         },
         "type": "bar",
         "x": [
          "fridaysforfuture.oldenburg",
          "fridaysforfuture.erlangen",
          "fridaysforfuture.kn",
          "fridaysforfuture.essen",
          "fridaysforfuture_goettingen",
          "fridaysforfuturemainz",
          "fridaysforfuture_wuerzburg",
          "fridaysforfuture_os",
          "fridaysforfuture_tuebingen",
          "fridaysforfuture.lueneburg",
          "fridaysforfuture.bremen",
          "fridaysforfuture.kiel",
          "fridaysforfuture_ka",
          "fridaysforfuture_heidelberg",
          "fridaysforfuturedo",
          "fffdresden",
          "fridaysforfuturenbg",
          "fridaysforfuture_muenster",
          "fridaysforfuture.leipzig",
          "fridaysforfuture.duesseldorf",
          "fridaysforfuture_freiburg",
          "fridaysforfuture.ac",
          "fridaysforfuture_bonn",
          "fridaysforfutureffm",
          "fridaysforfuture_hannover",
          "fridaysforfuturestuttgart",
          "fridaysforfuturemuenchen",
          "fridaysforfuturekoeln",
          "fridaysforfuture_hh",
          "fridaysforfuture.berlin"
         ],
         "y": [
          4241,
          4361,
          4561,
          4595,
          4782,
          4945,
          5204,
          5737,
          6406,
          6504,
          6644,
          6647,
          6821,
          6937,
          7503,
          7970,
          8051,
          8929,
          9488,
          9889,
          9934,
          10286,
          10788,
          13576,
          14267,
          14293,
          19531,
          19783,
          24427,
          35622
         ]
        }
       ],
       "layout": {
        "template": {
         "data": {
          "bar": [
           {
            "error_x": {
             "color": "#2a3f5f"
            },
            "error_y": {
             "color": "#2a3f5f"
            },
            "marker": {
             "line": {
              "color": "#E5ECF6",
              "width": 0.5
             }
            },
            "type": "bar"
           }
          ],
          "barpolar": [
           {
            "marker": {
             "line": {
              "color": "#E5ECF6",
              "width": 0.5
             }
            },
            "type": "barpolar"
           }
          ],
          "carpet": [
           {
            "aaxis": {
             "endlinecolor": "#2a3f5f",
             "gridcolor": "white",
             "linecolor": "white",
             "minorgridcolor": "white",
             "startlinecolor": "#2a3f5f"
            },
            "baxis": {
             "endlinecolor": "#2a3f5f",
             "gridcolor": "white",
             "linecolor": "white",
             "minorgridcolor": "white",
             "startlinecolor": "#2a3f5f"
            },
            "type": "carpet"
           }
          ],
          "choropleth": [
           {
            "colorbar": {
             "outlinewidth": 0,
             "ticks": ""
            },
            "type": "choropleth"
           }
          ],
          "contour": [
           {
            "colorbar": {
             "outlinewidth": 0,
             "ticks": ""
            },
            "colorscale": [
             [
              0,
              "#0d0887"
             ],
             [
              0.1111111111111111,
              "#46039f"
             ],
             [
              0.2222222222222222,
              "#7201a8"
             ],
             [
              0.3333333333333333,
              "#9c179e"
             ],
             [
              0.4444444444444444,
              "#bd3786"
             ],
             [
              0.5555555555555556,
              "#d8576b"
             ],
             [
              0.6666666666666666,
              "#ed7953"
             ],
             [
              0.7777777777777778,
              "#fb9f3a"
             ],
             [
              0.8888888888888888,
              "#fdca26"
             ],
             [
              1,
              "#f0f921"
             ]
            ],
            "type": "contour"
           }
          ],
          "contourcarpet": [
           {
            "colorbar": {
             "outlinewidth": 0,
             "ticks": ""
            },
            "type": "contourcarpet"
           }
          ],
          "heatmap": [
           {
            "colorbar": {
             "outlinewidth": 0,
             "ticks": ""
            },
            "colorscale": [
             [
              0,
              "#0d0887"
             ],
             [
              0.1111111111111111,
              "#46039f"
             ],
             [
              0.2222222222222222,
              "#7201a8"
             ],
             [
              0.3333333333333333,
              "#9c179e"
             ],
             [
              0.4444444444444444,
              "#bd3786"
             ],
             [
              0.5555555555555556,
              "#d8576b"
             ],
             [
              0.6666666666666666,
              "#ed7953"
             ],
             [
              0.7777777777777778,
              "#fb9f3a"
             ],
             [
              0.8888888888888888,
              "#fdca26"
             ],
             [
              1,
              "#f0f921"
             ]
            ],
            "type": "heatmap"
           }
          ],
          "heatmapgl": [
           {
            "colorbar": {
             "outlinewidth": 0,
             "ticks": ""
            },
            "colorscale": [
             [
              0,
              "#0d0887"
             ],
             [
              0.1111111111111111,
              "#46039f"
             ],
             [
              0.2222222222222222,
              "#7201a8"
             ],
             [
              0.3333333333333333,
              "#9c179e"
             ],
             [
              0.4444444444444444,
              "#bd3786"
             ],
             [
              0.5555555555555556,
              "#d8576b"
             ],
             [
              0.6666666666666666,
              "#ed7953"
             ],
             [
              0.7777777777777778,
              "#fb9f3a"
             ],
             [
              0.8888888888888888,
              "#fdca26"
             ],
             [
              1,
              "#f0f921"
             ]
            ],
            "type": "heatmapgl"
           }
          ],
          "histogram": [
           {
            "marker": {
             "colorbar": {
              "outlinewidth": 0,
              "ticks": ""
             }
            },
            "type": "histogram"
           }
          ],
          "histogram2d": [
           {
            "colorbar": {
             "outlinewidth": 0,
             "ticks": ""
            },
            "colorscale": [
             [
              0,
              "#0d0887"
             ],
             [
              0.1111111111111111,
              "#46039f"
             ],
             [
              0.2222222222222222,
              "#7201a8"
             ],
             [
              0.3333333333333333,
              "#9c179e"
             ],
             [
              0.4444444444444444,
              "#bd3786"
             ],
             [
              0.5555555555555556,
              "#d8576b"
             ],
             [
              0.6666666666666666,
              "#ed7953"
             ],
             [
              0.7777777777777778,
              "#fb9f3a"
             ],
             [
              0.8888888888888888,
              "#fdca26"
             ],
             [
              1,
              "#f0f921"
             ]
            ],
            "type": "histogram2d"
           }
          ],
          "histogram2dcontour": [
           {
            "colorbar": {
             "outlinewidth": 0,
             "ticks": ""
            },
            "colorscale": [
             [
              0,
              "#0d0887"
             ],
             [
              0.1111111111111111,
              "#46039f"
             ],
             [
              0.2222222222222222,
              "#7201a8"
             ],
             [
              0.3333333333333333,
              "#9c179e"
             ],
             [
              0.4444444444444444,
              "#bd3786"
             ],
             [
              0.5555555555555556,
              "#d8576b"
             ],
             [
              0.6666666666666666,
              "#ed7953"
             ],
             [
              0.7777777777777778,
              "#fb9f3a"
             ],
             [
              0.8888888888888888,
              "#fdca26"
             ],
             [
              1,
              "#f0f921"
             ]
            ],
            "type": "histogram2dcontour"
           }
          ],
          "mesh3d": [
           {
            "colorbar": {
             "outlinewidth": 0,
             "ticks": ""
            },
            "type": "mesh3d"
           }
          ],
          "parcoords": [
           {
            "line": {
             "colorbar": {
              "outlinewidth": 0,
              "ticks": ""
             }
            },
            "type": "parcoords"
           }
          ],
          "pie": [
           {
            "automargin": true,
            "type": "pie"
           }
          ],
          "scatter": [
           {
            "marker": {
             "colorbar": {
              "outlinewidth": 0,
              "ticks": ""
             }
            },
            "type": "scatter"
           }
          ],
          "scatter3d": [
           {
            "line": {
             "colorbar": {
              "outlinewidth": 0,
              "ticks": ""
             }
            },
            "marker": {
             "colorbar": {
              "outlinewidth": 0,
              "ticks": ""
             }
            },
            "type": "scatter3d"
           }
          ],
          "scattercarpet": [
           {
            "marker": {
             "colorbar": {
              "outlinewidth": 0,
              "ticks": ""
             }
            },
            "type": "scattercarpet"
           }
          ],
          "scattergeo": [
           {
            "marker": {
             "colorbar": {
              "outlinewidth": 0,
              "ticks": ""
             }
            },
            "type": "scattergeo"
           }
          ],
          "scattergl": [
           {
            "marker": {
             "colorbar": {
              "outlinewidth": 0,
              "ticks": ""
             }
            },
            "type": "scattergl"
           }
          ],
          "scattermapbox": [
           {
            "marker": {
             "colorbar": {
              "outlinewidth": 0,
              "ticks": ""
             }
            },
            "type": "scattermapbox"
           }
          ],
          "scatterpolar": [
           {
            "marker": {
             "colorbar": {
              "outlinewidth": 0,
              "ticks": ""
             }
            },
            "type": "scatterpolar"
           }
          ],
          "scatterpolargl": [
           {
            "marker": {
             "colorbar": {
              "outlinewidth": 0,
              "ticks": ""
             }
            },
            "type": "scatterpolargl"
           }
          ],
          "scatterternary": [
           {
            "marker": {
             "colorbar": {
              "outlinewidth": 0,
              "ticks": ""
             }
            },
            "type": "scatterternary"
           }
          ],
          "surface": [
           {
            "colorbar": {
             "outlinewidth": 0,
             "ticks": ""
            },
            "colorscale": [
             [
              0,
              "#0d0887"
             ],
             [
              0.1111111111111111,
              "#46039f"
             ],
             [
              0.2222222222222222,
              "#7201a8"
             ],
             [
              0.3333333333333333,
              "#9c179e"
             ],
             [
              0.4444444444444444,
              "#bd3786"
             ],
             [
              0.5555555555555556,
              "#d8576b"
             ],
             [
              0.6666666666666666,
              "#ed7953"
             ],
             [
              0.7777777777777778,
              "#fb9f3a"
             ],
             [
              0.8888888888888888,
              "#fdca26"
             ],
             [
              1,
              "#f0f921"
             ]
            ],
            "type": "surface"
           }
          ],
          "table": [
           {
            "cells": {
             "fill": {
              "color": "#EBF0F8"
             },
             "line": {
              "color": "white"
             }
            },
            "header": {
             "fill": {
              "color": "#C8D4E3"
             },
             "line": {
              "color": "white"
             }
            },
            "type": "table"
           }
          ]
         },
         "layout": {
          "annotationdefaults": {
           "arrowcolor": "#2a3f5f",
           "arrowhead": 0,
           "arrowwidth": 1
          },
          "coloraxis": {
           "colorbar": {
            "outlinewidth": 0,
            "ticks": ""
           }
          },
          "colorscale": {
           "diverging": [
            [
             0,
             "#8e0152"
            ],
            [
             0.1,
             "#c51b7d"
            ],
            [
             0.2,
             "#de77ae"
            ],
            [
             0.3,
             "#f1b6da"
            ],
            [
             0.4,
             "#fde0ef"
            ],
            [
             0.5,
             "#f7f7f7"
            ],
            [
             0.6,
             "#e6f5d0"
            ],
            [
             0.7,
             "#b8e186"
            ],
            [
             0.8,
             "#7fbc41"
            ],
            [
             0.9,
             "#4d9221"
            ],
            [
             1,
             "#276419"
            ]
           ],
           "sequential": [
            [
             0,
             "#0d0887"
            ],
            [
             0.1111111111111111,
             "#46039f"
            ],
            [
             0.2222222222222222,
             "#7201a8"
            ],
            [
             0.3333333333333333,
             "#9c179e"
            ],
            [
             0.4444444444444444,
             "#bd3786"
            ],
            [
             0.5555555555555556,
             "#d8576b"
            ],
            [
             0.6666666666666666,
             "#ed7953"
            ],
            [
             0.7777777777777778,
             "#fb9f3a"
            ],
            [
             0.8888888888888888,
             "#fdca26"
            ],
            [
             1,
             "#f0f921"
            ]
           ],
           "sequentialminus": [
            [
             0,
             "#0d0887"
            ],
            [
             0.1111111111111111,
             "#46039f"
            ],
            [
             0.2222222222222222,
             "#7201a8"
            ],
            [
             0.3333333333333333,
             "#9c179e"
            ],
            [
             0.4444444444444444,
             "#bd3786"
            ],
            [
             0.5555555555555556,
             "#d8576b"
            ],
            [
             0.6666666666666666,
             "#ed7953"
            ],
            [
             0.7777777777777778,
             "#fb9f3a"
            ],
            [
             0.8888888888888888,
             "#fdca26"
            ],
            [
             1,
             "#f0f921"
            ]
           ]
          },
          "colorway": [
           "#636efa",
           "#EF553B",
           "#00cc96",
           "#ab63fa",
           "#FFA15A",
           "#19d3f3",
           "#FF6692",
           "#B6E880",
           "#FF97FF",
           "#FECB52"
          ],
          "font": {
           "color": "#2a3f5f"
          },
          "geo": {
           "bgcolor": "white",
           "lakecolor": "white",
           "landcolor": "#E5ECF6",
           "showlakes": true,
           "showland": true,
           "subunitcolor": "white"
          },
          "hoverlabel": {
           "align": "left"
          },
          "hovermode": "closest",
          "mapbox": {
           "style": "light"
          },
          "paper_bgcolor": "white",
          "plot_bgcolor": "#E5ECF6",
          "polar": {
           "angularaxis": {
            "gridcolor": "white",
            "linecolor": "white",
            "ticks": ""
           },
           "bgcolor": "#E5ECF6",
           "radialaxis": {
            "gridcolor": "white",
            "linecolor": "white",
            "ticks": ""
           }
          },
          "scene": {
           "xaxis": {
            "backgroundcolor": "#E5ECF6",
            "gridcolor": "white",
            "gridwidth": 2,
            "linecolor": "white",
            "showbackground": true,
            "ticks": "",
            "zerolinecolor": "white"
           },
           "yaxis": {
            "backgroundcolor": "#E5ECF6",
            "gridcolor": "white",
            "gridwidth": 2,
            "linecolor": "white",
            "showbackground": true,
            "ticks": "",
            "zerolinecolor": "white"
           },
           "zaxis": {
            "backgroundcolor": "#E5ECF6",
            "gridcolor": "white",
            "gridwidth": 2,
            "linecolor": "white",
            "showbackground": true,
            "ticks": "",
            "zerolinecolor": "white"
           }
          },
          "shapedefaults": {
           "line": {
            "color": "#2a3f5f"
           }
          },
          "ternary": {
           "aaxis": {
            "gridcolor": "white",
            "linecolor": "white",
            "ticks": ""
           },
           "baxis": {
            "gridcolor": "white",
            "linecolor": "white",
            "ticks": ""
           },
           "bgcolor": "#E5ECF6",
           "caxis": {
            "gridcolor": "white",
            "linecolor": "white",
            "ticks": ""
           }
          },
          "title": {
           "x": 0.05
          },
          "xaxis": {
           "automargin": true,
           "gridcolor": "white",
           "linecolor": "white",
           "ticks": "",
           "title": {
            "standoff": 15
           },
           "zerolinecolor": "white",
           "zerolinewidth": 2
          },
          "yaxis": {
           "automargin": true,
           "gridcolor": "white",
           "linecolor": "white",
           "ticks": "",
           "title": {
            "standoff": 15
           },
           "zerolinecolor": "white",
           "zerolinewidth": 2
          }
         }
        }
       }
      },
      "text/html": [
       "<div>\n",
       "        \n",
       "        \n",
       "            <div id=\"5a5c2eef-2a76-4971-ac9c-eecb3db89e9c\" class=\"plotly-graph-div\" style=\"height:525px; width:100%;\"></div>\n",
       "            <script type=\"text/javascript\">\n",
       "                require([\"plotly\"], function(Plotly) {\n",
       "                    window.PLOTLYENV=window.PLOTLYENV || {};\n",
       "                    \n",
       "                if (document.getElementById(\"5a5c2eef-2a76-4971-ac9c-eecb3db89e9c\")) {\n",
       "                    Plotly.newPlot(\n",
       "                        '5a5c2eef-2a76-4971-ac9c-eecb3db89e9c',\n",
       "                        [{\"marker\": {\"color\": [\"green\", \"green\", \"green\", \"crimson\", \"green\", \"green\", \"green\", \"green\", \"green\", \"green\", \"crimson\", \"green\", \"green\", \"green\", \"crimson\", \"crimson\", \"lightslategray\", \"green\", \"crimson\", \"crimson\", \"green\", \"green\", \"green\", \"crimson\", \"green\", \"green\", \"crimson\", \"green\", \"lightslategray\", \"lightslategray\"]}, \"type\": \"bar\", \"x\": [\"fridaysforfuture.oldenburg\", \"fridaysforfuture.erlangen\", \"fridaysforfuture.kn\", \"fridaysforfuture.essen\", \"fridaysforfuture_goettingen\", \"fridaysforfuturemainz\", \"fridaysforfuture_wuerzburg\", \"fridaysforfuture_os\", \"fridaysforfuture_tuebingen\", \"fridaysforfuture.lueneburg\", \"fridaysforfuture.bremen\", \"fridaysforfuture.kiel\", \"fridaysforfuture_ka\", \"fridaysforfuture_heidelberg\", \"fridaysforfuturedo\", \"fffdresden\", \"fridaysforfuturenbg\", \"fridaysforfuture_muenster\", \"fridaysforfuture.leipzig\", \"fridaysforfuture.duesseldorf\", \"fridaysforfuture_freiburg\", \"fridaysforfuture.ac\", \"fridaysforfuture_bonn\", \"fridaysforfutureffm\", \"fridaysforfuture_hannover\", \"fridaysforfuturestuttgart\", \"fridaysforfuturemuenchen\", \"fridaysforfuturekoeln\", \"fridaysforfuture_hh\", \"fridaysforfuture.berlin\"], \"y\": [4241, 4361, 4561, 4595, 4782, 4945, 5204, 5737, 6406, 6504, 6644, 6647, 6821, 6937, 7503, 7970, 8051, 8929, 9488, 9889, 9934, 10286, 10788, 13576, 14267, 14293, 19531, 19783, 24427, 35622]}],\n",
       "                        {\"template\": {\"data\": {\"bar\": [{\"error_x\": {\"color\": \"#2a3f5f\"}, \"error_y\": {\"color\": \"#2a3f5f\"}, \"marker\": {\"line\": {\"color\": \"#E5ECF6\", \"width\": 0.5}}, \"type\": \"bar\"}], \"barpolar\": [{\"marker\": {\"line\": {\"color\": \"#E5ECF6\", \"width\": 0.5}}, \"type\": \"barpolar\"}], \"carpet\": [{\"aaxis\": {\"endlinecolor\": \"#2a3f5f\", \"gridcolor\": \"white\", \"linecolor\": \"white\", \"minorgridcolor\": \"white\", \"startlinecolor\": \"#2a3f5f\"}, \"baxis\": {\"endlinecolor\": \"#2a3f5f\", \"gridcolor\": \"white\", \"linecolor\": \"white\", \"minorgridcolor\": \"white\", \"startlinecolor\": \"#2a3f5f\"}, \"type\": \"carpet\"}], \"choropleth\": [{\"colorbar\": {\"outlinewidth\": 0, \"ticks\": \"\"}, \"type\": \"choropleth\"}], \"contour\": [{\"colorbar\": {\"outlinewidth\": 0, \"ticks\": \"\"}, \"colorscale\": [[0.0, \"#0d0887\"], [0.1111111111111111, \"#46039f\"], [0.2222222222222222, \"#7201a8\"], [0.3333333333333333, \"#9c179e\"], [0.4444444444444444, \"#bd3786\"], [0.5555555555555556, \"#d8576b\"], [0.6666666666666666, \"#ed7953\"], [0.7777777777777778, \"#fb9f3a\"], [0.8888888888888888, \"#fdca26\"], [1.0, \"#f0f921\"]], \"type\": \"contour\"}], \"contourcarpet\": [{\"colorbar\": {\"outlinewidth\": 0, \"ticks\": \"\"}, \"type\": \"contourcarpet\"}], \"heatmap\": [{\"colorbar\": {\"outlinewidth\": 0, \"ticks\": \"\"}, \"colorscale\": [[0.0, \"#0d0887\"], [0.1111111111111111, \"#46039f\"], [0.2222222222222222, \"#7201a8\"], [0.3333333333333333, \"#9c179e\"], [0.4444444444444444, \"#bd3786\"], [0.5555555555555556, \"#d8576b\"], [0.6666666666666666, \"#ed7953\"], [0.7777777777777778, \"#fb9f3a\"], [0.8888888888888888, \"#fdca26\"], [1.0, \"#f0f921\"]], \"type\": \"heatmap\"}], \"heatmapgl\": [{\"colorbar\": {\"outlinewidth\": 0, \"ticks\": \"\"}, \"colorscale\": [[0.0, \"#0d0887\"], [0.1111111111111111, \"#46039f\"], [0.2222222222222222, \"#7201a8\"], [0.3333333333333333, \"#9c179e\"], [0.4444444444444444, \"#bd3786\"], [0.5555555555555556, \"#d8576b\"], [0.6666666666666666, \"#ed7953\"], [0.7777777777777778, \"#fb9f3a\"], [0.8888888888888888, \"#fdca26\"], [1.0, \"#f0f921\"]], \"type\": \"heatmapgl\"}], \"histogram\": [{\"marker\": {\"colorbar\": {\"outlinewidth\": 0, \"ticks\": \"\"}}, \"type\": \"histogram\"}], \"histogram2d\": [{\"colorbar\": {\"outlinewidth\": 0, \"ticks\": \"\"}, \"colorscale\": [[0.0, \"#0d0887\"], [0.1111111111111111, \"#46039f\"], [0.2222222222222222, \"#7201a8\"], [0.3333333333333333, \"#9c179e\"], [0.4444444444444444, \"#bd3786\"], [0.5555555555555556, \"#d8576b\"], [0.6666666666666666, \"#ed7953\"], [0.7777777777777778, \"#fb9f3a\"], [0.8888888888888888, \"#fdca26\"], [1.0, \"#f0f921\"]], \"type\": \"histogram2d\"}], \"histogram2dcontour\": [{\"colorbar\": {\"outlinewidth\": 0, \"ticks\": \"\"}, \"colorscale\": [[0.0, \"#0d0887\"], [0.1111111111111111, \"#46039f\"], [0.2222222222222222, \"#7201a8\"], [0.3333333333333333, \"#9c179e\"], [0.4444444444444444, \"#bd3786\"], [0.5555555555555556, \"#d8576b\"], [0.6666666666666666, \"#ed7953\"], [0.7777777777777778, \"#fb9f3a\"], [0.8888888888888888, \"#fdca26\"], [1.0, \"#f0f921\"]], \"type\": \"histogram2dcontour\"}], \"mesh3d\": [{\"colorbar\": {\"outlinewidth\": 0, \"ticks\": \"\"}, \"type\": \"mesh3d\"}], \"parcoords\": [{\"line\": {\"colorbar\": {\"outlinewidth\": 0, \"ticks\": \"\"}}, \"type\": \"parcoords\"}], \"pie\": [{\"automargin\": true, \"type\": \"pie\"}], \"scatter\": [{\"marker\": {\"colorbar\": {\"outlinewidth\": 0, \"ticks\": \"\"}}, \"type\": \"scatter\"}], \"scatter3d\": [{\"line\": {\"colorbar\": {\"outlinewidth\": 0, \"ticks\": \"\"}}, \"marker\": {\"colorbar\": {\"outlinewidth\": 0, \"ticks\": \"\"}}, \"type\": \"scatter3d\"}], \"scattercarpet\": [{\"marker\": {\"colorbar\": {\"outlinewidth\": 0, \"ticks\": \"\"}}, \"type\": \"scattercarpet\"}], \"scattergeo\": [{\"marker\": {\"colorbar\": {\"outlinewidth\": 0, \"ticks\": \"\"}}, \"type\": \"scattergeo\"}], \"scattergl\": [{\"marker\": {\"colorbar\": {\"outlinewidth\": 0, \"ticks\": \"\"}}, \"type\": \"scattergl\"}], \"scattermapbox\": [{\"marker\": {\"colorbar\": {\"outlinewidth\": 0, \"ticks\": \"\"}}, \"type\": \"scattermapbox\"}], \"scatterpolar\": [{\"marker\": {\"colorbar\": {\"outlinewidth\": 0, \"ticks\": \"\"}}, \"type\": \"scatterpolar\"}], \"scatterpolargl\": [{\"marker\": {\"colorbar\": {\"outlinewidth\": 0, \"ticks\": \"\"}}, \"type\": \"scatterpolargl\"}], \"scatterternary\": [{\"marker\": {\"colorbar\": {\"outlinewidth\": 0, \"ticks\": \"\"}}, \"type\": \"scatterternary\"}], \"surface\": [{\"colorbar\": {\"outlinewidth\": 0, \"ticks\": \"\"}, \"colorscale\": [[0.0, \"#0d0887\"], [0.1111111111111111, \"#46039f\"], [0.2222222222222222, \"#7201a8\"], [0.3333333333333333, \"#9c179e\"], [0.4444444444444444, \"#bd3786\"], [0.5555555555555556, \"#d8576b\"], [0.6666666666666666, \"#ed7953\"], [0.7777777777777778, \"#fb9f3a\"], [0.8888888888888888, \"#fdca26\"], [1.0, \"#f0f921\"]], \"type\": \"surface\"}], \"table\": [{\"cells\": {\"fill\": {\"color\": \"#EBF0F8\"}, \"line\": {\"color\": \"white\"}}, \"header\": {\"fill\": {\"color\": \"#C8D4E3\"}, \"line\": {\"color\": \"white\"}}, \"type\": \"table\"}]}, \"layout\": {\"annotationdefaults\": {\"arrowcolor\": \"#2a3f5f\", \"arrowhead\": 0, \"arrowwidth\": 1}, \"coloraxis\": {\"colorbar\": {\"outlinewidth\": 0, \"ticks\": \"\"}}, \"colorscale\": {\"diverging\": [[0, \"#8e0152\"], [0.1, \"#c51b7d\"], [0.2, \"#de77ae\"], [0.3, \"#f1b6da\"], [0.4, \"#fde0ef\"], [0.5, \"#f7f7f7\"], [0.6, \"#e6f5d0\"], [0.7, \"#b8e186\"], [0.8, \"#7fbc41\"], [0.9, \"#4d9221\"], [1, \"#276419\"]], \"sequential\": [[0.0, \"#0d0887\"], [0.1111111111111111, \"#46039f\"], [0.2222222222222222, \"#7201a8\"], [0.3333333333333333, \"#9c179e\"], [0.4444444444444444, \"#bd3786\"], [0.5555555555555556, \"#d8576b\"], [0.6666666666666666, \"#ed7953\"], [0.7777777777777778, \"#fb9f3a\"], [0.8888888888888888, \"#fdca26\"], [1.0, \"#f0f921\"]], \"sequentialminus\": [[0.0, \"#0d0887\"], [0.1111111111111111, \"#46039f\"], [0.2222222222222222, \"#7201a8\"], [0.3333333333333333, \"#9c179e\"], [0.4444444444444444, \"#bd3786\"], [0.5555555555555556, \"#d8576b\"], [0.6666666666666666, \"#ed7953\"], [0.7777777777777778, \"#fb9f3a\"], [0.8888888888888888, \"#fdca26\"], [1.0, \"#f0f921\"]]}, \"colorway\": [\"#636efa\", \"#EF553B\", \"#00cc96\", \"#ab63fa\", \"#FFA15A\", \"#19d3f3\", \"#FF6692\", \"#B6E880\", \"#FF97FF\", \"#FECB52\"], \"font\": {\"color\": \"#2a3f5f\"}, \"geo\": {\"bgcolor\": \"white\", \"lakecolor\": \"white\", \"landcolor\": \"#E5ECF6\", \"showlakes\": true, \"showland\": true, \"subunitcolor\": \"white\"}, \"hoverlabel\": {\"align\": \"left\"}, \"hovermode\": \"closest\", \"mapbox\": {\"style\": \"light\"}, \"paper_bgcolor\": \"white\", \"plot_bgcolor\": \"#E5ECF6\", \"polar\": {\"angularaxis\": {\"gridcolor\": \"white\", \"linecolor\": \"white\", \"ticks\": \"\"}, \"bgcolor\": \"#E5ECF6\", \"radialaxis\": {\"gridcolor\": \"white\", \"linecolor\": \"white\", \"ticks\": \"\"}}, \"scene\": {\"xaxis\": {\"backgroundcolor\": \"#E5ECF6\", \"gridcolor\": \"white\", \"gridwidth\": 2, \"linecolor\": \"white\", \"showbackground\": true, \"ticks\": \"\", \"zerolinecolor\": \"white\"}, \"yaxis\": {\"backgroundcolor\": \"#E5ECF6\", \"gridcolor\": \"white\", \"gridwidth\": 2, \"linecolor\": \"white\", \"showbackground\": true, \"ticks\": \"\", \"zerolinecolor\": \"white\"}, \"zaxis\": {\"backgroundcolor\": \"#E5ECF6\", \"gridcolor\": \"white\", \"gridwidth\": 2, \"linecolor\": \"white\", \"showbackground\": true, \"ticks\": \"\", \"zerolinecolor\": \"white\"}}, \"shapedefaults\": {\"line\": {\"color\": \"#2a3f5f\"}}, \"ternary\": {\"aaxis\": {\"gridcolor\": \"white\", \"linecolor\": \"white\", \"ticks\": \"\"}, \"baxis\": {\"gridcolor\": \"white\", \"linecolor\": \"white\", \"ticks\": \"\"}, \"bgcolor\": \"#E5ECF6\", \"caxis\": {\"gridcolor\": \"white\", \"linecolor\": \"white\", \"ticks\": \"\"}}, \"title\": {\"x\": 0.05}, \"xaxis\": {\"automargin\": true, \"gridcolor\": \"white\", \"linecolor\": \"white\", \"ticks\": \"\", \"title\": {\"standoff\": 15}, \"zerolinecolor\": \"white\", \"zerolinewidth\": 2}, \"yaxis\": {\"automargin\": true, \"gridcolor\": \"white\", \"linecolor\": \"white\", \"ticks\": \"\", \"title\": {\"standoff\": 15}, \"zerolinecolor\": \"white\", \"zerolinewidth\": 2}}}},\n",
       "                        {\"responsive\": true}\n",
       "                    ).then(function(){\n",
       "                            \n",
       "var gd = document.getElementById('5a5c2eef-2a76-4971-ac9c-eecb3db89e9c');\n",
       "var x = new MutationObserver(function (mutations, observer) {{\n",
       "        var display = window.getComputedStyle(gd).display;\n",
       "        if (!display || display === 'none') {{\n",
       "            console.log([gd, 'removed!']);\n",
       "            Plotly.purge(gd);\n",
       "            observer.disconnect();\n",
       "        }}\n",
       "}});\n",
       "\n",
       "// Listen for the removal of the full notebook cells\n",
       "var notebookContainer = gd.closest('#notebook-container');\n",
       "if (notebookContainer) {{\n",
       "    x.observe(notebookContainer, {childList: true});\n",
       "}}\n",
       "\n",
       "// Listen for the clearing of the current output cell\n",
       "var outputEl = gd.closest('.output');\n",
       "if (outputEl) {{\n",
       "    x.observe(outputEl, {childList: true});\n",
       "}}\n",
       "\n",
       "                        })\n",
       "                };\n",
       "                });\n",
       "            </script>\n",
       "        </div>"
      ]
     },
     "metadata": {},
     "output_type": "display_data"
    }
   ],
   "source": [
    "data = None\n",
    "with open(\"fff_data.json\", \"r\") as f:\n",
    "    data = json.load(f)\n",
    "\n",
    "x, y = zip(*sorted(map(lambda x: (x[0], int(x[1])), data.items()), key=lambda x: x[1]))\n",
    "\n",
    "colors = ['lightslategray',] * 30\n",
    "\n",
    "red  = [26, 23, 19, 18, 15, 14, 10, 3]\n",
    "green = [27, 25, 24, 22, 21, 20, 17, 13, 12, 11, 9, 8, 7, 6, 5, 4, 2, 1, 0]\n",
    "\n",
    "for i in red:\n",
    "    colors[i] = 'crimson'\n",
    "for i in green:\n",
    "    colors[i] = 'green'\n",
    "\n",
    "fig = go.Figure([go.Bar(x=x[-30:], y = y[-30:], marker_color=colors)])\n",
    "\n",
    "\n",
    "fig.show()"
   ]
  },
  {
   "cell_type": "code",
   "execution_count": null,
   "metadata": {},
   "outputs": [],
   "source": []
  }
 ],
 "metadata": {
  "kernelspec": {
   "display_name": "Python 3",
   "language": "python",
   "name": "python3"
  },
  "language_info": {
   "codemirror_mode": {
    "name": "ipython",
    "version": 3
   },
   "file_extension": ".py",
   "mimetype": "text/x-python",
   "name": "python",
   "nbconvert_exporter": "python",
   "pygments_lexer": "ipython3",
   "version": "3.7.6"
  }
 },
 "nbformat": 4,
 "nbformat_minor": 4
}
