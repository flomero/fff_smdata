{
 "cells": [
  {
   "cell_type": "markdown",
   "metadata": {},
   "source": [
    "# Get Follower Stats for FFF Accounts"
   ]
  },
  {
   "cell_type": "code",
   "execution_count": 1,
   "metadata": {},
   "outputs": [],
   "source": [
    "import requests\n",
    "import re\n",
    "\n",
    "def get_user(url):\n",
    "    re_user = re.findall('https?://(?:www.)?instagram.com/([A-Za-z0-9\\.\\_](?:(?:[A-Za-z0-9\\.\\_]|(?:.(?!.))){0,28}(?:[A-Za-z0-9_\\.\\_]))?)', url)\n",
    "    print(re_user)\n",
    "    user = re_user[0]\n",
    "    return user\n",
    "\n",
    "def get_followers(url):\n",
    "    r = requests.get(url).text\n",
    "    start = '\"edge_followed_by\":{\"count\":'\n",
    "    end = '},\"followed_by_viewer\"'\n",
    "    followers= r[r.find(start)+len(start):r.rfind(end)]\n",
    "    print(followers)\n",
    "    return followers\n"
   ]
  },
  {
   "cell_type": "markdown",
   "metadata": {},
   "source": [
    "Hier werden die Accounts asugelesen:"
   ]
  },
  {
   "cell_type": "code",
   "execution_count": 4,
   "metadata": {},
   "outputs": [
    {
     "name": "stdout",
     "output_type": "stream",
     "text": [
      "['architects4future']\n"
     ]
    },
    {
     "ename": "ConnectionError",
     "evalue": "HTTPSConnectionPool(host='www.instagram.com', port=443): Max retries exceeded with url: /architects4future/%0A (Caused by NewConnectionError('<urllib3.connection.VerifiedHTTPSConnection object at 0x000002BB63096B08>: Failed to establish a new connection: [Errno 11001] getaddrinfo failed'))",
     "output_type": "error",
     "traceback": [
      "\u001b[1;31m---------------------------------------------------------------------------\u001b[0m",
      "\u001b[1;31mgaierror\u001b[0m                                  Traceback (most recent call last)",
      "\u001b[1;32m~\\anaconda3\\lib\\site-packages\\urllib3\\connection.py\u001b[0m in \u001b[0;36m_new_conn\u001b[1;34m(self)\u001b[0m\n\u001b[0;32m    156\u001b[0m             conn = connection.create_connection(\n\u001b[1;32m--> 157\u001b[1;33m                 \u001b[1;33m(\u001b[0m\u001b[0mself\u001b[0m\u001b[1;33m.\u001b[0m\u001b[0m_dns_host\u001b[0m\u001b[1;33m,\u001b[0m \u001b[0mself\u001b[0m\u001b[1;33m.\u001b[0m\u001b[0mport\u001b[0m\u001b[1;33m)\u001b[0m\u001b[1;33m,\u001b[0m \u001b[0mself\u001b[0m\u001b[1;33m.\u001b[0m\u001b[0mtimeout\u001b[0m\u001b[1;33m,\u001b[0m \u001b[1;33m**\u001b[0m\u001b[0mextra_kw\u001b[0m\u001b[1;33m\u001b[0m\u001b[1;33m\u001b[0m\u001b[0m\n\u001b[0m\u001b[0;32m    158\u001b[0m             )\n",
      "\u001b[1;32m~\\anaconda3\\lib\\site-packages\\urllib3\\util\\connection.py\u001b[0m in \u001b[0;36mcreate_connection\u001b[1;34m(address, timeout, source_address, socket_options)\u001b[0m\n\u001b[0;32m     60\u001b[0m \u001b[1;33m\u001b[0m\u001b[0m\n\u001b[1;32m---> 61\u001b[1;33m     \u001b[1;32mfor\u001b[0m \u001b[0mres\u001b[0m \u001b[1;32min\u001b[0m \u001b[0msocket\u001b[0m\u001b[1;33m.\u001b[0m\u001b[0mgetaddrinfo\u001b[0m\u001b[1;33m(\u001b[0m\u001b[0mhost\u001b[0m\u001b[1;33m,\u001b[0m \u001b[0mport\u001b[0m\u001b[1;33m,\u001b[0m \u001b[0mfamily\u001b[0m\u001b[1;33m,\u001b[0m \u001b[0msocket\u001b[0m\u001b[1;33m.\u001b[0m\u001b[0mSOCK_STREAM\u001b[0m\u001b[1;33m)\u001b[0m\u001b[1;33m:\u001b[0m\u001b[1;33m\u001b[0m\u001b[1;33m\u001b[0m\u001b[0m\n\u001b[0m\u001b[0;32m     62\u001b[0m         \u001b[0maf\u001b[0m\u001b[1;33m,\u001b[0m \u001b[0msocktype\u001b[0m\u001b[1;33m,\u001b[0m \u001b[0mproto\u001b[0m\u001b[1;33m,\u001b[0m \u001b[0mcanonname\u001b[0m\u001b[1;33m,\u001b[0m \u001b[0msa\u001b[0m \u001b[1;33m=\u001b[0m \u001b[0mres\u001b[0m\u001b[1;33m\u001b[0m\u001b[1;33m\u001b[0m\u001b[0m\n",
      "\u001b[1;32m~\\anaconda3\\lib\\socket.py\u001b[0m in \u001b[0;36mgetaddrinfo\u001b[1;34m(host, port, family, type, proto, flags)\u001b[0m\n\u001b[0;32m    751\u001b[0m     \u001b[0maddrlist\u001b[0m \u001b[1;33m=\u001b[0m \u001b[1;33m[\u001b[0m\u001b[1;33m]\u001b[0m\u001b[1;33m\u001b[0m\u001b[1;33m\u001b[0m\u001b[0m\n\u001b[1;32m--> 752\u001b[1;33m     \u001b[1;32mfor\u001b[0m \u001b[0mres\u001b[0m \u001b[1;32min\u001b[0m \u001b[0m_socket\u001b[0m\u001b[1;33m.\u001b[0m\u001b[0mgetaddrinfo\u001b[0m\u001b[1;33m(\u001b[0m\u001b[0mhost\u001b[0m\u001b[1;33m,\u001b[0m \u001b[0mport\u001b[0m\u001b[1;33m,\u001b[0m \u001b[0mfamily\u001b[0m\u001b[1;33m,\u001b[0m \u001b[0mtype\u001b[0m\u001b[1;33m,\u001b[0m \u001b[0mproto\u001b[0m\u001b[1;33m,\u001b[0m \u001b[0mflags\u001b[0m\u001b[1;33m)\u001b[0m\u001b[1;33m:\u001b[0m\u001b[1;33m\u001b[0m\u001b[1;33m\u001b[0m\u001b[0m\n\u001b[0m\u001b[0;32m    753\u001b[0m         \u001b[0maf\u001b[0m\u001b[1;33m,\u001b[0m \u001b[0msocktype\u001b[0m\u001b[1;33m,\u001b[0m \u001b[0mproto\u001b[0m\u001b[1;33m,\u001b[0m \u001b[0mcanonname\u001b[0m\u001b[1;33m,\u001b[0m \u001b[0msa\u001b[0m \u001b[1;33m=\u001b[0m \u001b[0mres\u001b[0m\u001b[1;33m\u001b[0m\u001b[1;33m\u001b[0m\u001b[0m\n",
      "\u001b[1;31mgaierror\u001b[0m: [Errno 11001] getaddrinfo failed",
      "\nDuring handling of the above exception, another exception occurred:\n",
      "\u001b[1;31mNewConnectionError\u001b[0m                        Traceback (most recent call last)",
      "\u001b[1;32m~\\anaconda3\\lib\\site-packages\\urllib3\\connectionpool.py\u001b[0m in \u001b[0;36murlopen\u001b[1;34m(self, method, url, body, headers, retries, redirect, assert_same_host, timeout, pool_timeout, release_conn, chunked, body_pos, **response_kw)\u001b[0m\n\u001b[0;32m    671\u001b[0m                 \u001b[0mheaders\u001b[0m\u001b[1;33m=\u001b[0m\u001b[0mheaders\u001b[0m\u001b[1;33m,\u001b[0m\u001b[1;33m\u001b[0m\u001b[1;33m\u001b[0m\u001b[0m\n\u001b[1;32m--> 672\u001b[1;33m                 \u001b[0mchunked\u001b[0m\u001b[1;33m=\u001b[0m\u001b[0mchunked\u001b[0m\u001b[1;33m,\u001b[0m\u001b[1;33m\u001b[0m\u001b[1;33m\u001b[0m\u001b[0m\n\u001b[0m\u001b[0;32m    673\u001b[0m             )\n",
      "\u001b[1;32m~\\anaconda3\\lib\\site-packages\\urllib3\\connectionpool.py\u001b[0m in \u001b[0;36m_make_request\u001b[1;34m(self, conn, method, url, timeout, chunked, **httplib_request_kw)\u001b[0m\n\u001b[0;32m    375\u001b[0m         \u001b[1;32mtry\u001b[0m\u001b[1;33m:\u001b[0m\u001b[1;33m\u001b[0m\u001b[1;33m\u001b[0m\u001b[0m\n\u001b[1;32m--> 376\u001b[1;33m             \u001b[0mself\u001b[0m\u001b[1;33m.\u001b[0m\u001b[0m_validate_conn\u001b[0m\u001b[1;33m(\u001b[0m\u001b[0mconn\u001b[0m\u001b[1;33m)\u001b[0m\u001b[1;33m\u001b[0m\u001b[1;33m\u001b[0m\u001b[0m\n\u001b[0m\u001b[0;32m    377\u001b[0m         \u001b[1;32mexcept\u001b[0m \u001b[1;33m(\u001b[0m\u001b[0mSocketTimeout\u001b[0m\u001b[1;33m,\u001b[0m \u001b[0mBaseSSLError\u001b[0m\u001b[1;33m)\u001b[0m \u001b[1;32mas\u001b[0m \u001b[0me\u001b[0m\u001b[1;33m:\u001b[0m\u001b[1;33m\u001b[0m\u001b[1;33m\u001b[0m\u001b[0m\n",
      "\u001b[1;32m~\\anaconda3\\lib\\site-packages\\urllib3\\connectionpool.py\u001b[0m in \u001b[0;36m_validate_conn\u001b[1;34m(self, conn)\u001b[0m\n\u001b[0;32m    993\u001b[0m         \u001b[1;32mif\u001b[0m \u001b[1;32mnot\u001b[0m \u001b[0mgetattr\u001b[0m\u001b[1;33m(\u001b[0m\u001b[0mconn\u001b[0m\u001b[1;33m,\u001b[0m \u001b[1;34m\"sock\"\u001b[0m\u001b[1;33m,\u001b[0m \u001b[1;32mNone\u001b[0m\u001b[1;33m)\u001b[0m\u001b[1;33m:\u001b[0m  \u001b[1;31m# AppEngine might not have  `.sock`\u001b[0m\u001b[1;33m\u001b[0m\u001b[1;33m\u001b[0m\u001b[0m\n\u001b[1;32m--> 994\u001b[1;33m             \u001b[0mconn\u001b[0m\u001b[1;33m.\u001b[0m\u001b[0mconnect\u001b[0m\u001b[1;33m(\u001b[0m\u001b[1;33m)\u001b[0m\u001b[1;33m\u001b[0m\u001b[1;33m\u001b[0m\u001b[0m\n\u001b[0m\u001b[0;32m    995\u001b[0m \u001b[1;33m\u001b[0m\u001b[0m\n",
      "\u001b[1;32m~\\anaconda3\\lib\\site-packages\\urllib3\\connection.py\u001b[0m in \u001b[0;36mconnect\u001b[1;34m(self)\u001b[0m\n\u001b[0;32m    299\u001b[0m         \u001b[1;31m# Add certificate verification\u001b[0m\u001b[1;33m\u001b[0m\u001b[1;33m\u001b[0m\u001b[1;33m\u001b[0m\u001b[0m\n\u001b[1;32m--> 300\u001b[1;33m         \u001b[0mconn\u001b[0m \u001b[1;33m=\u001b[0m \u001b[0mself\u001b[0m\u001b[1;33m.\u001b[0m\u001b[0m_new_conn\u001b[0m\u001b[1;33m(\u001b[0m\u001b[1;33m)\u001b[0m\u001b[1;33m\u001b[0m\u001b[1;33m\u001b[0m\u001b[0m\n\u001b[0m\u001b[0;32m    301\u001b[0m         \u001b[0mhostname\u001b[0m \u001b[1;33m=\u001b[0m \u001b[0mself\u001b[0m\u001b[1;33m.\u001b[0m\u001b[0mhost\u001b[0m\u001b[1;33m\u001b[0m\u001b[1;33m\u001b[0m\u001b[0m\n",
      "\u001b[1;32m~\\anaconda3\\lib\\site-packages\\urllib3\\connection.py\u001b[0m in \u001b[0;36m_new_conn\u001b[1;34m(self)\u001b[0m\n\u001b[0;32m    168\u001b[0m             raise NewConnectionError(\n\u001b[1;32m--> 169\u001b[1;33m                 \u001b[0mself\u001b[0m\u001b[1;33m,\u001b[0m \u001b[1;34m\"Failed to establish a new connection: %s\"\u001b[0m \u001b[1;33m%\u001b[0m \u001b[0me\u001b[0m\u001b[1;33m\u001b[0m\u001b[1;33m\u001b[0m\u001b[0m\n\u001b[0m\u001b[0;32m    170\u001b[0m             )\n",
      "\u001b[1;31mNewConnectionError\u001b[0m: <urllib3.connection.VerifiedHTTPSConnection object at 0x000002BB63096B08>: Failed to establish a new connection: [Errno 11001] getaddrinfo failed",
      "\nDuring handling of the above exception, another exception occurred:\n",
      "\u001b[1;31mMaxRetryError\u001b[0m                             Traceback (most recent call last)",
      "\u001b[1;32m~\\anaconda3\\lib\\site-packages\\requests\\adapters.py\u001b[0m in \u001b[0;36msend\u001b[1;34m(self, request, stream, timeout, verify, cert, proxies)\u001b[0m\n\u001b[0;32m    448\u001b[0m                     \u001b[0mretries\u001b[0m\u001b[1;33m=\u001b[0m\u001b[0mself\u001b[0m\u001b[1;33m.\u001b[0m\u001b[0mmax_retries\u001b[0m\u001b[1;33m,\u001b[0m\u001b[1;33m\u001b[0m\u001b[1;33m\u001b[0m\u001b[0m\n\u001b[1;32m--> 449\u001b[1;33m                     \u001b[0mtimeout\u001b[0m\u001b[1;33m=\u001b[0m\u001b[0mtimeout\u001b[0m\u001b[1;33m\u001b[0m\u001b[1;33m\u001b[0m\u001b[0m\n\u001b[0m\u001b[0;32m    450\u001b[0m                 )\n",
      "\u001b[1;32m~\\anaconda3\\lib\\site-packages\\urllib3\\connectionpool.py\u001b[0m in \u001b[0;36murlopen\u001b[1;34m(self, method, url, body, headers, retries, redirect, assert_same_host, timeout, pool_timeout, release_conn, chunked, body_pos, **response_kw)\u001b[0m\n\u001b[0;32m    719\u001b[0m             retries = retries.increment(\n\u001b[1;32m--> 720\u001b[1;33m                 \u001b[0mmethod\u001b[0m\u001b[1;33m,\u001b[0m \u001b[0murl\u001b[0m\u001b[1;33m,\u001b[0m \u001b[0merror\u001b[0m\u001b[1;33m=\u001b[0m\u001b[0me\u001b[0m\u001b[1;33m,\u001b[0m \u001b[0m_pool\u001b[0m\u001b[1;33m=\u001b[0m\u001b[0mself\u001b[0m\u001b[1;33m,\u001b[0m \u001b[0m_stacktrace\u001b[0m\u001b[1;33m=\u001b[0m\u001b[0msys\u001b[0m\u001b[1;33m.\u001b[0m\u001b[0mexc_info\u001b[0m\u001b[1;33m(\u001b[0m\u001b[1;33m)\u001b[0m\u001b[1;33m[\u001b[0m\u001b[1;36m2\u001b[0m\u001b[1;33m]\u001b[0m\u001b[1;33m\u001b[0m\u001b[1;33m\u001b[0m\u001b[0m\n\u001b[0m\u001b[0;32m    721\u001b[0m             )\n",
      "\u001b[1;32m~\\anaconda3\\lib\\site-packages\\urllib3\\util\\retry.py\u001b[0m in \u001b[0;36mincrement\u001b[1;34m(self, method, url, response, error, _pool, _stacktrace)\u001b[0m\n\u001b[0;32m    435\u001b[0m         \u001b[1;32mif\u001b[0m \u001b[0mnew_retry\u001b[0m\u001b[1;33m.\u001b[0m\u001b[0mis_exhausted\u001b[0m\u001b[1;33m(\u001b[0m\u001b[1;33m)\u001b[0m\u001b[1;33m:\u001b[0m\u001b[1;33m\u001b[0m\u001b[1;33m\u001b[0m\u001b[0m\n\u001b[1;32m--> 436\u001b[1;33m             \u001b[1;32mraise\u001b[0m \u001b[0mMaxRetryError\u001b[0m\u001b[1;33m(\u001b[0m\u001b[0m_pool\u001b[0m\u001b[1;33m,\u001b[0m \u001b[0murl\u001b[0m\u001b[1;33m,\u001b[0m \u001b[0merror\u001b[0m \u001b[1;32mor\u001b[0m \u001b[0mResponseError\u001b[0m\u001b[1;33m(\u001b[0m\u001b[0mcause\u001b[0m\u001b[1;33m)\u001b[0m\u001b[1;33m)\u001b[0m\u001b[1;33m\u001b[0m\u001b[1;33m\u001b[0m\u001b[0m\n\u001b[0m\u001b[0;32m    437\u001b[0m \u001b[1;33m\u001b[0m\u001b[0m\n",
      "\u001b[1;31mMaxRetryError\u001b[0m: HTTPSConnectionPool(host='www.instagram.com', port=443): Max retries exceeded with url: /architects4future/%0A (Caused by NewConnectionError('<urllib3.connection.VerifiedHTTPSConnection object at 0x000002BB63096B08>: Failed to establish a new connection: [Errno 11001] getaddrinfo failed'))",
      "\nDuring handling of the above exception, another exception occurred:\n",
      "\u001b[1;31mConnectionError\u001b[0m                           Traceback (most recent call last)",
      "\u001b[1;32m<ipython-input-4-ecc10f2b748a>\u001b[0m in \u001b[0;36m<module>\u001b[1;34m\u001b[0m\n\u001b[0;32m      6\u001b[0m \u001b[1;32mfor\u001b[0m \u001b[0maccount\u001b[0m \u001b[1;32min\u001b[0m \u001b[0maccounts\u001b[0m\u001b[1;33m:\u001b[0m\u001b[1;33m\u001b[0m\u001b[1;33m\u001b[0m\u001b[0m\n\u001b[0;32m      7\u001b[0m     \u001b[0mname\u001b[0m \u001b[1;33m=\u001b[0m \u001b[0mget_user\u001b[0m\u001b[1;33m(\u001b[0m\u001b[0maccount\u001b[0m\u001b[1;33m)\u001b[0m\u001b[1;33m\u001b[0m\u001b[1;33m\u001b[0m\u001b[0m\n\u001b[1;32m----> 8\u001b[1;33m     \u001b[0mfollower\u001b[0m \u001b[1;33m=\u001b[0m \u001b[0mget_followers\u001b[0m\u001b[1;33m(\u001b[0m\u001b[0maccount\u001b[0m\u001b[1;33m)\u001b[0m\u001b[1;33m\u001b[0m\u001b[1;33m\u001b[0m\u001b[0m\n\u001b[0m\u001b[0;32m      9\u001b[0m     \u001b[0muser\u001b[0m \u001b[1;33m=\u001b[0m \u001b[1;33m[\u001b[0m\u001b[0mstr\u001b[0m\u001b[1;33m(\u001b[0m\u001b[0mname\u001b[0m\u001b[1;33m)\u001b[0m\u001b[1;33m,\u001b[0m \u001b[0mstr\u001b[0m\u001b[1;33m(\u001b[0m\u001b[0mfollower\u001b[0m\u001b[1;33m)\u001b[0m\u001b[1;33m]\u001b[0m\u001b[1;33m\u001b[0m\u001b[1;33m\u001b[0m\u001b[0m\n\u001b[0;32m     10\u001b[0m     \u001b[0mnames\u001b[0m\u001b[1;33m.\u001b[0m\u001b[0mappend\u001b[0m\u001b[1;33m(\u001b[0m\u001b[0mname\u001b[0m\u001b[1;33m)\u001b[0m\u001b[1;33m\u001b[0m\u001b[1;33m\u001b[0m\u001b[0m\n",
      "\u001b[1;32m<ipython-input-3-409f8e3da848>\u001b[0m in \u001b[0;36mget_followers\u001b[1;34m(url)\u001b[0m\n\u001b[0;32m      9\u001b[0m \u001b[1;33m\u001b[0m\u001b[0m\n\u001b[0;32m     10\u001b[0m \u001b[1;32mdef\u001b[0m \u001b[0mget_followers\u001b[0m\u001b[1;33m(\u001b[0m\u001b[0murl\u001b[0m\u001b[1;33m)\u001b[0m\u001b[1;33m:\u001b[0m\u001b[1;33m\u001b[0m\u001b[1;33m\u001b[0m\u001b[0m\n\u001b[1;32m---> 11\u001b[1;33m     \u001b[0mr\u001b[0m \u001b[1;33m=\u001b[0m \u001b[0mrequests\u001b[0m\u001b[1;33m.\u001b[0m\u001b[0mget\u001b[0m\u001b[1;33m(\u001b[0m\u001b[0murl\u001b[0m\u001b[1;33m)\u001b[0m\u001b[1;33m.\u001b[0m\u001b[0mtext\u001b[0m\u001b[1;33m\u001b[0m\u001b[1;33m\u001b[0m\u001b[0m\n\u001b[0m\u001b[0;32m     12\u001b[0m     \u001b[0mstart\u001b[0m \u001b[1;33m=\u001b[0m \u001b[1;34m'\"edge_followed_by\":{\"count\":'\u001b[0m\u001b[1;33m\u001b[0m\u001b[1;33m\u001b[0m\u001b[0m\n\u001b[0;32m     13\u001b[0m     \u001b[0mend\u001b[0m \u001b[1;33m=\u001b[0m \u001b[1;34m'},\"followed_by_viewer\"'\u001b[0m\u001b[1;33m\u001b[0m\u001b[1;33m\u001b[0m\u001b[0m\n",
      "\u001b[1;32m~\\anaconda3\\lib\\site-packages\\requests\\api.py\u001b[0m in \u001b[0;36mget\u001b[1;34m(url, params, **kwargs)\u001b[0m\n\u001b[0;32m     73\u001b[0m \u001b[1;33m\u001b[0m\u001b[0m\n\u001b[0;32m     74\u001b[0m     \u001b[0mkwargs\u001b[0m\u001b[1;33m.\u001b[0m\u001b[0msetdefault\u001b[0m\u001b[1;33m(\u001b[0m\u001b[1;34m'allow_redirects'\u001b[0m\u001b[1;33m,\u001b[0m \u001b[1;32mTrue\u001b[0m\u001b[1;33m)\u001b[0m\u001b[1;33m\u001b[0m\u001b[1;33m\u001b[0m\u001b[0m\n\u001b[1;32m---> 75\u001b[1;33m     \u001b[1;32mreturn\u001b[0m \u001b[0mrequest\u001b[0m\u001b[1;33m(\u001b[0m\u001b[1;34m'get'\u001b[0m\u001b[1;33m,\u001b[0m \u001b[0murl\u001b[0m\u001b[1;33m,\u001b[0m \u001b[0mparams\u001b[0m\u001b[1;33m=\u001b[0m\u001b[0mparams\u001b[0m\u001b[1;33m,\u001b[0m \u001b[1;33m**\u001b[0m\u001b[0mkwargs\u001b[0m\u001b[1;33m)\u001b[0m\u001b[1;33m\u001b[0m\u001b[1;33m\u001b[0m\u001b[0m\n\u001b[0m\u001b[0;32m     76\u001b[0m \u001b[1;33m\u001b[0m\u001b[0m\n\u001b[0;32m     77\u001b[0m \u001b[1;33m\u001b[0m\u001b[0m\n",
      "\u001b[1;32m~\\anaconda3\\lib\\site-packages\\requests\\api.py\u001b[0m in \u001b[0;36mrequest\u001b[1;34m(method, url, **kwargs)\u001b[0m\n\u001b[0;32m     58\u001b[0m     \u001b[1;31m# cases, and look like a memory leak in others.\u001b[0m\u001b[1;33m\u001b[0m\u001b[1;33m\u001b[0m\u001b[1;33m\u001b[0m\u001b[0m\n\u001b[0;32m     59\u001b[0m     \u001b[1;32mwith\u001b[0m \u001b[0msessions\u001b[0m\u001b[1;33m.\u001b[0m\u001b[0mSession\u001b[0m\u001b[1;33m(\u001b[0m\u001b[1;33m)\u001b[0m \u001b[1;32mas\u001b[0m \u001b[0msession\u001b[0m\u001b[1;33m:\u001b[0m\u001b[1;33m\u001b[0m\u001b[1;33m\u001b[0m\u001b[0m\n\u001b[1;32m---> 60\u001b[1;33m         \u001b[1;32mreturn\u001b[0m \u001b[0msession\u001b[0m\u001b[1;33m.\u001b[0m\u001b[0mrequest\u001b[0m\u001b[1;33m(\u001b[0m\u001b[0mmethod\u001b[0m\u001b[1;33m=\u001b[0m\u001b[0mmethod\u001b[0m\u001b[1;33m,\u001b[0m \u001b[0murl\u001b[0m\u001b[1;33m=\u001b[0m\u001b[0murl\u001b[0m\u001b[1;33m,\u001b[0m \u001b[1;33m**\u001b[0m\u001b[0mkwargs\u001b[0m\u001b[1;33m)\u001b[0m\u001b[1;33m\u001b[0m\u001b[1;33m\u001b[0m\u001b[0m\n\u001b[0m\u001b[0;32m     61\u001b[0m \u001b[1;33m\u001b[0m\u001b[0m\n\u001b[0;32m     62\u001b[0m \u001b[1;33m\u001b[0m\u001b[0m\n",
      "\u001b[1;32m~\\anaconda3\\lib\\site-packages\\requests\\sessions.py\u001b[0m in \u001b[0;36mrequest\u001b[1;34m(self, method, url, params, data, headers, cookies, files, auth, timeout, allow_redirects, proxies, hooks, stream, verify, cert, json)\u001b[0m\n\u001b[0;32m    531\u001b[0m         }\n\u001b[0;32m    532\u001b[0m         \u001b[0msend_kwargs\u001b[0m\u001b[1;33m.\u001b[0m\u001b[0mupdate\u001b[0m\u001b[1;33m(\u001b[0m\u001b[0msettings\u001b[0m\u001b[1;33m)\u001b[0m\u001b[1;33m\u001b[0m\u001b[1;33m\u001b[0m\u001b[0m\n\u001b[1;32m--> 533\u001b[1;33m         \u001b[0mresp\u001b[0m \u001b[1;33m=\u001b[0m \u001b[0mself\u001b[0m\u001b[1;33m.\u001b[0m\u001b[0msend\u001b[0m\u001b[1;33m(\u001b[0m\u001b[0mprep\u001b[0m\u001b[1;33m,\u001b[0m \u001b[1;33m**\u001b[0m\u001b[0msend_kwargs\u001b[0m\u001b[1;33m)\u001b[0m\u001b[1;33m\u001b[0m\u001b[1;33m\u001b[0m\u001b[0m\n\u001b[0m\u001b[0;32m    534\u001b[0m \u001b[1;33m\u001b[0m\u001b[0m\n\u001b[0;32m    535\u001b[0m         \u001b[1;32mreturn\u001b[0m \u001b[0mresp\u001b[0m\u001b[1;33m\u001b[0m\u001b[1;33m\u001b[0m\u001b[0m\n",
      "\u001b[1;32m~\\anaconda3\\lib\\site-packages\\requests\\sessions.py\u001b[0m in \u001b[0;36msend\u001b[1;34m(self, request, **kwargs)\u001b[0m\n\u001b[0;32m    644\u001b[0m \u001b[1;33m\u001b[0m\u001b[0m\n\u001b[0;32m    645\u001b[0m         \u001b[1;31m# Send the request\u001b[0m\u001b[1;33m\u001b[0m\u001b[1;33m\u001b[0m\u001b[1;33m\u001b[0m\u001b[0m\n\u001b[1;32m--> 646\u001b[1;33m         \u001b[0mr\u001b[0m \u001b[1;33m=\u001b[0m \u001b[0madapter\u001b[0m\u001b[1;33m.\u001b[0m\u001b[0msend\u001b[0m\u001b[1;33m(\u001b[0m\u001b[0mrequest\u001b[0m\u001b[1;33m,\u001b[0m \u001b[1;33m**\u001b[0m\u001b[0mkwargs\u001b[0m\u001b[1;33m)\u001b[0m\u001b[1;33m\u001b[0m\u001b[1;33m\u001b[0m\u001b[0m\n\u001b[0m\u001b[0;32m    647\u001b[0m \u001b[1;33m\u001b[0m\u001b[0m\n\u001b[0;32m    648\u001b[0m         \u001b[1;31m# Total elapsed time of the request (approximately)\u001b[0m\u001b[1;33m\u001b[0m\u001b[1;33m\u001b[0m\u001b[1;33m\u001b[0m\u001b[0m\n",
      "\u001b[1;32m~\\anaconda3\\lib\\site-packages\\requests\\adapters.py\u001b[0m in \u001b[0;36msend\u001b[1;34m(self, request, stream, timeout, verify, cert, proxies)\u001b[0m\n\u001b[0;32m    514\u001b[0m                 \u001b[1;32mraise\u001b[0m \u001b[0mSSLError\u001b[0m\u001b[1;33m(\u001b[0m\u001b[0me\u001b[0m\u001b[1;33m,\u001b[0m \u001b[0mrequest\u001b[0m\u001b[1;33m=\u001b[0m\u001b[0mrequest\u001b[0m\u001b[1;33m)\u001b[0m\u001b[1;33m\u001b[0m\u001b[1;33m\u001b[0m\u001b[0m\n\u001b[0;32m    515\u001b[0m \u001b[1;33m\u001b[0m\u001b[0m\n\u001b[1;32m--> 516\u001b[1;33m             \u001b[1;32mraise\u001b[0m \u001b[0mConnectionError\u001b[0m\u001b[1;33m(\u001b[0m\u001b[0me\u001b[0m\u001b[1;33m,\u001b[0m \u001b[0mrequest\u001b[0m\u001b[1;33m=\u001b[0m\u001b[0mrequest\u001b[0m\u001b[1;33m)\u001b[0m\u001b[1;33m\u001b[0m\u001b[1;33m\u001b[0m\u001b[0m\n\u001b[0m\u001b[0;32m    517\u001b[0m \u001b[1;33m\u001b[0m\u001b[0m\n\u001b[0;32m    518\u001b[0m         \u001b[1;32mexcept\u001b[0m \u001b[0mClosedPoolError\u001b[0m \u001b[1;32mas\u001b[0m \u001b[0me\u001b[0m\u001b[1;33m:\u001b[0m\u001b[1;33m\u001b[0m\u001b[1;33m\u001b[0m\u001b[0m\n",
      "\u001b[1;31mConnectionError\u001b[0m: HTTPSConnectionPool(host='www.instagram.com', port=443): Max retries exceeded with url: /architects4future/%0A (Caused by NewConnectionError('<urllib3.connection.VerifiedHTTPSConnection object at 0x000002BB63096B08>: Failed to establish a new connection: [Errno 11001] getaddrinfo failed'))"
     ]
    }
   ],
   "source": [
    "accounts = open(\"accounts.txt\", \"r\")\n",
    "names = []\n",
    "followers = []\n",
    "\n",
    "\n",
    "for account in accounts:\n",
    "    name = get_user(account)\n",
    "    follower = get_followers(account)\n",
    "    user = [str(name), str(follower)]\n",
    "    names.append(name)\n",
    "    followers.append(follower)\n",
    "print(\"ready\")"
   ]
  },
  {
   "cell_type": "code",
   "execution_count": 5,
   "metadata": {},
   "outputs": [
    {
     "ename": "ValueError",
     "evalue": "not enough values to unpack (expected 2, got 0)",
     "output_type": "error",
     "traceback": [
      "\u001b[1;31m---------------------------------------------------------------------------\u001b[0m",
      "\u001b[1;31mValueError\u001b[0m                                Traceback (most recent call last)",
      "\u001b[1;32m<ipython-input-5-c6609a7825c8>\u001b[0m in \u001b[0;36m<module>\u001b[1;34m\u001b[0m\n\u001b[0;32m      3\u001b[0m \u001b[0mx\u001b[0m \u001b[1;33m=\u001b[0m \u001b[0mnames\u001b[0m\u001b[1;33m\u001b[0m\u001b[1;33m\u001b[0m\u001b[0m\n\u001b[0;32m      4\u001b[0m \u001b[0my\u001b[0m \u001b[1;33m=\u001b[0m \u001b[0mfollowers\u001b[0m\u001b[1;33m\u001b[0m\u001b[1;33m\u001b[0m\u001b[0m\n\u001b[1;32m----> 5\u001b[1;33m \u001b[0mx\u001b[0m\u001b[1;33m,\u001b[0m \u001b[0my\u001b[0m \u001b[1;33m=\u001b[0m \u001b[0mzip\u001b[0m\u001b[1;33m(\u001b[0m\u001b[1;33m*\u001b[0m\u001b[0msorted\u001b[0m\u001b[1;33m(\u001b[0m\u001b[0mzip\u001b[0m\u001b[1;33m(\u001b[0m\u001b[0mx\u001b[0m\u001b[1;33m,\u001b[0m \u001b[0my\u001b[0m\u001b[1;33m)\u001b[0m\u001b[1;33m)\u001b[0m\u001b[1;33m)\u001b[0m\u001b[1;33m\u001b[0m\u001b[1;33m\u001b[0m\u001b[0m\n\u001b[0m\u001b[0;32m      6\u001b[0m \u001b[1;33m\u001b[0m\u001b[0m\n\u001b[0;32m      7\u001b[0m \u001b[1;33m\u001b[0m\u001b[0m\n",
      "\u001b[1;31mValueError\u001b[0m: not enough values to unpack (expected 2, got 0)"
     ]
    }
   ],
   "source": [
    "import plotly.graph_objects as go\n",
    "\n",
    "x = names\n",
    "y = followers\n",
    "x, y = zip(*sorted(zip(x, y)))\n",
    "\n",
    "\n",
    "fig = go.Figure([go.Bar(x=x, y = y)])\n",
    "\n",
    "\n",
    "fig.show()"
   ]
  },
  {
   "cell_type": "code",
   "execution_count": 2,
   "metadata": {
    "scrolled": false
   },
   "outputs": [
    {
     "name": "stdout",
     "output_type": "stream",
     "text": [
      "['f4fFalkensee']\n",
      "1193\n",
      "['fridaysforfuture.bodensee']\n",
      "2452\n",
      "['fridaysforfuturebuehl']\n",
      "210\n",
      "['fridaysforfuture_ahaus']\n",
      "306\n",
      "['fridaysforfuture.bodensee']\n",
      "2452\n",
      "['fridaysforfuture.ge']\n",
      "1204\n",
      "['starnberg4future']\n",
      "267\n",
      "['aurichforfuture']\n",
      "288\n",
      "['buxtehudeforfuture']\n",
      "733\n",
      "['f4f_filderstadt']\n",
      "133\n",
      "['f4ftraunstein']\n",
      "451\n",
      "['fff_erkrath']\n",
      "822\n",
      "['fff_hanau']\n",
      "319\n",
      "['fff_oberhausen']\n",
      "627\n",
      "['fff_rastede']\n",
      "289\n",
      "['fff_verden']\n",
      "552\n",
      "['fff.borken']\n",
      "1580\n",
      "['fff.gross_gerau']\n",
      "367\n",
      "['fffbargteheide']\n",
      "166\n",
      "['fffgiessen']\n",
      "2098\n",
      "['fffkamen']\n",
      "429\n",
      "['fffweilburg']\n",
      "972\n",
      "['fffwetzlar']\n",
      "1312\n",
      "['fffwiesbaden']\n",
      "2728\n",
      "['fridayforfuture.kaki']\n",
      "110\n",
      "['fridays.for.future_albstadt']\n",
      "308\n",
      "['fridays4futurekl']\n",
      "787\n",
      "['fridaysforfuture_andernach']\n",
      "106\n",
      "['fridaysforfuture_annaberg']\n",
      "205\n",
      "['fridaysforfuture_bad_segeberg']\n",
      "1293\n",
      "['fridaysforfuture_bonn']\n",
      "10782\n",
      "['fridaysforfuture_brueggen']\n",
      "395\n",
      "['fridaysforfuture_bruehl']\n",
      "313\n",
      "['fridaysforfuture_duisburg']\n",
      "1346\n",
      "['fridaysforfuture_einbeck']\n",
      "142\n",
      "['fridaysforfuture_esslingen']\n",
      "1210\n",
      "['fridaysforfuture_geilenkirchen']\n",
      "227\n",
      "['fridaysforfuture_hannover']\n",
      "14256\n",
      "['fridaysforfuture_jena']\n",
      "1809\n",
      "['fridaysforfuture_koblenz']\n",
      "1879\n",
      "['fridaysforfuture_luenen']\n",
      "227\n",
      "['fridaysforfuture_noh']\n",
      "783\n",
      "['fridaysforfuture_northeim']\n",
      "625\n",
      "['fridaysforfuture_om']\n",
      "648\n",
      "['fridaysforfuture_om']\n",
      "648\n",
      "['fridaysforfuture_pforzheim']\n",
      "1412\n",
      "['fridaysforfuture_re']\n",
      "664\n",
      "['fridaysforfuture_unna']\n",
      "219\n",
      "['fridaysforfuture_wesel']\n",
      "753\n",
      "['fridaysforfuture.aschaffenburg']\n",
      "1399\n",
      "['fridaysforfuture.backnang']\n",
      "424\n",
      "['fridaysforfuture.berchtesgaden']\n",
      "197\n",
      "['fridaysforfuture.brandenburg']\n",
      "760\n",
      "['fridaysforfuture.bremen']\n",
      "6641\n",
      "['fridaysforfuture.da']\n",
      "3831\n",
      "['fridaysforfuture.datteln']\n",
      "595\n",
      "['fridaysforfuture.enger']\n",
      "308\n",
      "['fridaysforfuture.erding']\n",
      "225\n",
      "['fridaysforfuture.ft']\n",
      "970\n",
      "['fridaysforfuture.goerlitz']\n",
      "211\n",
      "['fridaysforfuture.grimma']\n",
      "265\n",
      "['fridaysforfuture.gruenstadt']\n",
      "149\n",
      "['fridaysforfuture.hochneukirch']\n",
      "731\n",
      "['fridaysforfuture.iz']\n",
      "358\n",
      "['fridaysforfuture.kempen']\n",
      "445\n",
      "['fridaysforfuture.kuenzelsau']\n",
      "101\n",
      "['fridaysforfuture.lauf']\n",
      "759\n",
      "['fridaysforfuture.lindau']\n",
      "619\n",
      "['fridaysforfuture.lu']\n",
      "84\n",
      "['fridaysforfuture.neustadt']\n",
      "663\n",
      "['fridaysforfuture.niebuell']\n",
      "493\n",
      "['fridaysforfuture.nms']\n",
      "862\n",
      "['fridaysforfuture.oehr']\n",
      "232\n",
      "['fridaysforfuture.pruem']\n",
      "131\n",
      "['fridaysforfuture.rw']\n",
      "962\n",
      "['fridaysforfuture.schorndorf']\n",
      "101\n",
      "['fridaysforfuture.singen']\n",
      "330\n",
      "['fridaysforfuture.solingen']\n",
      "1058\n",
      "['fridaysforfuture.speyer']\n",
      "977\n",
      "['fridaysforfuture.stralsund']\n",
      "345\n",
      "['fridaysforfuture.waren']\n",
      "83\n",
      "['fridaysforfuture.weiden']\n",
      "1033\n",
      "['fridaysforfuture.wendland']\n",
      "482\n",
      "['fridaysforfuture.wesermarsch']\n",
      "99\n",
      "['fridaysforfuture.willich']\n",
      "379\n",
      "['fridaysforfuture.winsen']\n",
      "898\n",
      "['fridaysforfuture.zeitz']\n",
      "99\n",
      "['fridaysforfuture.zittau']\n",
      "207\n",
      "['fridaysforfuture.zwickau']\n",
      "1480\n",
      "['fridaysforfuturedo']\n",
      "7502\n",
      "['fridaysforfuturegifhorn']\n",
      "1000\n",
      "['fridaysforfuturehorb']\n",
      "98\n",
      "['fridaysforfuturekassel']\n",
      "3085\n",
      "['fridaysforfuturekoeln']\n",
      "19771\n",
      "['fridaysforfuturelandau']\n",
      "116\n",
      "['fridaysforfuturelehrte']\n",
      "811\n",
      "['fridaysforfutureloerrach']\n",
      "579\n",
      "['fridaysforfutureluebeck']\n",
      "3216\n",
      "['fridaysforfuturemannheim']\n",
      "4187\n",
      "['fridaysforfutureminden']\n",
      "716\n",
      "['fridaysforfutureschramberg']\n",
      "119\n",
      "['fridaysforfutureschriesheim']\n",
      "110\n",
      "['fridaysforfuturesinsheim']\n",
      "287\n",
      "['fridaysforfuturestuttgart']\n",
      "14285\n",
      "['fridaysforfuturesylt']\n",
      "688\n",
      "['fridaysforfuturewarburg']\n",
      "283\n",
      "['fridaysforfutureweilheim']\n",
      "650\n",
      "['fridaysforfutureweimar']\n",
      "1159\n",
      "['klimademorodgau']\n",
      "76\n",
      "['waldshut_fff']\n",
      "363\n",
      "['busaulendorf']\n",
      "122\n",
      "['fff_iserlohn']\n",
      "412\n",
      "['fff_mstaedt']\n",
      "93\n",
      "['fff_oranienburg']\n",
      "244\n",
      "['fff_roesrath']\n",
      "168\n",
      "['fff.alzey']\n",
      "187\n",
      "['fff.bremerhaven']\n",
      "502\n",
      "['fff.eckernfoerde']\n",
      "927\n",
      "['fff.rendsburg']\n",
      "908\n",
      "['fff.schleswig']\n",
      "976\n",
      "['fffaltkreishalle']\n",
      "299\n",
      "['fffaltkreishalle']\n",
      "299\n",
      "['fffaltkreishalle']\n",
      "299\n",
      "['fffaltkreishalle']\n",
      "299\n",
      "['fffdresden']\n",
      "7970\n",
      "['fffhtk']\n",
      "797\n",
      "['fffmtk']\n",
      "322\n",
      "['fffnienburg']\n",
      "1187\n",
      "['fffsaarlouis']\n",
      "680\n",
      "['fffvelbert']\n",
      "347\n",
      "['fridays_for_future_gelnhausen']\n",
      "124\n",
      "['fridays.for.future.landsberg']\n",
      "1289\n",
      "['fridays.for.future.landsberg']\n",
      "1289\n",
      "['fridaysforfuture_aichach']\n",
      "88\n",
      "['fridaysforfuture_bad_neustadt']\n",
      "118\n",
      "['fridaysforfuture_bocholt']\n",
      "1094\n",
      "['fridaysforfuture_chemnitz']\n",
      "2728\n",
      "['fridaysforfuture_coburg']\n",
      "783\n",
      "['fridaysforfuture_daun']\n",
      "97\n",
      "['fridaysforfuture_dkb']\n",
      "376\n",
      "['fridaysforfuture_dorfen']\n",
      "96\n",
      "['fridaysforfuture_erftstadt']\n",
      "295\n",
      "['fridaysforfuture_flensburg']\n",
      "2089\n",
      "['fridaysforfuture_freiburg']\n",
      "9925\n",
      "['fridaysforfuture_gangelt']\n",
      "1110\n",
      "['fridaysforfuture_goettingen']\n",
      "4781\n",
      "['fridaysforfuture_heidelberg']\n",
      "6934\n",
      "['fridaysforfuture_hh']\n",
      "24415\n",
      "['fridaysforfuture_ibbenbueren']\n",
      "246\n",
      "['fridaysforfuture_ka']\n",
      "6818\n",
      "['fridaysforfuture_ka']\n",
      "6818\n",
      "['fridaysforfuture_kitzingen']\n",
      "99\n",
      "['fridaysforfuture_leverkusen']\n",
      "745\n",
      "['fridaysforfuture_mr']\n",
      "1360\n",
      "['fridaysforfuture_muenster']\n",
      "8926\n",
      "['fridaysforfuture_neuss']\n",
      "1014\n",
      "['fridaysforfuture_os']\n",
      "5739\n",
      "['fridaysforfuture_osterholz']\n",
      "494\n",
      "['fridaysforfuture_siegen']\n",
      "2242\n",
      "['fridaysforfuture_tuebingen']\n",
      "6406\n",
      "['fridaysforfuture_werther']\n",
      "206\n",
      "['fridaysforfuture_wittlage']\n",
      "238\n",
      "['fridaysforfuture_wolfsburg']\n",
      "305\n",
      "['fridaysforfuture_wor']\n",
      "116\n",
      "['fridaysforfuture_wuerzburg']\n",
      "5205\n",
      "['fridaysforfuture.ac']\n",
      "10279\n",
      "['fridaysforfuture.anklam']\n",
      "202\n",
      "['fridaysforfuture.badtoelz']\n",
      "387\n",
      "['fridaysforfuture.berlin']\n",
      "35605\n",
      "['fridaysforfuture.bielefeld']\n",
      "3946\n",
      "['fridaysforfuture.bodensee']\n",
      "2452\n",
      "['fridaysforfuture.bs']\n",
      "3163\n",
      "['fridaysforfuture.buchholz']\n",
      "873\n",
      "['fridaysforfuture.celle']\n",
      "1929\n",
      "['fridaysforfuture.dachau']\n",
      "436\n",
      "['fridaysforfuture.dessau']\n",
      "573\n",
      "['fridaysforfuture.duelmen']\n",
      "428\n",
      "['fridaysforfuture.duesseldorf']\n",
      "9890\n",
      "['fridaysforfuture.eichstaett']\n",
      "745\n",
      "['fridaysforfuture.erlangen']\n",
      "4362\n",
      "['fridaysforfuture.essen']\n",
      "4593\n",
      "['fridaysforfuture.fritzlar']\n",
      "196\n",
      "['fridaysforfuture.fuerstenwalde']\n",
      "112\n",
      "['fridaysforfuture.fuerth']\n",
      "814\n",
      "['fridaysforfuture.goeppingen']\n",
      "334\n",
      "['fridaysforfuture.gotha']\n",
      "500\n",
      "['fridaysforfuture.ingolstadt']\n",
      "664\n",
      "['fridaysforfuture.kibo']\n",
      "93\n",
      "['fridaysforfuture.kiel']\n",
      "6640\n",
      "['fridaysforfuture.kleve']\n",
      "924\n",
      "['fridaysforfuture.kn']\n",
      "4560\n",
      "['fridaysforfuture.krefeld']\n",
      "1406\n",
      "['fridaysforfuture.landshut']\n",
      "566\n",
      "['fridaysforfuture.leipzig']\n",
      "9487\n",
      "['fridaysforfuture.lueneburg']\n",
      "6501\n",
      "['fridaysforfuture.menden']\n",
      "125\n",
      "['fridaysforfuture.mettmann']\n",
      "366\n",
      "['fridaysforfuture.mg']\n",
      "1103\n",
      "['fridaysforfuture.moers']\n",
      "360\n",
      "['fridaysforfuture.oldenburg']\n",
      "4239\n",
      "['fridaysforfuture.passau']\n",
      "1945\n",
      "['fridaysforfuture.potsdam']\n",
      "2387\n",
      "['fridaysforfuture.rastatt']\n",
      "431\n",
      "['fridaysforfuture.ratingen']\n",
      "260\n",
      "['fridaysforfuture.reutlingen']\n",
      "1382\n",
      "['fridaysforfuture.rgbg']\n",
      "1993\n",
      "['fridaysforfuture.rostock']\n",
      "1533\n",
      "['fridaysforfuture.ruegen']\n",
      "57\n",
      "['fridaysforfuture.saar']\n",
      "3390\n",
      "['fridaysforfuture.soest']\n",
      "944\n",
      "['fridaysforfuture.soest']\n",
      "944\n",
      "['fridaysforfuture.tf']\n",
      "152\n",
      "['fridaysforfuture.uelzen']\n",
      "968\n",
      "['fridaysforfuture.vs']\n",
      "967\n",
      "['fridaysforfuture.walsrode']\n",
      "382\n",
      "['fridaysforfuture.wertheim']\n",
      "323\n",
      "['fridaysforfuture.wf']\n",
      "954\n",
      "['fridaysforfuture.wuelfrath']\n",
      "458\n",
      "['fridaysforfuture.wuppertal']\n",
      "3015\n",
      "['fridaysforfuture.wurzen']\n",
      "179\n",
      "['fridaysforfuture.xanten']\n",
      "495\n",
      "['fridaysforfuture.zweibrucken']\n",
      "189\n",
      "['fridaysforfuturebbg']\n",
      "2215\n",
      "['fridaysforfuturebitburg']\n",
      "136\n",
      "['fridaysforfuturebochum']\n",
      "2662\n",
      "['fridaysforfuturebottrop']\n",
      "476\n",
      "['fridaysforfuturedetmold']\n",
      "618\n",
      "['fridaysforfuturedorsten']\n",
      "242\n",
      "['fridaysforfutureerfurt']\n",
      "2156\n",
      "['fridaysforfutureffm']\n",
      "13571\n",
      "['fridaysforfuturefreising']\n",
      "912\n",
      "['fridaysforfuturehagen']\n",
      "2107\n",
      "['fridaysforfuturehalle']\n",
      "2545\n",
      "['fridaysforfutureheilbronn']\n",
      "1615\n",
      "['fridaysforfutureherne']\n",
      "736\n",
      "['fridaysforfuturekempten']\n",
      "1037\n",
      "['fridaysforfuturekulmbach']\n",
      "340\n",
      "['fridaysforfuturelindenberg']\n",
      "159\n",
      "['fridaysforfuturelu']\n",
      "388\n",
      "['fridaysforfutureludwigsburg']\n",
      "1918\n",
      "['fridaysforfuturemagdeburg']\n",
      "2612\n",
      "['fridaysforfuturemainz']\n",
      "4946\n",
      "['fridaysforfuturemainz']\n",
      "4946\n",
      "['fridaysforfuturemainz']\n",
      "4946\n",
      "['fridaysforfuturemainz']\n",
      "4946\n",
      "['fridaysforfuturemuenchen']\n",
      "19522\n",
      "['fridaysforfuturenbg']\n",
      "8046\n",
      "['fridaysforfutureneuruppin']\n",
      "1050\n",
      "['fridaysforfutureoffenbach']\n",
      "384\n",
      "['fridaysforfuturepaderborn']\n",
      "2932\n",
      "['fridaysforfuturerbk']\n",
      "499\n",
      "['fridaysforfuturerosenheim']\n",
      "1436\n",
      "['fridaysforfuturesat']\n",
      "122\n",
      "['fridaysforfuturesonthofen']\n",
      "295\n",
      "['fridaysforfuturestraubing']\n",
      "328\n",
      "['fridaysforfuturestrausberg']\n",
      "106\n",
      "['fridaysforfuturesuhl']\n",
      "153\n",
      "['fridaysforfutureulm']\n",
      "2886\n",
      "['fridaysforfuturewitten']\n",
      "718\n",
      "['jugendbuendnis_templin']\n",
      "315\n",
      "['klimastreiklandau']\n",
      "1175\n",
      "['lampertheimforfuture']\n",
      "161\n",
      "['mittweida_for_future']\n",
      "243\n",
      "['parents4future_schoeneiche']\n",
      "106\n",
      "['wwgoesgreen']\n",
      "294\n",
      "ready\n"
     ]
    }
   ],
   "source": [
    "accounts = open(\"fff.txt\", \"r\")\n",
    "names = []\n",
    "followers = []\n",
    "\n",
    "\n",
    "for account in accounts:\n",
    "    name = get_user(account)\n",
    "    follower = get_followers(account)\n",
    "    user = [str(name), str(follower)]\n",
    "    names.append(name)\n",
    "    followers.append(follower)\n",
    "print(\"ready\")"
   ]
  },
  {
   "cell_type": "code",
   "execution_count": 7,
   "metadata": {},
   "outputs": [
    {
     "data": {
      "application/vnd.plotly.v1+json": {
       "config": {
        "plotlyServerURL": "https://plot.ly"
       },
       "data": [
        {
         "type": "bar",
         "x": [
          "aurichforfuture",
          "busaulendorf",
          "buxtehudeforfuture",
          "f4fFalkensee",
          "f4f_filderstadt",
          "f4ftraunstein",
          "fff.alzey",
          "fff.borken",
          "fff.bremerhaven",
          "fff.eckernfoerde",
          "fff.gross_gerau",
          "fff.rendsburg",
          "fff.schleswig",
          "fff_erkrath",
          "fff_hanau",
          "fff_iserlohn",
          "fff_mstaedt",
          "fff_oberhausen",
          "fff_oranienburg",
          "fff_rastede",
          "fff_roesrath",
          "fff_verden",
          "fffaltkreishalle",
          "fffaltkreishalle",
          "fffaltkreishalle",
          "fffaltkreishalle",
          "fffbargteheide",
          "fffdresden",
          "fffgiessen",
          "fffhtk",
          "fffkamen",
          "fffmtk",
          "fffnienburg",
          "fffsaarlouis",
          "fffvelbert",
          "fffweilburg",
          "fffwetzlar",
          "fffwiesbaden",
          "fridayforfuture.kaki",
          "fridays.for.future.landsberg",
          "fridays.for.future.landsberg",
          "fridays.for.future_albstadt",
          "fridays4futurekl",
          "fridays_for_future_gelnhausen",
          "fridaysforfuture.ac",
          "fridaysforfuture.anklam",
          "fridaysforfuture.aschaffenburg",
          "fridaysforfuture.backnang",
          "fridaysforfuture.badtoelz",
          "fridaysforfuture.berchtesgaden",
          "fridaysforfuture.berlin",
          "fridaysforfuture.bielefeld",
          "fridaysforfuture.bodensee",
          "fridaysforfuture.bodensee",
          "fridaysforfuture.bodensee",
          "fridaysforfuture.brandenburg",
          "fridaysforfuture.bremen",
          "fridaysforfuture.bs",
          "fridaysforfuture.buchholz",
          "fridaysforfuture.celle",
          "fridaysforfuture.da",
          "fridaysforfuture.dachau",
          "fridaysforfuture.datteln",
          "fridaysforfuture.dessau",
          "fridaysforfuture.duelmen",
          "fridaysforfuture.duesseldorf",
          "fridaysforfuture.eichstaett",
          "fridaysforfuture.enger",
          "fridaysforfuture.erding",
          "fridaysforfuture.erlangen",
          "fridaysforfuture.essen",
          "fridaysforfuture.fritzlar",
          "fridaysforfuture.ft",
          "fridaysforfuture.fuerstenwalde",
          "fridaysforfuture.fuerth",
          "fridaysforfuture.ge",
          "fridaysforfuture.goeppingen",
          "fridaysforfuture.goerlitz",
          "fridaysforfuture.gotha",
          "fridaysforfuture.grimma",
          "fridaysforfuture.gruenstadt",
          "fridaysforfuture.hochneukirch",
          "fridaysforfuture.ingolstadt",
          "fridaysforfuture.iz",
          "fridaysforfuture.kempen",
          "fridaysforfuture.kibo",
          "fridaysforfuture.kiel",
          "fridaysforfuture.kleve",
          "fridaysforfuture.kn",
          "fridaysforfuture.krefeld",
          "fridaysforfuture.kuenzelsau",
          "fridaysforfuture.landshut",
          "fridaysforfuture.lauf",
          "fridaysforfuture.leipzig",
          "fridaysforfuture.lindau",
          "fridaysforfuture.lu",
          "fridaysforfuture.lueneburg",
          "fridaysforfuture.menden",
          "fridaysforfuture.mettmann",
          "fridaysforfuture.mg",
          "fridaysforfuture.moers",
          "fridaysforfuture.neustadt",
          "fridaysforfuture.niebuell",
          "fridaysforfuture.nms",
          "fridaysforfuture.oehr",
          "fridaysforfuture.oldenburg",
          "fridaysforfuture.passau",
          "fridaysforfuture.potsdam",
          "fridaysforfuture.pruem",
          "fridaysforfuture.rastatt",
          "fridaysforfuture.ratingen",
          "fridaysforfuture.reutlingen",
          "fridaysforfuture.rgbg",
          "fridaysforfuture.rostock",
          "fridaysforfuture.ruegen",
          "fridaysforfuture.rw",
          "fridaysforfuture.saar",
          "fridaysforfuture.schorndorf",
          "fridaysforfuture.singen",
          "fridaysforfuture.soest",
          "fridaysforfuture.soest",
          "fridaysforfuture.solingen",
          "fridaysforfuture.speyer",
          "fridaysforfuture.stralsund",
          "fridaysforfuture.tf",
          "fridaysforfuture.uelzen",
          "fridaysforfuture.vs",
          "fridaysforfuture.walsrode",
          "fridaysforfuture.waren",
          "fridaysforfuture.weiden",
          "fridaysforfuture.wendland",
          "fridaysforfuture.wertheim",
          "fridaysforfuture.wesermarsch",
          "fridaysforfuture.wf",
          "fridaysforfuture.willich",
          "fridaysforfuture.winsen",
          "fridaysforfuture.wuelfrath",
          "fridaysforfuture.wuppertal",
          "fridaysforfuture.wurzen",
          "fridaysforfuture.xanten",
          "fridaysforfuture.zeitz",
          "fridaysforfuture.zittau",
          "fridaysforfuture.zweibrucken",
          "fridaysforfuture.zwickau",
          "fridaysforfuture_ahaus",
          "fridaysforfuture_aichach",
          "fridaysforfuture_andernach",
          "fridaysforfuture_annaberg",
          "fridaysforfuture_bad_neustadt",
          "fridaysforfuture_bad_segeberg",
          "fridaysforfuture_bocholt",
          "fridaysforfuture_bonn",
          "fridaysforfuture_brueggen",
          "fridaysforfuture_bruehl",
          "fridaysforfuture_chemnitz",
          "fridaysforfuture_coburg",
          "fridaysforfuture_daun",
          "fridaysforfuture_dkb",
          "fridaysforfuture_dorfen",
          "fridaysforfuture_duisburg",
          "fridaysforfuture_einbeck",
          "fridaysforfuture_erftstadt",
          "fridaysforfuture_esslingen",
          "fridaysforfuture_flensburg",
          "fridaysforfuture_freiburg",
          "fridaysforfuture_gangelt",
          "fridaysforfuture_geilenkirchen",
          "fridaysforfuture_goettingen",
          "fridaysforfuture_hannover",
          "fridaysforfuture_heidelberg",
          "fridaysforfuture_hh",
          "fridaysforfuture_ibbenbueren",
          "fridaysforfuture_jena",
          "fridaysforfuture_ka",
          "fridaysforfuture_ka",
          "fridaysforfuture_kitzingen",
          "fridaysforfuture_koblenz",
          "fridaysforfuture_leverkusen",
          "fridaysforfuture_luenen",
          "fridaysforfuture_mr",
          "fridaysforfuture_muenster",
          "fridaysforfuture_neuss",
          "fridaysforfuture_noh",
          "fridaysforfuture_northeim",
          "fridaysforfuture_om",
          "fridaysforfuture_om",
          "fridaysforfuture_os",
          "fridaysforfuture_osterholz",
          "fridaysforfuture_pforzheim",
          "fridaysforfuture_re",
          "fridaysforfuture_siegen",
          "fridaysforfuture_tuebingen",
          "fridaysforfuture_unna",
          "fridaysforfuture_werther",
          "fridaysforfuture_wesel",
          "fridaysforfuture_wittlage",
          "fridaysforfuture_wolfsburg",
          "fridaysforfuture_wor",
          "fridaysforfuture_wuerzburg",
          "fridaysforfuturebbg",
          "fridaysforfuturebitburg",
          "fridaysforfuturebochum",
          "fridaysforfuturebottrop",
          "fridaysforfuturebuehl",
          "fridaysforfuturedetmold",
          "fridaysforfuturedo",
          "fridaysforfuturedorsten",
          "fridaysforfutureerfurt",
          "fridaysforfutureffm",
          "fridaysforfuturefreising",
          "fridaysforfuturegifhorn",
          "fridaysforfuturehagen",
          "fridaysforfuturehalle",
          "fridaysforfutureheilbronn",
          "fridaysforfutureherne",
          "fridaysforfuturehorb",
          "fridaysforfuturekassel",
          "fridaysforfuturekempten",
          "fridaysforfuturekoeln",
          "fridaysforfuturekulmbach",
          "fridaysforfuturelandau",
          "fridaysforfuturelehrte",
          "fridaysforfuturelindenberg",
          "fridaysforfutureloerrach",
          "fridaysforfuturelu",
          "fridaysforfutureludwigsburg",
          "fridaysforfutureluebeck",
          "fridaysforfuturemagdeburg",
          "fridaysforfuturemainz",
          "fridaysforfuturemainz",
          "fridaysforfuturemainz",
          "fridaysforfuturemainz",
          "fridaysforfuturemannheim",
          "fridaysforfutureminden",
          "fridaysforfuturemuenchen",
          "fridaysforfuturenbg",
          "fridaysforfutureneuruppin",
          "fridaysforfutureoffenbach",
          "fridaysforfuturepaderborn",
          "fridaysforfuturerbk",
          "fridaysforfuturerosenheim",
          "fridaysforfuturesat",
          "fridaysforfutureschramberg",
          "fridaysforfutureschriesheim",
          "fridaysforfuturesinsheim",
          "fridaysforfuturesonthofen",
          "fridaysforfuturestraubing",
          "fridaysforfuturestrausberg",
          "fridaysforfuturestuttgart",
          "fridaysforfuturesuhl",
          "fridaysforfuturesylt",
          "fridaysforfutureulm",
          "fridaysforfuturewarburg",
          "fridaysforfutureweilheim",
          "fridaysforfutureweimar",
          "fridaysforfuturewitten",
          "jugendbuendnis_templin",
          "klimademorodgau",
          "klimastreiklandau",
          "lampertheimforfuture",
          "mittweida_for_future",
          "parents4future_schoeneiche",
          "starnberg4future",
          "waldshut_fff",
          "wwgoesgreen"
         ],
         "y": [
          "288",
          "122",
          "733",
          "1193",
          "133",
          "451",
          "187",
          "1580",
          "502",
          "927",
          "367",
          "908",
          "976",
          "822",
          "319",
          "412",
          "93",
          "627",
          "244",
          "289",
          "168",
          "552",
          "299",
          "299",
          "299",
          "299",
          "166",
          "7970",
          "2098",
          "797",
          "429",
          "322",
          "1187",
          "680",
          "347",
          "972",
          "1312",
          "2728",
          "110",
          "1289",
          "1289",
          "308",
          "787",
          "124",
          "10279",
          "202",
          "1399",
          "424",
          "387",
          "197",
          "35605",
          "3946",
          "2452",
          "2452",
          "2452",
          "760",
          "6641",
          "3163",
          "873",
          "1929",
          "3831",
          "436",
          "595",
          "573",
          "428",
          "9890",
          "745",
          "308",
          "225",
          "4362",
          "4593",
          "196",
          "970",
          "112",
          "814",
          "1204",
          "334",
          "211",
          "500",
          "265",
          "149",
          "731",
          "664",
          "358",
          "445",
          "93",
          "6640",
          "924",
          "4560",
          "1406",
          "101",
          "566",
          "759",
          "9487",
          "619",
          "84",
          "6501",
          "125",
          "366",
          "1103",
          "360",
          "663",
          "493",
          "862",
          "232",
          "4239",
          "1945",
          "2387",
          "131",
          "431",
          "260",
          "1382",
          "1993",
          "1533",
          "57",
          "962",
          "3390",
          "101",
          "330",
          "944",
          "944",
          "1058",
          "977",
          "345",
          "152",
          "968",
          "967",
          "382",
          "83",
          "1033",
          "482",
          "323",
          "99",
          "954",
          "379",
          "898",
          "458",
          "3015",
          "179",
          "495",
          "99",
          "207",
          "189",
          "1480",
          "306",
          "88",
          "106",
          "205",
          "118",
          "1293",
          "1094",
          "10782",
          "395",
          "313",
          "2728",
          "783",
          "97",
          "376",
          "96",
          "1346",
          "142",
          "295",
          "1210",
          "2089",
          "9925",
          "1110",
          "227",
          "4781",
          "14256",
          "6934",
          "24415",
          "246",
          "1809",
          "6818",
          "6818",
          "99",
          "1879",
          "745",
          "227",
          "1360",
          "8926",
          "1014",
          "783",
          "625",
          "648",
          "648",
          "5739",
          "494",
          "1412",
          "664",
          "2242",
          "6406",
          "219",
          "206",
          "753",
          "238",
          "305",
          "116",
          "5205",
          "2215",
          "136",
          "2662",
          "476",
          "210",
          "618",
          "7502",
          "242",
          "2156",
          "13571",
          "912",
          "1000",
          "2107",
          "2545",
          "1615",
          "736",
          "98",
          "3085",
          "1037",
          "19771",
          "340",
          "116",
          "811",
          "159",
          "579",
          "388",
          "1918",
          "3216",
          "2612",
          "4946",
          "4946",
          "4946",
          "4946",
          "4187",
          "716",
          "19522",
          "8046",
          "1050",
          "384",
          "2932",
          "499",
          "1436",
          "122",
          "119",
          "110",
          "287",
          "295",
          "328",
          "106",
          "14285",
          "153",
          "688",
          "2886",
          "283",
          "650",
          "1159",
          "718",
          "315",
          "76",
          "1175",
          "161",
          "243",
          "106",
          "267",
          "363",
          "294"
         ]
        }
       ],
       "layout": {
        "template": {
         "data": {
          "bar": [
           {
            "error_x": {
             "color": "#2a3f5f"
            },
            "error_y": {
             "color": "#2a3f5f"
            },
            "marker": {
             "line": {
              "color": "#E5ECF6",
              "width": 0.5
             }
            },
            "type": "bar"
           }
          ],
          "barpolar": [
           {
            "marker": {
             "line": {
              "color": "#E5ECF6",
              "width": 0.5
             }
            },
            "type": "barpolar"
           }
          ],
          "carpet": [
           {
            "aaxis": {
             "endlinecolor": "#2a3f5f",
             "gridcolor": "white",
             "linecolor": "white",
             "minorgridcolor": "white",
             "startlinecolor": "#2a3f5f"
            },
            "baxis": {
             "endlinecolor": "#2a3f5f",
             "gridcolor": "white",
             "linecolor": "white",
             "minorgridcolor": "white",
             "startlinecolor": "#2a3f5f"
            },
            "type": "carpet"
           }
          ],
          "choropleth": [
           {
            "colorbar": {
             "outlinewidth": 0,
             "ticks": ""
            },
            "type": "choropleth"
           }
          ],
          "contour": [
           {
            "colorbar": {
             "outlinewidth": 0,
             "ticks": ""
            },
            "colorscale": [
             [
              0,
              "#0d0887"
             ],
             [
              0.1111111111111111,
              "#46039f"
             ],
             [
              0.2222222222222222,
              "#7201a8"
             ],
             [
              0.3333333333333333,
              "#9c179e"
             ],
             [
              0.4444444444444444,
              "#bd3786"
             ],
             [
              0.5555555555555556,
              "#d8576b"
             ],
             [
              0.6666666666666666,
              "#ed7953"
             ],
             [
              0.7777777777777778,
              "#fb9f3a"
             ],
             [
              0.8888888888888888,
              "#fdca26"
             ],
             [
              1,
              "#f0f921"
             ]
            ],
            "type": "contour"
           }
          ],
          "contourcarpet": [
           {
            "colorbar": {
             "outlinewidth": 0,
             "ticks": ""
            },
            "type": "contourcarpet"
           }
          ],
          "heatmap": [
           {
            "colorbar": {
             "outlinewidth": 0,
             "ticks": ""
            },
            "colorscale": [
             [
              0,
              "#0d0887"
             ],
             [
              0.1111111111111111,
              "#46039f"
             ],
             [
              0.2222222222222222,
              "#7201a8"
             ],
             [
              0.3333333333333333,
              "#9c179e"
             ],
             [
              0.4444444444444444,
              "#bd3786"
             ],
             [
              0.5555555555555556,
              "#d8576b"
             ],
             [
              0.6666666666666666,
              "#ed7953"
             ],
             [
              0.7777777777777778,
              "#fb9f3a"
             ],
             [
              0.8888888888888888,
              "#fdca26"
             ],
             [
              1,
              "#f0f921"
             ]
            ],
            "type": "heatmap"
           }
          ],
          "heatmapgl": [
           {
            "colorbar": {
             "outlinewidth": 0,
             "ticks": ""
            },
            "colorscale": [
             [
              0,
              "#0d0887"
             ],
             [
              0.1111111111111111,
              "#46039f"
             ],
             [
              0.2222222222222222,
              "#7201a8"
             ],
             [
              0.3333333333333333,
              "#9c179e"
             ],
             [
              0.4444444444444444,
              "#bd3786"
             ],
             [
              0.5555555555555556,
              "#d8576b"
             ],
             [
              0.6666666666666666,
              "#ed7953"
             ],
             [
              0.7777777777777778,
              "#fb9f3a"
             ],
             [
              0.8888888888888888,
              "#fdca26"
             ],
             [
              1,
              "#f0f921"
             ]
            ],
            "type": "heatmapgl"
           }
          ],
          "histogram": [
           {
            "marker": {
             "colorbar": {
              "outlinewidth": 0,
              "ticks": ""
             }
            },
            "type": "histogram"
           }
          ],
          "histogram2d": [
           {
            "colorbar": {
             "outlinewidth": 0,
             "ticks": ""
            },
            "colorscale": [
             [
              0,
              "#0d0887"
             ],
             [
              0.1111111111111111,
              "#46039f"
             ],
             [
              0.2222222222222222,
              "#7201a8"
             ],
             [
              0.3333333333333333,
              "#9c179e"
             ],
             [
              0.4444444444444444,
              "#bd3786"
             ],
             [
              0.5555555555555556,
              "#d8576b"
             ],
             [
              0.6666666666666666,
              "#ed7953"
             ],
             [
              0.7777777777777778,
              "#fb9f3a"
             ],
             [
              0.8888888888888888,
              "#fdca26"
             ],
             [
              1,
              "#f0f921"
             ]
            ],
            "type": "histogram2d"
           }
          ],
          "histogram2dcontour": [
           {
            "colorbar": {
             "outlinewidth": 0,
             "ticks": ""
            },
            "colorscale": [
             [
              0,
              "#0d0887"
             ],
             [
              0.1111111111111111,
              "#46039f"
             ],
             [
              0.2222222222222222,
              "#7201a8"
             ],
             [
              0.3333333333333333,
              "#9c179e"
             ],
             [
              0.4444444444444444,
              "#bd3786"
             ],
             [
              0.5555555555555556,
              "#d8576b"
             ],
             [
              0.6666666666666666,
              "#ed7953"
             ],
             [
              0.7777777777777778,
              "#fb9f3a"
             ],
             [
              0.8888888888888888,
              "#fdca26"
             ],
             [
              1,
              "#f0f921"
             ]
            ],
            "type": "histogram2dcontour"
           }
          ],
          "mesh3d": [
           {
            "colorbar": {
             "outlinewidth": 0,
             "ticks": ""
            },
            "type": "mesh3d"
           }
          ],
          "parcoords": [
           {
            "line": {
             "colorbar": {
              "outlinewidth": 0,
              "ticks": ""
             }
            },
            "type": "parcoords"
           }
          ],
          "pie": [
           {
            "automargin": true,
            "type": "pie"
           }
          ],
          "scatter": [
           {
            "marker": {
             "colorbar": {
              "outlinewidth": 0,
              "ticks": ""
             }
            },
            "type": "scatter"
           }
          ],
          "scatter3d": [
           {
            "line": {
             "colorbar": {
              "outlinewidth": 0,
              "ticks": ""
             }
            },
            "marker": {
             "colorbar": {
              "outlinewidth": 0,
              "ticks": ""
             }
            },
            "type": "scatter3d"
           }
          ],
          "scattercarpet": [
           {
            "marker": {
             "colorbar": {
              "outlinewidth": 0,
              "ticks": ""
             }
            },
            "type": "scattercarpet"
           }
          ],
          "scattergeo": [
           {
            "marker": {
             "colorbar": {
              "outlinewidth": 0,
              "ticks": ""
             }
            },
            "type": "scattergeo"
           }
          ],
          "scattergl": [
           {
            "marker": {
             "colorbar": {
              "outlinewidth": 0,
              "ticks": ""
             }
            },
            "type": "scattergl"
           }
          ],
          "scattermapbox": [
           {
            "marker": {
             "colorbar": {
              "outlinewidth": 0,
              "ticks": ""
             }
            },
            "type": "scattermapbox"
           }
          ],
          "scatterpolar": [
           {
            "marker": {
             "colorbar": {
              "outlinewidth": 0,
              "ticks": ""
             }
            },
            "type": "scatterpolar"
           }
          ],
          "scatterpolargl": [
           {
            "marker": {
             "colorbar": {
              "outlinewidth": 0,
              "ticks": ""
             }
            },
            "type": "scatterpolargl"
           }
          ],
          "scatterternary": [
           {
            "marker": {
             "colorbar": {
              "outlinewidth": 0,
              "ticks": ""
             }
            },
            "type": "scatterternary"
           }
          ],
          "surface": [
           {
            "colorbar": {
             "outlinewidth": 0,
             "ticks": ""
            },
            "colorscale": [
             [
              0,
              "#0d0887"
             ],
             [
              0.1111111111111111,
              "#46039f"
             ],
             [
              0.2222222222222222,
              "#7201a8"
             ],
             [
              0.3333333333333333,
              "#9c179e"
             ],
             [
              0.4444444444444444,
              "#bd3786"
             ],
             [
              0.5555555555555556,
              "#d8576b"
             ],
             [
              0.6666666666666666,
              "#ed7953"
             ],
             [
              0.7777777777777778,
              "#fb9f3a"
             ],
             [
              0.8888888888888888,
              "#fdca26"
             ],
             [
              1,
              "#f0f921"
             ]
            ],
            "type": "surface"
           }
          ],
          "table": [
           {
            "cells": {
             "fill": {
              "color": "#EBF0F8"
             },
             "line": {
              "color": "white"
             }
            },
            "header": {
             "fill": {
              "color": "#C8D4E3"
             },
             "line": {
              "color": "white"
             }
            },
            "type": "table"
           }
          ]
         },
         "layout": {
          "annotationdefaults": {
           "arrowcolor": "#2a3f5f",
           "arrowhead": 0,
           "arrowwidth": 1
          },
          "coloraxis": {
           "colorbar": {
            "outlinewidth": 0,
            "ticks": ""
           }
          },
          "colorscale": {
           "diverging": [
            [
             0,
             "#8e0152"
            ],
            [
             0.1,
             "#c51b7d"
            ],
            [
             0.2,
             "#de77ae"
            ],
            [
             0.3,
             "#f1b6da"
            ],
            [
             0.4,
             "#fde0ef"
            ],
            [
             0.5,
             "#f7f7f7"
            ],
            [
             0.6,
             "#e6f5d0"
            ],
            [
             0.7,
             "#b8e186"
            ],
            [
             0.8,
             "#7fbc41"
            ],
            [
             0.9,
             "#4d9221"
            ],
            [
             1,
             "#276419"
            ]
           ],
           "sequential": [
            [
             0,
             "#0d0887"
            ],
            [
             0.1111111111111111,
             "#46039f"
            ],
            [
             0.2222222222222222,
             "#7201a8"
            ],
            [
             0.3333333333333333,
             "#9c179e"
            ],
            [
             0.4444444444444444,
             "#bd3786"
            ],
            [
             0.5555555555555556,
             "#d8576b"
            ],
            [
             0.6666666666666666,
             "#ed7953"
            ],
            [
             0.7777777777777778,
             "#fb9f3a"
            ],
            [
             0.8888888888888888,
             "#fdca26"
            ],
            [
             1,
             "#f0f921"
            ]
           ],
           "sequentialminus": [
            [
             0,
             "#0d0887"
            ],
            [
             0.1111111111111111,
             "#46039f"
            ],
            [
             0.2222222222222222,
             "#7201a8"
            ],
            [
             0.3333333333333333,
             "#9c179e"
            ],
            [
             0.4444444444444444,
             "#bd3786"
            ],
            [
             0.5555555555555556,
             "#d8576b"
            ],
            [
             0.6666666666666666,
             "#ed7953"
            ],
            [
             0.7777777777777778,
             "#fb9f3a"
            ],
            [
             0.8888888888888888,
             "#fdca26"
            ],
            [
             1,
             "#f0f921"
            ]
           ]
          },
          "colorway": [
           "#636efa",
           "#EF553B",
           "#00cc96",
           "#ab63fa",
           "#FFA15A",
           "#19d3f3",
           "#FF6692",
           "#B6E880",
           "#FF97FF",
           "#FECB52"
          ],
          "font": {
           "color": "#2a3f5f"
          },
          "geo": {
           "bgcolor": "white",
           "lakecolor": "white",
           "landcolor": "#E5ECF6",
           "showlakes": true,
           "showland": true,
           "subunitcolor": "white"
          },
          "hoverlabel": {
           "align": "left"
          },
          "hovermode": "closest",
          "mapbox": {
           "style": "light"
          },
          "paper_bgcolor": "white",
          "plot_bgcolor": "#E5ECF6",
          "polar": {
           "angularaxis": {
            "gridcolor": "white",
            "linecolor": "white",
            "ticks": ""
           },
           "bgcolor": "#E5ECF6",
           "radialaxis": {
            "gridcolor": "white",
            "linecolor": "white",
            "ticks": ""
           }
          },
          "scene": {
           "xaxis": {
            "backgroundcolor": "#E5ECF6",
            "gridcolor": "white",
            "gridwidth": 2,
            "linecolor": "white",
            "showbackground": true,
            "ticks": "",
            "zerolinecolor": "white"
           },
           "yaxis": {
            "backgroundcolor": "#E5ECF6",
            "gridcolor": "white",
            "gridwidth": 2,
            "linecolor": "white",
            "showbackground": true,
            "ticks": "",
            "zerolinecolor": "white"
           },
           "zaxis": {
            "backgroundcolor": "#E5ECF6",
            "gridcolor": "white",
            "gridwidth": 2,
            "linecolor": "white",
            "showbackground": true,
            "ticks": "",
            "zerolinecolor": "white"
           }
          },
          "shapedefaults": {
           "line": {
            "color": "#2a3f5f"
           }
          },
          "ternary": {
           "aaxis": {
            "gridcolor": "white",
            "linecolor": "white",
            "ticks": ""
           },
           "baxis": {
            "gridcolor": "white",
            "linecolor": "white",
            "ticks": ""
           },
           "bgcolor": "#E5ECF6",
           "caxis": {
            "gridcolor": "white",
            "linecolor": "white",
            "ticks": ""
           }
          },
          "title": {
           "x": 0.05
          },
          "xaxis": {
           "automargin": true,
           "gridcolor": "white",
           "linecolor": "white",
           "ticks": "",
           "title": {
            "standoff": 15
           },
           "zerolinecolor": "white",
           "zerolinewidth": 2
          },
          "yaxis": {
           "automargin": true,
           "gridcolor": "white",
           "linecolor": "white",
           "ticks": "",
           "title": {
            "standoff": 15
           },
           "zerolinecolor": "white",
           "zerolinewidth": 2
          }
         }
        }
       }
      },
      "text/html": [
       "<div>\n",
       "        \n",
       "        \n",
       "            <div id=\"f0afd1d4-a692-42a7-910a-49301b1d9d00\" class=\"plotly-graph-div\" style=\"height:525px; width:100%;\"></div>\n",
       "            <script type=\"text/javascript\">\n",
       "                require([\"plotly\"], function(Plotly) {\n",
       "                    window.PLOTLYENV=window.PLOTLYENV || {};\n",
       "                    \n",
       "                if (document.getElementById(\"f0afd1d4-a692-42a7-910a-49301b1d9d00\")) {\n",
       "                    Plotly.newPlot(\n",
       "                        'f0afd1d4-a692-42a7-910a-49301b1d9d00',\n",
       "                        [{\"type\": \"bar\", \"x\": [\"aurichforfuture\", \"busaulendorf\", \"buxtehudeforfuture\", \"f4fFalkensee\", \"f4f_filderstadt\", \"f4ftraunstein\", \"fff.alzey\", \"fff.borken\", \"fff.bremerhaven\", \"fff.eckernfoerde\", \"fff.gross_gerau\", \"fff.rendsburg\", \"fff.schleswig\", \"fff_erkrath\", \"fff_hanau\", \"fff_iserlohn\", \"fff_mstaedt\", \"fff_oberhausen\", \"fff_oranienburg\", \"fff_rastede\", \"fff_roesrath\", \"fff_verden\", \"fffaltkreishalle\", \"fffaltkreishalle\", \"fffaltkreishalle\", \"fffaltkreishalle\", \"fffbargteheide\", \"fffdresden\", \"fffgiessen\", \"fffhtk\", \"fffkamen\", \"fffmtk\", \"fffnienburg\", \"fffsaarlouis\", \"fffvelbert\", \"fffweilburg\", \"fffwetzlar\", \"fffwiesbaden\", \"fridayforfuture.kaki\", \"fridays.for.future.landsberg\", \"fridays.for.future.landsberg\", \"fridays.for.future_albstadt\", \"fridays4futurekl\", \"fridays_for_future_gelnhausen\", \"fridaysforfuture.ac\", \"fridaysforfuture.anklam\", \"fridaysforfuture.aschaffenburg\", \"fridaysforfuture.backnang\", \"fridaysforfuture.badtoelz\", \"fridaysforfuture.berchtesgaden\", \"fridaysforfuture.berlin\", \"fridaysforfuture.bielefeld\", \"fridaysforfuture.bodensee\", \"fridaysforfuture.bodensee\", \"fridaysforfuture.bodensee\", \"fridaysforfuture.brandenburg\", \"fridaysforfuture.bremen\", \"fridaysforfuture.bs\", \"fridaysforfuture.buchholz\", \"fridaysforfuture.celle\", \"fridaysforfuture.da\", \"fridaysforfuture.dachau\", \"fridaysforfuture.datteln\", \"fridaysforfuture.dessau\", \"fridaysforfuture.duelmen\", \"fridaysforfuture.duesseldorf\", \"fridaysforfuture.eichstaett\", \"fridaysforfuture.enger\", \"fridaysforfuture.erding\", \"fridaysforfuture.erlangen\", \"fridaysforfuture.essen\", \"fridaysforfuture.fritzlar\", \"fridaysforfuture.ft\", \"fridaysforfuture.fuerstenwalde\", \"fridaysforfuture.fuerth\", \"fridaysforfuture.ge\", \"fridaysforfuture.goeppingen\", \"fridaysforfuture.goerlitz\", \"fridaysforfuture.gotha\", \"fridaysforfuture.grimma\", \"fridaysforfuture.gruenstadt\", \"fridaysforfuture.hochneukirch\", \"fridaysforfuture.ingolstadt\", \"fridaysforfuture.iz\", \"fridaysforfuture.kempen\", \"fridaysforfuture.kibo\", \"fridaysforfuture.kiel\", \"fridaysforfuture.kleve\", \"fridaysforfuture.kn\", \"fridaysforfuture.krefeld\", \"fridaysforfuture.kuenzelsau\", \"fridaysforfuture.landshut\", \"fridaysforfuture.lauf\", \"fridaysforfuture.leipzig\", \"fridaysforfuture.lindau\", \"fridaysforfuture.lu\", \"fridaysforfuture.lueneburg\", \"fridaysforfuture.menden\", \"fridaysforfuture.mettmann\", \"fridaysforfuture.mg\", \"fridaysforfuture.moers\", \"fridaysforfuture.neustadt\", \"fridaysforfuture.niebuell\", \"fridaysforfuture.nms\", \"fridaysforfuture.oehr\", \"fridaysforfuture.oldenburg\", \"fridaysforfuture.passau\", \"fridaysforfuture.potsdam\", \"fridaysforfuture.pruem\", \"fridaysforfuture.rastatt\", \"fridaysforfuture.ratingen\", \"fridaysforfuture.reutlingen\", \"fridaysforfuture.rgbg\", \"fridaysforfuture.rostock\", \"fridaysforfuture.ruegen\", \"fridaysforfuture.rw\", \"fridaysforfuture.saar\", \"fridaysforfuture.schorndorf\", \"fridaysforfuture.singen\", \"fridaysforfuture.soest\", \"fridaysforfuture.soest\", \"fridaysforfuture.solingen\", \"fridaysforfuture.speyer\", \"fridaysforfuture.stralsund\", \"fridaysforfuture.tf\", \"fridaysforfuture.uelzen\", \"fridaysforfuture.vs\", \"fridaysforfuture.walsrode\", \"fridaysforfuture.waren\", \"fridaysforfuture.weiden\", \"fridaysforfuture.wendland\", \"fridaysforfuture.wertheim\", \"fridaysforfuture.wesermarsch\", \"fridaysforfuture.wf\", \"fridaysforfuture.willich\", \"fridaysforfuture.winsen\", \"fridaysforfuture.wuelfrath\", \"fridaysforfuture.wuppertal\", \"fridaysforfuture.wurzen\", \"fridaysforfuture.xanten\", \"fridaysforfuture.zeitz\", \"fridaysforfuture.zittau\", \"fridaysforfuture.zweibrucken\", \"fridaysforfuture.zwickau\", \"fridaysforfuture_ahaus\", \"fridaysforfuture_aichach\", \"fridaysforfuture_andernach\", \"fridaysforfuture_annaberg\", \"fridaysforfuture_bad_neustadt\", \"fridaysforfuture_bad_segeberg\", \"fridaysforfuture_bocholt\", \"fridaysforfuture_bonn\", \"fridaysforfuture_brueggen\", \"fridaysforfuture_bruehl\", \"fridaysforfuture_chemnitz\", \"fridaysforfuture_coburg\", \"fridaysforfuture_daun\", \"fridaysforfuture_dkb\", \"fridaysforfuture_dorfen\", \"fridaysforfuture_duisburg\", \"fridaysforfuture_einbeck\", \"fridaysforfuture_erftstadt\", \"fridaysforfuture_esslingen\", \"fridaysforfuture_flensburg\", \"fridaysforfuture_freiburg\", \"fridaysforfuture_gangelt\", \"fridaysforfuture_geilenkirchen\", \"fridaysforfuture_goettingen\", \"fridaysforfuture_hannover\", \"fridaysforfuture_heidelberg\", \"fridaysforfuture_hh\", \"fridaysforfuture_ibbenbueren\", \"fridaysforfuture_jena\", \"fridaysforfuture_ka\", \"fridaysforfuture_ka\", \"fridaysforfuture_kitzingen\", \"fridaysforfuture_koblenz\", \"fridaysforfuture_leverkusen\", \"fridaysforfuture_luenen\", \"fridaysforfuture_mr\", \"fridaysforfuture_muenster\", \"fridaysforfuture_neuss\", \"fridaysforfuture_noh\", \"fridaysforfuture_northeim\", \"fridaysforfuture_om\", \"fridaysforfuture_om\", \"fridaysforfuture_os\", \"fridaysforfuture_osterholz\", \"fridaysforfuture_pforzheim\", \"fridaysforfuture_re\", \"fridaysforfuture_siegen\", \"fridaysforfuture_tuebingen\", \"fridaysforfuture_unna\", \"fridaysforfuture_werther\", \"fridaysforfuture_wesel\", \"fridaysforfuture_wittlage\", \"fridaysforfuture_wolfsburg\", \"fridaysforfuture_wor\", \"fridaysforfuture_wuerzburg\", \"fridaysforfuturebbg\", \"fridaysforfuturebitburg\", \"fridaysforfuturebochum\", \"fridaysforfuturebottrop\", \"fridaysforfuturebuehl\", \"fridaysforfuturedetmold\", \"fridaysforfuturedo\", \"fridaysforfuturedorsten\", \"fridaysforfutureerfurt\", \"fridaysforfutureffm\", \"fridaysforfuturefreising\", \"fridaysforfuturegifhorn\", \"fridaysforfuturehagen\", \"fridaysforfuturehalle\", \"fridaysforfutureheilbronn\", \"fridaysforfutureherne\", \"fridaysforfuturehorb\", \"fridaysforfuturekassel\", \"fridaysforfuturekempten\", \"fridaysforfuturekoeln\", \"fridaysforfuturekulmbach\", \"fridaysforfuturelandau\", \"fridaysforfuturelehrte\", \"fridaysforfuturelindenberg\", \"fridaysforfutureloerrach\", \"fridaysforfuturelu\", \"fridaysforfutureludwigsburg\", \"fridaysforfutureluebeck\", \"fridaysforfuturemagdeburg\", \"fridaysforfuturemainz\", \"fridaysforfuturemainz\", \"fridaysforfuturemainz\", \"fridaysforfuturemainz\", \"fridaysforfuturemannheim\", \"fridaysforfutureminden\", \"fridaysforfuturemuenchen\", \"fridaysforfuturenbg\", \"fridaysforfutureneuruppin\", \"fridaysforfutureoffenbach\", \"fridaysforfuturepaderborn\", \"fridaysforfuturerbk\", \"fridaysforfuturerosenheim\", \"fridaysforfuturesat\", \"fridaysforfutureschramberg\", \"fridaysforfutureschriesheim\", \"fridaysforfuturesinsheim\", \"fridaysforfuturesonthofen\", \"fridaysforfuturestraubing\", \"fridaysforfuturestrausberg\", \"fridaysforfuturestuttgart\", \"fridaysforfuturesuhl\", \"fridaysforfuturesylt\", \"fridaysforfutureulm\", \"fridaysforfuturewarburg\", \"fridaysforfutureweilheim\", \"fridaysforfutureweimar\", \"fridaysforfuturewitten\", \"jugendbuendnis_templin\", \"klimademorodgau\", \"klimastreiklandau\", \"lampertheimforfuture\", \"mittweida_for_future\", \"parents4future_schoeneiche\", \"starnberg4future\", \"waldshut_fff\", \"wwgoesgreen\"], \"y\": [\"288\", \"122\", \"733\", \"1193\", \"133\", \"451\", \"187\", \"1580\", \"502\", \"927\", \"367\", \"908\", \"976\", \"822\", \"319\", \"412\", \"93\", \"627\", \"244\", \"289\", \"168\", \"552\", \"299\", \"299\", \"299\", \"299\", \"166\", \"7970\", \"2098\", \"797\", \"429\", \"322\", \"1187\", \"680\", \"347\", \"972\", \"1312\", \"2728\", \"110\", \"1289\", \"1289\", \"308\", \"787\", \"124\", \"10279\", \"202\", \"1399\", \"424\", \"387\", \"197\", \"35605\", \"3946\", \"2452\", \"2452\", \"2452\", \"760\", \"6641\", \"3163\", \"873\", \"1929\", \"3831\", \"436\", \"595\", \"573\", \"428\", \"9890\", \"745\", \"308\", \"225\", \"4362\", \"4593\", \"196\", \"970\", \"112\", \"814\", \"1204\", \"334\", \"211\", \"500\", \"265\", \"149\", \"731\", \"664\", \"358\", \"445\", \"93\", \"6640\", \"924\", \"4560\", \"1406\", \"101\", \"566\", \"759\", \"9487\", \"619\", \"84\", \"6501\", \"125\", \"366\", \"1103\", \"360\", \"663\", \"493\", \"862\", \"232\", \"4239\", \"1945\", \"2387\", \"131\", \"431\", \"260\", \"1382\", \"1993\", \"1533\", \"57\", \"962\", \"3390\", \"101\", \"330\", \"944\", \"944\", \"1058\", \"977\", \"345\", \"152\", \"968\", \"967\", \"382\", \"83\", \"1033\", \"482\", \"323\", \"99\", \"954\", \"379\", \"898\", \"458\", \"3015\", \"179\", \"495\", \"99\", \"207\", \"189\", \"1480\", \"306\", \"88\", \"106\", \"205\", \"118\", \"1293\", \"1094\", \"10782\", \"395\", \"313\", \"2728\", \"783\", \"97\", \"376\", \"96\", \"1346\", \"142\", \"295\", \"1210\", \"2089\", \"9925\", \"1110\", \"227\", \"4781\", \"14256\", \"6934\", \"24415\", \"246\", \"1809\", \"6818\", \"6818\", \"99\", \"1879\", \"745\", \"227\", \"1360\", \"8926\", \"1014\", \"783\", \"625\", \"648\", \"648\", \"5739\", \"494\", \"1412\", \"664\", \"2242\", \"6406\", \"219\", \"206\", \"753\", \"238\", \"305\", \"116\", \"5205\", \"2215\", \"136\", \"2662\", \"476\", \"210\", \"618\", \"7502\", \"242\", \"2156\", \"13571\", \"912\", \"1000\", \"2107\", \"2545\", \"1615\", \"736\", \"98\", \"3085\", \"1037\", \"19771\", \"340\", \"116\", \"811\", \"159\", \"579\", \"388\", \"1918\", \"3216\", \"2612\", \"4946\", \"4946\", \"4946\", \"4946\", \"4187\", \"716\", \"19522\", \"8046\", \"1050\", \"384\", \"2932\", \"499\", \"1436\", \"122\", \"119\", \"110\", \"287\", \"295\", \"328\", \"106\", \"14285\", \"153\", \"688\", \"2886\", \"283\", \"650\", \"1159\", \"718\", \"315\", \"76\", \"1175\", \"161\", \"243\", \"106\", \"267\", \"363\", \"294\"]}],\n",
       "                        {\"template\": {\"data\": {\"bar\": [{\"error_x\": {\"color\": \"#2a3f5f\"}, \"error_y\": {\"color\": \"#2a3f5f\"}, \"marker\": {\"line\": {\"color\": \"#E5ECF6\", \"width\": 0.5}}, \"type\": \"bar\"}], \"barpolar\": [{\"marker\": {\"line\": {\"color\": \"#E5ECF6\", \"width\": 0.5}}, \"type\": \"barpolar\"}], \"carpet\": [{\"aaxis\": {\"endlinecolor\": \"#2a3f5f\", \"gridcolor\": \"white\", \"linecolor\": \"white\", \"minorgridcolor\": \"white\", \"startlinecolor\": \"#2a3f5f\"}, \"baxis\": {\"endlinecolor\": \"#2a3f5f\", \"gridcolor\": \"white\", \"linecolor\": \"white\", \"minorgridcolor\": \"white\", \"startlinecolor\": \"#2a3f5f\"}, \"type\": \"carpet\"}], \"choropleth\": [{\"colorbar\": {\"outlinewidth\": 0, \"ticks\": \"\"}, \"type\": \"choropleth\"}], \"contour\": [{\"colorbar\": {\"outlinewidth\": 0, \"ticks\": \"\"}, \"colorscale\": [[0.0, \"#0d0887\"], [0.1111111111111111, \"#46039f\"], [0.2222222222222222, \"#7201a8\"], [0.3333333333333333, \"#9c179e\"], [0.4444444444444444, \"#bd3786\"], [0.5555555555555556, \"#d8576b\"], [0.6666666666666666, \"#ed7953\"], [0.7777777777777778, \"#fb9f3a\"], [0.8888888888888888, \"#fdca26\"], [1.0, \"#f0f921\"]], \"type\": \"contour\"}], \"contourcarpet\": [{\"colorbar\": {\"outlinewidth\": 0, \"ticks\": \"\"}, \"type\": \"contourcarpet\"}], \"heatmap\": [{\"colorbar\": {\"outlinewidth\": 0, \"ticks\": \"\"}, \"colorscale\": [[0.0, \"#0d0887\"], [0.1111111111111111, \"#46039f\"], [0.2222222222222222, \"#7201a8\"], [0.3333333333333333, \"#9c179e\"], [0.4444444444444444, \"#bd3786\"], [0.5555555555555556, \"#d8576b\"], [0.6666666666666666, \"#ed7953\"], [0.7777777777777778, \"#fb9f3a\"], [0.8888888888888888, \"#fdca26\"], [1.0, \"#f0f921\"]], \"type\": \"heatmap\"}], \"heatmapgl\": [{\"colorbar\": {\"outlinewidth\": 0, \"ticks\": \"\"}, \"colorscale\": [[0.0, \"#0d0887\"], [0.1111111111111111, \"#46039f\"], [0.2222222222222222, \"#7201a8\"], [0.3333333333333333, \"#9c179e\"], [0.4444444444444444, \"#bd3786\"], [0.5555555555555556, \"#d8576b\"], [0.6666666666666666, \"#ed7953\"], [0.7777777777777778, \"#fb9f3a\"], [0.8888888888888888, \"#fdca26\"], [1.0, \"#f0f921\"]], \"type\": \"heatmapgl\"}], \"histogram\": [{\"marker\": {\"colorbar\": {\"outlinewidth\": 0, \"ticks\": \"\"}}, \"type\": \"histogram\"}], \"histogram2d\": [{\"colorbar\": {\"outlinewidth\": 0, \"ticks\": \"\"}, \"colorscale\": [[0.0, \"#0d0887\"], [0.1111111111111111, \"#46039f\"], [0.2222222222222222, \"#7201a8\"], [0.3333333333333333, \"#9c179e\"], [0.4444444444444444, \"#bd3786\"], [0.5555555555555556, \"#d8576b\"], [0.6666666666666666, \"#ed7953\"], [0.7777777777777778, \"#fb9f3a\"], [0.8888888888888888, \"#fdca26\"], [1.0, \"#f0f921\"]], \"type\": \"histogram2d\"}], \"histogram2dcontour\": [{\"colorbar\": {\"outlinewidth\": 0, \"ticks\": \"\"}, \"colorscale\": [[0.0, \"#0d0887\"], [0.1111111111111111, \"#46039f\"], [0.2222222222222222, \"#7201a8\"], [0.3333333333333333, \"#9c179e\"], [0.4444444444444444, \"#bd3786\"], [0.5555555555555556, \"#d8576b\"], [0.6666666666666666, \"#ed7953\"], [0.7777777777777778, \"#fb9f3a\"], [0.8888888888888888, \"#fdca26\"], [1.0, \"#f0f921\"]], \"type\": \"histogram2dcontour\"}], \"mesh3d\": [{\"colorbar\": {\"outlinewidth\": 0, \"ticks\": \"\"}, \"type\": \"mesh3d\"}], \"parcoords\": [{\"line\": {\"colorbar\": {\"outlinewidth\": 0, \"ticks\": \"\"}}, \"type\": \"parcoords\"}], \"pie\": [{\"automargin\": true, \"type\": \"pie\"}], \"scatter\": [{\"marker\": {\"colorbar\": {\"outlinewidth\": 0, \"ticks\": \"\"}}, \"type\": \"scatter\"}], \"scatter3d\": [{\"line\": {\"colorbar\": {\"outlinewidth\": 0, \"ticks\": \"\"}}, \"marker\": {\"colorbar\": {\"outlinewidth\": 0, \"ticks\": \"\"}}, \"type\": \"scatter3d\"}], \"scattercarpet\": [{\"marker\": {\"colorbar\": {\"outlinewidth\": 0, \"ticks\": \"\"}}, \"type\": \"scattercarpet\"}], \"scattergeo\": [{\"marker\": {\"colorbar\": {\"outlinewidth\": 0, \"ticks\": \"\"}}, \"type\": \"scattergeo\"}], \"scattergl\": [{\"marker\": {\"colorbar\": {\"outlinewidth\": 0, \"ticks\": \"\"}}, \"type\": \"scattergl\"}], \"scattermapbox\": [{\"marker\": {\"colorbar\": {\"outlinewidth\": 0, \"ticks\": \"\"}}, \"type\": \"scattermapbox\"}], \"scatterpolar\": [{\"marker\": {\"colorbar\": {\"outlinewidth\": 0, \"ticks\": \"\"}}, \"type\": \"scatterpolar\"}], \"scatterpolargl\": [{\"marker\": {\"colorbar\": {\"outlinewidth\": 0, \"ticks\": \"\"}}, \"type\": \"scatterpolargl\"}], \"scatterternary\": [{\"marker\": {\"colorbar\": {\"outlinewidth\": 0, \"ticks\": \"\"}}, \"type\": \"scatterternary\"}], \"surface\": [{\"colorbar\": {\"outlinewidth\": 0, \"ticks\": \"\"}, \"colorscale\": [[0.0, \"#0d0887\"], [0.1111111111111111, \"#46039f\"], [0.2222222222222222, \"#7201a8\"], [0.3333333333333333, \"#9c179e\"], [0.4444444444444444, \"#bd3786\"], [0.5555555555555556, \"#d8576b\"], [0.6666666666666666, \"#ed7953\"], [0.7777777777777778, \"#fb9f3a\"], [0.8888888888888888, \"#fdca26\"], [1.0, \"#f0f921\"]], \"type\": \"surface\"}], \"table\": [{\"cells\": {\"fill\": {\"color\": \"#EBF0F8\"}, \"line\": {\"color\": \"white\"}}, \"header\": {\"fill\": {\"color\": \"#C8D4E3\"}, \"line\": {\"color\": \"white\"}}, \"type\": \"table\"}]}, \"layout\": {\"annotationdefaults\": {\"arrowcolor\": \"#2a3f5f\", \"arrowhead\": 0, \"arrowwidth\": 1}, \"coloraxis\": {\"colorbar\": {\"outlinewidth\": 0, \"ticks\": \"\"}}, \"colorscale\": {\"diverging\": [[0, \"#8e0152\"], [0.1, \"#c51b7d\"], [0.2, \"#de77ae\"], [0.3, \"#f1b6da\"], [0.4, \"#fde0ef\"], [0.5, \"#f7f7f7\"], [0.6, \"#e6f5d0\"], [0.7, \"#b8e186\"], [0.8, \"#7fbc41\"], [0.9, \"#4d9221\"], [1, \"#276419\"]], \"sequential\": [[0.0, \"#0d0887\"], [0.1111111111111111, \"#46039f\"], [0.2222222222222222, \"#7201a8\"], [0.3333333333333333, \"#9c179e\"], [0.4444444444444444, \"#bd3786\"], [0.5555555555555556, \"#d8576b\"], [0.6666666666666666, \"#ed7953\"], [0.7777777777777778, \"#fb9f3a\"], [0.8888888888888888, \"#fdca26\"], [1.0, \"#f0f921\"]], \"sequentialminus\": [[0.0, \"#0d0887\"], [0.1111111111111111, \"#46039f\"], [0.2222222222222222, \"#7201a8\"], [0.3333333333333333, \"#9c179e\"], [0.4444444444444444, \"#bd3786\"], [0.5555555555555556, \"#d8576b\"], [0.6666666666666666, \"#ed7953\"], [0.7777777777777778, \"#fb9f3a\"], [0.8888888888888888, \"#fdca26\"], [1.0, \"#f0f921\"]]}, \"colorway\": [\"#636efa\", \"#EF553B\", \"#00cc96\", \"#ab63fa\", \"#FFA15A\", \"#19d3f3\", \"#FF6692\", \"#B6E880\", \"#FF97FF\", \"#FECB52\"], \"font\": {\"color\": \"#2a3f5f\"}, \"geo\": {\"bgcolor\": \"white\", \"lakecolor\": \"white\", \"landcolor\": \"#E5ECF6\", \"showlakes\": true, \"showland\": true, \"subunitcolor\": \"white\"}, \"hoverlabel\": {\"align\": \"left\"}, \"hovermode\": \"closest\", \"mapbox\": {\"style\": \"light\"}, \"paper_bgcolor\": \"white\", \"plot_bgcolor\": \"#E5ECF6\", \"polar\": {\"angularaxis\": {\"gridcolor\": \"white\", \"linecolor\": \"white\", \"ticks\": \"\"}, \"bgcolor\": \"#E5ECF6\", \"radialaxis\": {\"gridcolor\": \"white\", \"linecolor\": \"white\", \"ticks\": \"\"}}, \"scene\": {\"xaxis\": {\"backgroundcolor\": \"#E5ECF6\", \"gridcolor\": \"white\", \"gridwidth\": 2, \"linecolor\": \"white\", \"showbackground\": true, \"ticks\": \"\", \"zerolinecolor\": \"white\"}, \"yaxis\": {\"backgroundcolor\": \"#E5ECF6\", \"gridcolor\": \"white\", \"gridwidth\": 2, \"linecolor\": \"white\", \"showbackground\": true, \"ticks\": \"\", \"zerolinecolor\": \"white\"}, \"zaxis\": {\"backgroundcolor\": \"#E5ECF6\", \"gridcolor\": \"white\", \"gridwidth\": 2, \"linecolor\": \"white\", \"showbackground\": true, \"ticks\": \"\", \"zerolinecolor\": \"white\"}}, \"shapedefaults\": {\"line\": {\"color\": \"#2a3f5f\"}}, \"ternary\": {\"aaxis\": {\"gridcolor\": \"white\", \"linecolor\": \"white\", \"ticks\": \"\"}, \"baxis\": {\"gridcolor\": \"white\", \"linecolor\": \"white\", \"ticks\": \"\"}, \"bgcolor\": \"#E5ECF6\", \"caxis\": {\"gridcolor\": \"white\", \"linecolor\": \"white\", \"ticks\": \"\"}}, \"title\": {\"x\": 0.05}, \"xaxis\": {\"automargin\": true, \"gridcolor\": \"white\", \"linecolor\": \"white\", \"ticks\": \"\", \"title\": {\"standoff\": 15}, \"zerolinecolor\": \"white\", \"zerolinewidth\": 2}, \"yaxis\": {\"automargin\": true, \"gridcolor\": \"white\", \"linecolor\": \"white\", \"ticks\": \"\", \"title\": {\"standoff\": 15}, \"zerolinecolor\": \"white\", \"zerolinewidth\": 2}}}},\n",
       "                        {\"responsive\": true}\n",
       "                    ).then(function(){\n",
       "                            \n",
       "var gd = document.getElementById('f0afd1d4-a692-42a7-910a-49301b1d9d00');\n",
       "var x = new MutationObserver(function (mutations, observer) {{\n",
       "        var display = window.getComputedStyle(gd).display;\n",
       "        if (!display || display === 'none') {{\n",
       "            console.log([gd, 'removed!']);\n",
       "            Plotly.purge(gd);\n",
       "            observer.disconnect();\n",
       "        }}\n",
       "}});\n",
       "\n",
       "// Listen for the removal of the full notebook cells\n",
       "var notebookContainer = gd.closest('#notebook-container');\n",
       "if (notebookContainer) {{\n",
       "    x.observe(notebookContainer, {childList: true});\n",
       "}}\n",
       "\n",
       "// Listen for the clearing of the current output cell\n",
       "var outputEl = gd.closest('.output');\n",
       "if (outputEl) {{\n",
       "    x.observe(outputEl, {childList: true});\n",
       "}}\n",
       "\n",
       "                        })\n",
       "                };\n",
       "                });\n",
       "            </script>\n",
       "        </div>"
      ]
     },
     "metadata": {},
     "output_type": "display_data"
    }
   ],
   "source": [
    "import plotly.graph_objects as go\n",
    "\n",
    "x = names\n",
    "y = followers\n",
    "x, y = zip(*sorted(zip(x, y)))\n",
    "\n",
    "\n",
    "fig = go.Figure([go.Bar(x=x, y = y)])\n",
    "\n",
    "\n",
    "fig.show()"
   ]
  },
  {
   "cell_type": "code",
   "execution_count": null,
   "metadata": {},
   "outputs": [],
   "source": []
  }
 ],
 "metadata": {
  "kernelspec": {
   "display_name": "Python 3",
   "language": "python",
   "name": "python3"
  },
  "language_info": {
   "codemirror_mode": {
    "name": "ipython",
    "version": 3
   },
   "file_extension": ".py",
   "mimetype": "text/x-python",
   "name": "python",
   "nbconvert_exporter": "python",
   "pygments_lexer": "ipython3",
   "version": "3.7.6"
  }
 },
 "nbformat": 4,
 "nbformat_minor": 4
}
